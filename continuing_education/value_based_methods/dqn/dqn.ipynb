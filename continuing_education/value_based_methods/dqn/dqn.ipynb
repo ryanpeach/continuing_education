{
 "cells": [
  {
   "cell_type": "code",
   "execution_count": 1,
   "metadata": {},
   "outputs": [],
   "source": [
    "%load_ext autoreload\n",
    "%autoreload 2"
   ]
  },
  {
   "cell_type": "code",
   "execution_count": 2,
   "metadata": {},
   "outputs": [],
   "source": [
    "from pathlib import Path\n",
    "\n",
    "if __name__ == \"__main__\":\n",
    "    __this_file = Path().resolve() / \"dqn.ipynb\"  # jupyter does not have __file__"
   ]
  },
  {
   "cell_type": "code",
   "execution_count": 3,
   "metadata": {},
   "outputs": [
    {
     "name": "stdout",
     "output_type": "stream",
     "text": [
      "cuda:0\n"
     ]
    }
   ],
   "source": [
    "import torch\n",
    "\n",
    "DEVICE = torch.device(\"cuda:0\" if torch.cuda.is_available() else \"cpu\")\n",
    "\n",
    "if __name__ == \"__main__\":\n",
    "    print(DEVICE)"
   ]
  },
  {
   "cell_type": "code",
   "execution_count": 4,
   "metadata": {},
   "outputs": [],
   "source": [
    "from torch import nn\n",
    "\n",
    "from continuing_education.policy_gradient_methods.reinforce import collect_episode, SamplePolicy, Action, State, Env, cumulative_discounted_future_rewards\n",
    "import random"
   ]
  },
  {
   "cell_type": "markdown",
   "metadata": {},
   "source": [
    "# Q Learning\n",
    "\n",
    "Lets quickly create a simple Q Learning Agent and test it on cartpole environment."
   ]
  },
  {
   "cell_type": "code",
   "execution_count": 5,
   "metadata": {},
   "outputs": [],
   "source": [
    "\n",
    "from typing import Any\n",
    "\n",
    "class QLearningModel(nn.Module):\n",
    "    def __init__(\n",
    "        self, *, state_size: int, action_size: int, hidden_sizes: list[int]\n",
    "    ) -> None:\n",
    "        \"\"\"\n",
    "        Notice that this is exactly the same as the Policy network from REINFORCE, because\n",
    "        we are still starting from the state and outputting an action. The difference is that\n",
    "        we will not softmax the output, because its not a probability distribution, but rather\n",
    "        a regressor that outputs the Q value of each action.\n",
    "        \"\"\"\n",
    "        super().__init__()\n",
    "        assert len(hidden_sizes) > 0, \"Need at least one hidden layer\"\n",
    "        self.state_size = state_size\n",
    "        self.action_size = action_size\n",
    "        self.hidden_sizes = hidden_sizes\n",
    "\n",
    "        # Dimensions in the network are (batch_size, input_size, output_size)\n",
    "        network: list[nn.Module] = []\n",
    "        network.append(\n",
    "            nn.Linear(state_size, hidden_sizes[0])\n",
    "        )  # Shape: (:, state_size, hidden_sizes[0])\n",
    "        network.append(nn.ReLU())\n",
    "        for i in range(len(hidden_sizes) - 1):\n",
    "            network.append(\n",
    "                nn.Linear(hidden_sizes[i], hidden_sizes[i + 1])\n",
    "            )  # Shape: (:, hidden_sizes[i], hidden_sizes[i+1])\n",
    "            network.append(nn.ReLU())\n",
    "        network.append(\n",
    "            nn.Linear(hidden_sizes[-1], action_size)\n",
    "        )  # Shape: (:, hidden_sizes[-1], action_size)\n",
    "        self.network = nn.Sequential(*network).to(DEVICE)\n",
    "\n",
    "    def forward(self, state: torch.Tensor) -> torch.Tensor:\n",
    "        \"\"\"Takes a state tensor and returns logits along the action space\"\"\"\n",
    "        state = state.to(DEVICE)\n",
    "        return self.network(state)\n",
    "\n",
    "    def act(self, state: State, exploration_rate: float) -> Action:\n",
    "        \"\"\"\n",
    "        Same as the policy network, but instead of softmaxing and sampling, \n",
    "        the network actually is a regressor returning real numbered values, and we are argmaxing over them.\n",
    "        We don't get a log_prob, and we don't pass a temperature, because Q networks cant handle stochastic policies.\n",
    "        We can't use a temperature to control the exploration rate, because the network is not a probability distribution.\n",
    "        However we can randomly choose to explore with a probability of exploration_rate, which will randomly choose an action if a random number is less than exploration_rate.\n",
    "        \"\"\"\n",
    "        # First we got to convert out of numpy and into pytorch\n",
    "        state_tensor = torch.from_numpy(state).float().unsqueeze(0)\n",
    "\n",
    "        # Now we can run the forward pass, whos output is a probability distribution\n",
    "        # along the action space\n",
    "        action_values = self.forward(state_tensor)\n",
    "        assert (\n",
    "            action_values.cpu().shape[-1] == self.action_size\n",
    "        ), \"The output of the network should be a probability distribution over the action space\"\n",
    "\n",
    "        # Now we want to get the action that corresponds to the highest probability\n",
    "        # TODO: We could sample from the pdf instead of taking the greedy argmax\n",
    "        action_idx = torch.argmax(action_values)\n",
    "\n",
    "        # We return the action and the log probability of the action\n",
    "        action_idx_cpu = int(action_idx.item())\n",
    "        if random.random() < exploration_rate:\n",
    "            return Action(action_idx_cpu)"
   ]
  },
  {
   "cell_type": "code",
   "execution_count": 6,
   "metadata": {},
   "outputs": [],
   "source": [
    "from dataclasses import dataclass\n",
    "from collections import deque\n",
    "from typing import NewType\n",
    "\n",
    "@dataclass\n",
    "class SARS:\n",
    "    state: State\n",
    "    action: Action\n",
    "    reward: float\n",
    "    next_state: State\n",
    "    done: bool\n",
    "\n",
    "Trajectory = NewType(\"Trajectory\", list[SARS])"
   ]
  },
  {
   "cell_type": "code",
   "execution_count": 7,
   "metadata": {},
   "outputs": [],
   "source": [
    "from typing import Generator\n",
    "from gym import Env\n",
    "\n",
    "from continuing_education.policy_gradient_methods.reinforce.reinforce import Reward\n",
    "\n",
    "\n",
    "def collect_episode(\n",
    "    *, env: Env, value_network: QLearningModel, max_t: int, exploration_rate: float\n",
    ") -> Generator[Trajectory, None, None]:\n",
    "    \"\"\"2.1 Returns the trajectory of one episode of using the value network.\n",
    "\n",
    "    The output is a list of SARS tuples, where each tuple represents a state, action, reward, next_state tuple.\n",
    "    \"\"\"\n",
    "    state, _ = env.reset()\n",
    "    done = False\n",
    "    for _ in range(max_t):\n",
    "        action = value_network.act(state, exploration_rate=exploration_rate)\n",
    "        next_state, reward, done, _, _ = env.step(action)\n",
    "        yield SARS(\n",
    "            state=State(state),\n",
    "            action=action,\n",
    "            reward=Reward(reward),\n",
    "            next_state=State(next_state),\n",
    "            done=done,\n",
    "        )\n",
    "        state = next_state\n",
    "        if done:\n",
    "            break\n",
    "\n"
   ]
  },
  {
   "cell_type": "code",
   "execution_count": 8,
   "metadata": {},
   "outputs": [],
   "source": [
    "\n",
    "class ActionReplayMemory:\n",
    "    \"\"\"The simplest kind of memory buffer for q learning.\n",
    "    This is a FIFO buffer of a fixed length that stores SAR objects from `continuing_education.policy_gradient_methods.reinforce.collect_episode`.\n",
    "    These SAR objects have been modified already using `continuing_education.policy_gradient_methods.reinforce.cumulative_discounted_future_rewards`\n",
    "    to replace their reward values.\n",
    "    \"\"\"\n",
    "    def __init__(self, max_size: int) -> None:\n",
    "        self.buffer: deque[SARS] = deque(maxlen=max_size)\n",
    "\n",
    "    def push(self, item: SARS) -> None:\n",
    "        self.buffer.append(item)\n",
    "\n",
    "    def sample(self, batch_size: int) -> list[SARS]:\n",
    "        if len(self.buffer) < batch_size:\n",
    "            raise ValueError(\"Not enough samples in the buffer\")\n",
    "        return random.sample(self.buffer, batch_size)\n",
    "\n",
    "    def __len__(self) -> int:\n",
    "        return len(self.buffer)"
   ]
  },
  {
   "cell_type": "markdown",
   "metadata": {},
   "source": [
    "# Train"
   ]
  },
  {
   "cell_type": "code",
   "execution_count": 9,
   "metadata": {},
   "outputs": [],
   "source": [
    "from torch import Tensor\n",
    "from tqdm.notebook import trange\n",
    "import torch.optim as optim\n",
    "\n",
    "def objective(\n",
    "    *,\n",
    "    value_network: QLearningModel,\n",
    "    batch: list[SARS],\n",
    "    gamma: float,\n",
    ") -> Tensor:\n",
    "    \"\"\"The objective function for the DQN algorithm is simple regression loss.\"\"\"\n",
    "    states = torch.tensor([s.state for s in batch]).float().to(DEVICE) # shape (batch_size, state_size)\n",
    "    assert states.shape[1] == value_network.state_size, \"The state size of the value network should match the state size of the batch\"\n",
    "    actions = torch.tensor([s.action for s in batch]).long().to(DEVICE).unsqueeze(1) # shape (batch_size, 1)\n",
    "    assert actions.shape[1] == 1, \"The action should be a scalar value\"\n",
    "    rewards = torch.tensor([s.reward for s in batch]).float().to(DEVICE).unsqueeze(1) # shape (batch_size, 1)\n",
    "    assert rewards.shape[1] == 1, \"The reward should be a scalar value\"\n",
    "    next_states = torch.tensor([s.next_state for s in batch]).float().to(DEVICE) # shape (batch_size, state_size)\n",
    "    assert next_states.shape[1] == value_network.state_size, \"The state size of the value network should match the state size of the batch\"\n",
    "    dones = torch.tensor([s.done for s in batch]).float().to(DEVICE).unsqueeze(1) # shape (batch_size, 1)\n",
    "    assert dones.shape[1] == 1, \"The done should be a scalar value\"\n",
    "\n",
    "    # We are going to use the value network to predict the Q values for the current state\n",
    "    predicted_q_values = value_network.forward(states) # shape (batch_size, action_size)\n",
    "    assert predicted_q_values.shape[0] == len(batch), \"The first dimension of the output should match the batch size\"\n",
    "    assert predicted_q_values.shape[1] == value_network.action_size, \"The output of the network should be the same size as the action space\"\n",
    "    \n",
    "    # We are going to use the value network to predict the Q values for the next state\n",
    "    next_predicted_q_values = value_network.forward(next_states) # shape (batch_size, action_size)\n",
    "    assert next_predicted_q_values.shape[0] == len(batch), \"The first dimension of the output should match the batch size\"\n",
    "    assert next_predicted_q_values.shape[1] == value_network.action_size, \"The output of the network should be the same size as the action space\"\n",
    "\n",
    "    # Generate the Q Loss using the bellman equation\n",
    "    # Q(s, a) = r + gamma * max_a'(Q(s', a'))\n",
    "    next_action_value_predicted = next_predicted_q_values.max(1).values.unsqueeze(1)\n",
    "    bellman = rewards + gamma * next_action_value_predicted * (1.0 - dones)\n",
    "    assert bellman.shape[0] == len(batch), \"The first dimension of the output should match the batch size\"\n",
    "    assert bellman.shape[1] == 1, \"The bellman equation should output a scalar value\"\n",
    "\n",
    "    # We predict the Q values for the current state given the actual action, vs the predicted future rewards from the bellman equation\n",
    "    inp = predicted_q_values.gather(1, actions)\n",
    "    assert inp.shape == bellman.shape, f\"The input and output of the network should have the same shape, got {inp.shape} and {bellman.shape}\"\n",
    "    loss = nn.MSELoss()(inp, bellman)\n",
    "    assert loss.shape == (), \"The loss should be a scalar value\"\n",
    "\n",
    "    return loss"
   ]
  },
  {
   "cell_type": "code",
   "execution_count": 10,
   "metadata": {},
   "outputs": [],
   "source": [
    "def dqn_train(\n",
    "    *,\n",
    "    env: Env,\n",
    "    value_network: QLearningModel,\n",
    "    memory: ActionReplayMemory,\n",
    "    optimizer: optim.Optimizer,\n",
    "    gamma: float,\n",
    "    num_episodes: int,\n",
    "    max_t: int,\n",
    "    batch_size: int,\n",
    "    exploration_rate_decay: float,\n",
    ") -> list[Reward]:\n",
    "    \"\"\"Algorithm 1 REINFORCE\"\"\"\n",
    "    assert gamma <= 1, \"Gamma should be less than or equal to 1\"\n",
    "    assert gamma > 0, \"Gamma should be greater than 0\"\n",
    "    assert num_episodes > 0, \"Number of episodes should be greater than 0\"\n",
    "    exploration_rate = 1.0\n",
    "    scores: list[Reward] = []\n",
    "    for _ in trange(num_episodes):\n",
    "        _scores = []\n",
    "        for sars in collect_episode(\n",
    "            env=env, value_network=value_network, max_t=max_t, exploration_rate=exploration_rate\n",
    "        ):\n",
    "            memory.push(sars)\n",
    "            _scores.append(sars.reward)\n",
    "            if len(memory) > batch_size:\n",
    "                batch = memory.sample(batch_size)\n",
    "                loss = objective(value_network=value_network, batch=batch, gamma=gamma)\n",
    "                optimizer.zero_grad()\n",
    "                loss.backward()\n",
    "                optimizer.step()\n",
    "        scores.append(sum(_scores))\n",
    "\n",
    "    return scores"
   ]
  },
  {
   "cell_type": "code",
   "execution_count": 11,
   "metadata": {},
   "outputs": [
    {
     "data": {
      "application/vnd.jupyter.widget-view+json": {
       "model_id": "c4935e43c6914b73902e805a5e65d6f4",
       "version_major": 2,
       "version_minor": 0
      },
      "text/plain": [
       "  0%|          | 0/100 [00:00<?, ?it/s]"
      ]
     },
     "metadata": {},
     "output_type": "display_data"
    },
    {
     "name": "stderr",
     "output_type": "stream",
     "text": [
      "/tmp/ipykernel_33947/1490079705.py:12: UserWarning: Creating a tensor from a list of numpy.ndarrays is extremely slow. Please consider converting the list to a single numpy.ndarray with numpy.array() before converting to a tensor. (Triggered internally at ../torch/csrc/utils/tensor_new.cpp:275.)\n",
      "  states = torch.tensor([s.state for s in batch]).float().to(DEVICE) # shape (batch_size, state_size)\n"
     ]
    },
    {
     "name": "stdout",
     "output_type": "stream",
     "text": [
      "test_reinforce_train passed\n"
     ]
    },
    {
     "data": {
      "application/vnd.jupyter.widget-view+json": {
       "model_id": "05fd08e0ee4b4df1b92e0cabe181f30e",
       "version_major": 2,
       "version_minor": 0
      },
      "text/plain": [
       "  0%|          | 0/100 [00:00<?, ?it/s]"
      ]
     },
     "metadata": {},
     "output_type": "display_data"
    },
    {
     "name": "stdout",
     "output_type": "stream",
     "text": [
      "test_reinforce_train passed\n"
     ]
    },
    {
     "data": {
      "application/vnd.jupyter.widget-view+json": {
       "model_id": "602e205bd49a46a8a057702cae7d9665",
       "version_major": 2,
       "version_minor": 0
      },
      "text/plain": [
       "  0%|          | 0/100 [00:00<?, ?it/s]"
      ]
     },
     "metadata": {},
     "output_type": "display_data"
    },
    {
     "name": "stdout",
     "output_type": "stream",
     "text": [
      "test_reinforce_train passed\n"
     ]
    }
   ],
   "source": [
    "from continuing_education.policy_gradient_methods.reinforce.reinforce import MockEnv\n",
    "\n",
    "\n",
    "def test_reinforce_train() -> None:\n",
    "    \"\"\"Test the reinforce training loop on the mock environment.\"\"\"\n",
    "    env = MockEnv(max_steps=10)\n",
    "    value_network = QLearningModel(state_size=1, action_size=2, hidden_sizes=[16])\n",
    "    optimizer = optim.Adam(value_network.parameters(), lr=1e-2)\n",
    "    memory = ActionReplayMemory(max_size=1000)\n",
    "    scores = dqn_train(\n",
    "        env=env,\n",
    "        value_network=value_network,\n",
    "        optimizer=optimizer,\n",
    "        memory=memory,\n",
    "        gamma=0.999999999,\n",
    "        num_episodes=100,\n",
    "        max_t=10,\n",
    "        batch_size=50,\n",
    "        exploration_rate_decay=0.99,\n",
    "    )\n",
    "    assert all(\n",
    "        [score == 10 for score in scores[90:]]\n",
    "    ), \"The last 10 scores should be 10\"\n",
    "\n",
    "\n",
    "if __name__ == \"__main__\":\n",
    "    for _ in range(3):\n",
    "        test_reinforce_train()\n",
    "        print(\"test_reinforce_train passed\")"
   ]
  },
  {
   "cell_type": "code",
   "execution_count": 12,
   "metadata": {},
   "outputs": [
    {
     "name": "stdout",
     "output_type": "stream",
     "text": [
      "State size: (4,)\n",
      "Action size: 2\n",
      "Example state: (array([-0.03705777, -0.02275318, -0.03827413, -0.0251943 ], dtype=float32), {})\n",
      "Action return: (array([-0.03751284,  0.17289616, -0.03877802, -0.32970324], dtype=float32), 1.0, False, False, {})\n"
     ]
    },
    {
     "name": "stderr",
     "output_type": "stream",
     "text": [
      "/home/ryanpeach/.pyenv/versions/3.11.6/envs/continuing_education/lib/python3.11/site-packages/gym/utils/passive_env_checker.py:233: DeprecationWarning: `np.bool8` is a deprecated alias for `np.bool_`.  (Deprecated NumPy 1.24)\n",
      "  if not isinstance(terminated, (bool, np.bool8)):\n"
     ]
    }
   ],
   "source": [
    "from continuing_education.policy_gradient_methods.reinforce.reinforce import get_environment_space\n",
    "\n",
    "\n",
    "if __name__ == \"__main__\":\n",
    "    OBSERVATION_SPACE_SHAPE, ACTION_SPACE_SIZE = get_environment_space(\"CartPole-v1\")"
   ]
  },
  {
   "cell_type": "code",
   "execution_count": 23,
   "metadata": {},
   "outputs": [
    {
     "data": {
      "application/vnd.jupyter.widget-view+json": {
       "model_id": "2e4cc2755aab4e37b5a4153e4680442d",
       "version_major": 2,
       "version_minor": 0
      },
      "text/plain": [
       "  0%|          | 0/100 [00:00<?, ?it/s]"
      ]
     },
     "metadata": {},
     "output_type": "display_data"
    },
    {
     "data": {
      "application/vnd.plotly.v1+json": {
       "config": {
        "plotlyServerURL": "https://plot.ly"
       },
       "data": [
        {
         "mode": "lines",
         "name": "Exploration Rate",
         "type": "scatter",
         "x": [
          0,
          1,
          2,
          3,
          4,
          5,
          6,
          7,
          8,
          9,
          10,
          11,
          12,
          13,
          14,
          15,
          16,
          17,
          18,
          19,
          20,
          21,
          22,
          23,
          24,
          25,
          26,
          27,
          28,
          29,
          30,
          31,
          32,
          33,
          34,
          35,
          36,
          37,
          38,
          39,
          40,
          41,
          42,
          43,
          44,
          45,
          46,
          47,
          48,
          49,
          50,
          51,
          52,
          53,
          54,
          55,
          56,
          57,
          58,
          59,
          60,
          61,
          62,
          63,
          64,
          65,
          66,
          67,
          68,
          69,
          70,
          71,
          72,
          73,
          74,
          75,
          76,
          77,
          78,
          79,
          80,
          81,
          82,
          83,
          84,
          85,
          86,
          87,
          88,
          89,
          90,
          91,
          92,
          93,
          94,
          95,
          96,
          97,
          98,
          99
         ],
         "xaxis": "x",
         "y": [
          1,
          0.995,
          0.990025,
          0.985074875,
          0.9801495006250001,
          0.9752487531218751,
          0.9703725093562657,
          0.9655206468094844,
          0.960693043575437,
          0.9558895783575597,
          0.9511101304657719,
          0.946354579813443,
          0.9416228069143757,
          0.9369146928798039,
          0.9322301194154049,
          0.9275689688183278,
          0.9229311239742362,
          0.918316468354365,
          0.9137248860125932,
          0.9091562615825302,
          0.9046104802746175,
          0.9000874278732445,
          0.8955869907338783,
          0.8911090557802088,
          0.8866535105013078,
          0.8822202429488013,
          0.8778091417340573,
          0.8734200960253871,
          0.8690529955452602,
          0.8647077305675338,
          0.8603841919146962,
          0.8560822709551227,
          0.851801859600347,
          0.8475428503023453,
          0.8433051360508336,
          0.8390886103705794,
          0.8348931673187264,
          0.8307187014821328,
          0.8265651079747222,
          0.8224322824348486,
          0.8183201210226743,
          0.8142285204175609,
          0.810157377815473,
          0.8061065909263957,
          0.8020760579717637,
          0.798065677681905,
          0.7940753492934954,
          0.7901049725470279,
          0.7861544476842928,
          0.7822236754458713,
          0.778312557068642,
          0.7744209942832988,
          0.7705488893118823,
          0.7666961448653229,
          0.7628626641409962,
          0.7590483508202912,
          0.7552531090661897,
          0.7514768435208588,
          0.7477194593032545,
          0.7439808620067382,
          0.7402609576967045,
          0.736559652908221,
          0.7328768546436799,
          0.7292124703704616,
          0.7255664080186093,
          0.7219385759785162,
          0.7183288830986236,
          0.7147372386831305,
          0.7111635524897149,
          0.7076077347272662,
          0.7040696960536299,
          0.7005493475733617,
          0.697046600835495,
          0.6935613678313175,
          0.6900935609921609,
          0.6866430931872001,
          0.6832098777212641,
          0.6797938283326578,
          0.6763948591909945,
          0.6730128848950395,
          0.6696478204705644,
          0.6662995813682115,
          0.6629680834613705,
          0.6596532430440636,
          0.6563549768288433,
          0.653073201944699,
          0.6498078359349755,
          0.6465587967553006,
          0.6433260027715241,
          0.6401093727576664,
          0.6369088258938781,
          0.6337242817644086,
          0.6305556603555866,
          0.6274028820538087,
          0.6242658676435396,
          0.6211445383053219,
          0.6180388156137953,
          0.6149486215357263,
          0.6118738784280476,
          0.6088145090359074
         ],
         "yaxis": "y2"
        },
        {
         "mode": "lines",
         "name": "Score",
         "type": "scatter",
         "x": [
          0,
          1,
          2,
          3,
          4,
          5,
          6,
          7,
          8,
          9,
          10,
          11,
          12,
          13,
          14,
          15,
          16,
          17,
          18,
          19,
          20,
          21,
          22,
          23,
          24,
          25,
          26,
          27,
          28,
          29,
          30,
          31,
          32,
          33,
          34,
          35,
          36,
          37,
          38,
          39,
          40,
          41,
          42,
          43,
          44,
          45,
          46,
          47,
          48,
          49,
          50,
          51,
          52,
          53,
          54,
          55,
          56,
          57,
          58,
          59,
          60,
          61,
          62,
          63,
          64,
          65,
          66,
          67,
          68,
          69,
          70,
          71,
          72,
          73,
          74,
          75,
          76,
          77,
          78,
          79,
          80,
          81,
          82,
          83,
          84,
          85,
          86,
          87,
          88,
          89,
          90,
          91,
          92,
          93,
          94,
          95,
          96,
          97,
          98,
          99
         ],
         "xaxis": "x",
         "y": [
          9,
          11,
          10,
          11,
          11,
          8,
          10,
          9,
          9,
          8,
          9,
          9,
          10,
          10,
          9,
          10,
          8,
          10,
          10,
          10,
          9,
          10,
          10,
          9,
          8,
          10,
          9,
          9,
          9,
          10,
          10,
          10,
          10,
          9,
          10,
          9,
          9,
          9,
          10,
          10,
          10,
          10,
          8,
          10,
          10,
          10,
          9,
          10,
          9,
          10,
          10,
          10,
          10,
          9,
          8,
          8,
          10,
          9,
          8,
          10,
          9,
          10,
          9,
          10,
          9,
          10,
          10,
          9,
          9,
          10,
          10,
          9,
          8,
          10,
          8,
          10,
          9,
          9,
          10,
          10,
          10,
          10,
          10,
          9,
          10,
          9,
          9,
          10,
          9,
          10,
          8,
          11,
          10,
          9,
          10,
          8,
          10,
          9,
          10,
          9
         ],
         "yaxis": "y"
        }
       ],
       "layout": {
        "template": {
         "data": {
          "bar": [
           {
            "error_x": {
             "color": "#2a3f5f"
            },
            "error_y": {
             "color": "#2a3f5f"
            },
            "marker": {
             "line": {
              "color": "#E5ECF6",
              "width": 0.5
             },
             "pattern": {
              "fillmode": "overlay",
              "size": 10,
              "solidity": 0.2
             }
            },
            "type": "bar"
           }
          ],
          "barpolar": [
           {
            "marker": {
             "line": {
              "color": "#E5ECF6",
              "width": 0.5
             },
             "pattern": {
              "fillmode": "overlay",
              "size": 10,
              "solidity": 0.2
             }
            },
            "type": "barpolar"
           }
          ],
          "carpet": [
           {
            "aaxis": {
             "endlinecolor": "#2a3f5f",
             "gridcolor": "white",
             "linecolor": "white",
             "minorgridcolor": "white",
             "startlinecolor": "#2a3f5f"
            },
            "baxis": {
             "endlinecolor": "#2a3f5f",
             "gridcolor": "white",
             "linecolor": "white",
             "minorgridcolor": "white",
             "startlinecolor": "#2a3f5f"
            },
            "type": "carpet"
           }
          ],
          "choropleth": [
           {
            "colorbar": {
             "outlinewidth": 0,
             "ticks": ""
            },
            "type": "choropleth"
           }
          ],
          "contour": [
           {
            "colorbar": {
             "outlinewidth": 0,
             "ticks": ""
            },
            "colorscale": [
             [
              0,
              "#0d0887"
             ],
             [
              0.1111111111111111,
              "#46039f"
             ],
             [
              0.2222222222222222,
              "#7201a8"
             ],
             [
              0.3333333333333333,
              "#9c179e"
             ],
             [
              0.4444444444444444,
              "#bd3786"
             ],
             [
              0.5555555555555556,
              "#d8576b"
             ],
             [
              0.6666666666666666,
              "#ed7953"
             ],
             [
              0.7777777777777778,
              "#fb9f3a"
             ],
             [
              0.8888888888888888,
              "#fdca26"
             ],
             [
              1,
              "#f0f921"
             ]
            ],
            "type": "contour"
           }
          ],
          "contourcarpet": [
           {
            "colorbar": {
             "outlinewidth": 0,
             "ticks": ""
            },
            "type": "contourcarpet"
           }
          ],
          "heatmap": [
           {
            "colorbar": {
             "outlinewidth": 0,
             "ticks": ""
            },
            "colorscale": [
             [
              0,
              "#0d0887"
             ],
             [
              0.1111111111111111,
              "#46039f"
             ],
             [
              0.2222222222222222,
              "#7201a8"
             ],
             [
              0.3333333333333333,
              "#9c179e"
             ],
             [
              0.4444444444444444,
              "#bd3786"
             ],
             [
              0.5555555555555556,
              "#d8576b"
             ],
             [
              0.6666666666666666,
              "#ed7953"
             ],
             [
              0.7777777777777778,
              "#fb9f3a"
             ],
             [
              0.8888888888888888,
              "#fdca26"
             ],
             [
              1,
              "#f0f921"
             ]
            ],
            "type": "heatmap"
           }
          ],
          "heatmapgl": [
           {
            "colorbar": {
             "outlinewidth": 0,
             "ticks": ""
            },
            "colorscale": [
             [
              0,
              "#0d0887"
             ],
             [
              0.1111111111111111,
              "#46039f"
             ],
             [
              0.2222222222222222,
              "#7201a8"
             ],
             [
              0.3333333333333333,
              "#9c179e"
             ],
             [
              0.4444444444444444,
              "#bd3786"
             ],
             [
              0.5555555555555556,
              "#d8576b"
             ],
             [
              0.6666666666666666,
              "#ed7953"
             ],
             [
              0.7777777777777778,
              "#fb9f3a"
             ],
             [
              0.8888888888888888,
              "#fdca26"
             ],
             [
              1,
              "#f0f921"
             ]
            ],
            "type": "heatmapgl"
           }
          ],
          "histogram": [
           {
            "marker": {
             "pattern": {
              "fillmode": "overlay",
              "size": 10,
              "solidity": 0.2
             }
            },
            "type": "histogram"
           }
          ],
          "histogram2d": [
           {
            "colorbar": {
             "outlinewidth": 0,
             "ticks": ""
            },
            "colorscale": [
             [
              0,
              "#0d0887"
             ],
             [
              0.1111111111111111,
              "#46039f"
             ],
             [
              0.2222222222222222,
              "#7201a8"
             ],
             [
              0.3333333333333333,
              "#9c179e"
             ],
             [
              0.4444444444444444,
              "#bd3786"
             ],
             [
              0.5555555555555556,
              "#d8576b"
             ],
             [
              0.6666666666666666,
              "#ed7953"
             ],
             [
              0.7777777777777778,
              "#fb9f3a"
             ],
             [
              0.8888888888888888,
              "#fdca26"
             ],
             [
              1,
              "#f0f921"
             ]
            ],
            "type": "histogram2d"
           }
          ],
          "histogram2dcontour": [
           {
            "colorbar": {
             "outlinewidth": 0,
             "ticks": ""
            },
            "colorscale": [
             [
              0,
              "#0d0887"
             ],
             [
              0.1111111111111111,
              "#46039f"
             ],
             [
              0.2222222222222222,
              "#7201a8"
             ],
             [
              0.3333333333333333,
              "#9c179e"
             ],
             [
              0.4444444444444444,
              "#bd3786"
             ],
             [
              0.5555555555555556,
              "#d8576b"
             ],
             [
              0.6666666666666666,
              "#ed7953"
             ],
             [
              0.7777777777777778,
              "#fb9f3a"
             ],
             [
              0.8888888888888888,
              "#fdca26"
             ],
             [
              1,
              "#f0f921"
             ]
            ],
            "type": "histogram2dcontour"
           }
          ],
          "mesh3d": [
           {
            "colorbar": {
             "outlinewidth": 0,
             "ticks": ""
            },
            "type": "mesh3d"
           }
          ],
          "parcoords": [
           {
            "line": {
             "colorbar": {
              "outlinewidth": 0,
              "ticks": ""
             }
            },
            "type": "parcoords"
           }
          ],
          "pie": [
           {
            "automargin": true,
            "type": "pie"
           }
          ],
          "scatter": [
           {
            "fillpattern": {
             "fillmode": "overlay",
             "size": 10,
             "solidity": 0.2
            },
            "type": "scatter"
           }
          ],
          "scatter3d": [
           {
            "line": {
             "colorbar": {
              "outlinewidth": 0,
              "ticks": ""
             }
            },
            "marker": {
             "colorbar": {
              "outlinewidth": 0,
              "ticks": ""
             }
            },
            "type": "scatter3d"
           }
          ],
          "scattercarpet": [
           {
            "marker": {
             "colorbar": {
              "outlinewidth": 0,
              "ticks": ""
             }
            },
            "type": "scattercarpet"
           }
          ],
          "scattergeo": [
           {
            "marker": {
             "colorbar": {
              "outlinewidth": 0,
              "ticks": ""
             }
            },
            "type": "scattergeo"
           }
          ],
          "scattergl": [
           {
            "marker": {
             "colorbar": {
              "outlinewidth": 0,
              "ticks": ""
             }
            },
            "type": "scattergl"
           }
          ],
          "scattermapbox": [
           {
            "marker": {
             "colorbar": {
              "outlinewidth": 0,
              "ticks": ""
             }
            },
            "type": "scattermapbox"
           }
          ],
          "scatterpolar": [
           {
            "marker": {
             "colorbar": {
              "outlinewidth": 0,
              "ticks": ""
             }
            },
            "type": "scatterpolar"
           }
          ],
          "scatterpolargl": [
           {
            "marker": {
             "colorbar": {
              "outlinewidth": 0,
              "ticks": ""
             }
            },
            "type": "scatterpolargl"
           }
          ],
          "scatterternary": [
           {
            "marker": {
             "colorbar": {
              "outlinewidth": 0,
              "ticks": ""
             }
            },
            "type": "scatterternary"
           }
          ],
          "surface": [
           {
            "colorbar": {
             "outlinewidth": 0,
             "ticks": ""
            },
            "colorscale": [
             [
              0,
              "#0d0887"
             ],
             [
              0.1111111111111111,
              "#46039f"
             ],
             [
              0.2222222222222222,
              "#7201a8"
             ],
             [
              0.3333333333333333,
              "#9c179e"
             ],
             [
              0.4444444444444444,
              "#bd3786"
             ],
             [
              0.5555555555555556,
              "#d8576b"
             ],
             [
              0.6666666666666666,
              "#ed7953"
             ],
             [
              0.7777777777777778,
              "#fb9f3a"
             ],
             [
              0.8888888888888888,
              "#fdca26"
             ],
             [
              1,
              "#f0f921"
             ]
            ],
            "type": "surface"
           }
          ],
          "table": [
           {
            "cells": {
             "fill": {
              "color": "#EBF0F8"
             },
             "line": {
              "color": "white"
             }
            },
            "header": {
             "fill": {
              "color": "#C8D4E3"
             },
             "line": {
              "color": "white"
             }
            },
            "type": "table"
           }
          ]
         },
         "layout": {
          "annotationdefaults": {
           "arrowcolor": "#2a3f5f",
           "arrowhead": 0,
           "arrowwidth": 1
          },
          "autotypenumbers": "strict",
          "coloraxis": {
           "colorbar": {
            "outlinewidth": 0,
            "ticks": ""
           }
          },
          "colorscale": {
           "diverging": [
            [
             0,
             "#8e0152"
            ],
            [
             0.1,
             "#c51b7d"
            ],
            [
             0.2,
             "#de77ae"
            ],
            [
             0.3,
             "#f1b6da"
            ],
            [
             0.4,
             "#fde0ef"
            ],
            [
             0.5,
             "#f7f7f7"
            ],
            [
             0.6,
             "#e6f5d0"
            ],
            [
             0.7,
             "#b8e186"
            ],
            [
             0.8,
             "#7fbc41"
            ],
            [
             0.9,
             "#4d9221"
            ],
            [
             1,
             "#276419"
            ]
           ],
           "sequential": [
            [
             0,
             "#0d0887"
            ],
            [
             0.1111111111111111,
             "#46039f"
            ],
            [
             0.2222222222222222,
             "#7201a8"
            ],
            [
             0.3333333333333333,
             "#9c179e"
            ],
            [
             0.4444444444444444,
             "#bd3786"
            ],
            [
             0.5555555555555556,
             "#d8576b"
            ],
            [
             0.6666666666666666,
             "#ed7953"
            ],
            [
             0.7777777777777778,
             "#fb9f3a"
            ],
            [
             0.8888888888888888,
             "#fdca26"
            ],
            [
             1,
             "#f0f921"
            ]
           ],
           "sequentialminus": [
            [
             0,
             "#0d0887"
            ],
            [
             0.1111111111111111,
             "#46039f"
            ],
            [
             0.2222222222222222,
             "#7201a8"
            ],
            [
             0.3333333333333333,
             "#9c179e"
            ],
            [
             0.4444444444444444,
             "#bd3786"
            ],
            [
             0.5555555555555556,
             "#d8576b"
            ],
            [
             0.6666666666666666,
             "#ed7953"
            ],
            [
             0.7777777777777778,
             "#fb9f3a"
            ],
            [
             0.8888888888888888,
             "#fdca26"
            ],
            [
             1,
             "#f0f921"
            ]
           ]
          },
          "colorway": [
           "#636efa",
           "#EF553B",
           "#00cc96",
           "#ab63fa",
           "#FFA15A",
           "#19d3f3",
           "#FF6692",
           "#B6E880",
           "#FF97FF",
           "#FECB52"
          ],
          "font": {
           "color": "#2a3f5f"
          },
          "geo": {
           "bgcolor": "white",
           "lakecolor": "white",
           "landcolor": "#E5ECF6",
           "showlakes": true,
           "showland": true,
           "subunitcolor": "white"
          },
          "hoverlabel": {
           "align": "left"
          },
          "hovermode": "closest",
          "mapbox": {
           "style": "light"
          },
          "paper_bgcolor": "white",
          "plot_bgcolor": "#E5ECF6",
          "polar": {
           "angularaxis": {
            "gridcolor": "white",
            "linecolor": "white",
            "ticks": ""
           },
           "bgcolor": "#E5ECF6",
           "radialaxis": {
            "gridcolor": "white",
            "linecolor": "white",
            "ticks": ""
           }
          },
          "scene": {
           "xaxis": {
            "backgroundcolor": "#E5ECF6",
            "gridcolor": "white",
            "gridwidth": 2,
            "linecolor": "white",
            "showbackground": true,
            "ticks": "",
            "zerolinecolor": "white"
           },
           "yaxis": {
            "backgroundcolor": "#E5ECF6",
            "gridcolor": "white",
            "gridwidth": 2,
            "linecolor": "white",
            "showbackground": true,
            "ticks": "",
            "zerolinecolor": "white"
           },
           "zaxis": {
            "backgroundcolor": "#E5ECF6",
            "gridcolor": "white",
            "gridwidth": 2,
            "linecolor": "white",
            "showbackground": true,
            "ticks": "",
            "zerolinecolor": "white"
           }
          },
          "shapedefaults": {
           "line": {
            "color": "#2a3f5f"
           }
          },
          "ternary": {
           "aaxis": {
            "gridcolor": "white",
            "linecolor": "white",
            "ticks": ""
           },
           "baxis": {
            "gridcolor": "white",
            "linecolor": "white",
            "ticks": ""
           },
           "bgcolor": "#E5ECF6",
           "caxis": {
            "gridcolor": "white",
            "linecolor": "white",
            "ticks": ""
           }
          },
          "title": {
           "x": 0.05
          },
          "xaxis": {
           "automargin": true,
           "gridcolor": "white",
           "linecolor": "white",
           "ticks": "",
           "title": {
            "standoff": 15
           },
           "zerolinecolor": "white",
           "zerolinewidth": 2
          },
          "yaxis": {
           "automargin": true,
           "gridcolor": "white",
           "linecolor": "white",
           "ticks": "",
           "title": {
            "standoff": 15
           },
           "zerolinecolor": "white",
           "zerolinewidth": 2
          }
         }
        },
        "title": {
         "text": "DQN Training"
        },
        "xaxis": {
         "anchor": "y",
         "domain": [
          0,
          0.94
         ],
         "title": {
          "text": "Episode"
         }
        },
        "yaxis": {
         "anchor": "x",
         "domain": [
          0,
          1
         ],
         "title": {
          "text": "Score"
         }
        },
        "yaxis2": {
         "anchor": "x",
         "overlaying": "y",
         "side": "right",
         "title": {
          "text": "Exploration Rate"
         }
        }
       }
      }
     },
     "metadata": {},
     "output_type": "display_data"
    },
    {
     "data": {
      "application/vnd.jupyter.widget-view+json": {
       "model_id": "0421260f1aab4e86938357b280998592",
       "version_major": 2,
       "version_minor": 0
      },
      "text/plain": [
       "  0%|          | 0/100 [00:00<?, ?it/s]"
      ]
     },
     "metadata": {},
     "output_type": "display_data"
    },
    {
     "data": {
      "application/vnd.plotly.v1+json": {
       "config": {
        "plotlyServerURL": "https://plot.ly"
       },
       "data": [
        {
         "mode": "lines",
         "name": "Exploration Rate",
         "type": "scatter",
         "x": [
          0,
          1,
          2,
          3,
          4,
          5,
          6,
          7,
          8,
          9,
          10,
          11,
          12,
          13,
          14,
          15,
          16,
          17,
          18,
          19,
          20,
          21,
          22,
          23,
          24,
          25,
          26,
          27,
          28,
          29,
          30,
          31,
          32,
          33,
          34,
          35,
          36,
          37,
          38,
          39,
          40,
          41,
          42,
          43,
          44,
          45,
          46,
          47,
          48,
          49,
          50,
          51,
          52,
          53,
          54,
          55,
          56,
          57,
          58,
          59,
          60,
          61,
          62,
          63,
          64,
          65,
          66,
          67,
          68,
          69,
          70,
          71,
          72,
          73,
          74,
          75,
          76,
          77,
          78,
          79,
          80,
          81,
          82,
          83,
          84,
          85,
          86,
          87,
          88,
          89,
          90,
          91,
          92,
          93,
          94,
          95,
          96,
          97,
          98,
          99
         ],
         "xaxis": "x",
         "y": [
          1,
          0.995,
          0.990025,
          0.985074875,
          0.9801495006250001,
          0.9752487531218751,
          0.9703725093562657,
          0.9655206468094844,
          0.960693043575437,
          0.9558895783575597,
          0.9511101304657719,
          0.946354579813443,
          0.9416228069143757,
          0.9369146928798039,
          0.9322301194154049,
          0.9275689688183278,
          0.9229311239742362,
          0.918316468354365,
          0.9137248860125932,
          0.9091562615825302,
          0.9046104802746175,
          0.9000874278732445,
          0.8955869907338783,
          0.8911090557802088,
          0.8866535105013078,
          0.8822202429488013,
          0.8778091417340573,
          0.8734200960253871,
          0.8690529955452602,
          0.8647077305675338,
          0.8603841919146962,
          0.8560822709551227,
          0.851801859600347,
          0.8475428503023453,
          0.8433051360508336,
          0.8390886103705794,
          0.8348931673187264,
          0.8307187014821328,
          0.8265651079747222,
          0.8224322824348486,
          0.8183201210226743,
          0.8142285204175609,
          0.810157377815473,
          0.8061065909263957,
          0.8020760579717637,
          0.798065677681905,
          0.7940753492934954,
          0.7901049725470279,
          0.7861544476842928,
          0.7822236754458713,
          0.778312557068642,
          0.7744209942832988,
          0.7705488893118823,
          0.7666961448653229,
          0.7628626641409962,
          0.7590483508202912,
          0.7552531090661897,
          0.7514768435208588,
          0.7477194593032545,
          0.7439808620067382,
          0.7402609576967045,
          0.736559652908221,
          0.7328768546436799,
          0.7292124703704616,
          0.7255664080186093,
          0.7219385759785162,
          0.7183288830986236,
          0.7147372386831305,
          0.7111635524897149,
          0.7076077347272662,
          0.7040696960536299,
          0.7005493475733617,
          0.697046600835495,
          0.6935613678313175,
          0.6900935609921609,
          0.6866430931872001,
          0.6832098777212641,
          0.6797938283326578,
          0.6763948591909945,
          0.6730128848950395,
          0.6696478204705644,
          0.6662995813682115,
          0.6629680834613705,
          0.6596532430440636,
          0.6563549768288433,
          0.653073201944699,
          0.6498078359349755,
          0.6465587967553006,
          0.6433260027715241,
          0.6401093727576664,
          0.6369088258938781,
          0.6337242817644086,
          0.6305556603555866,
          0.6274028820538087,
          0.6242658676435396,
          0.6211445383053219,
          0.6180388156137953,
          0.6149486215357263,
          0.6118738784280476,
          0.6088145090359074
         ],
         "yaxis": "y2"
        },
        {
         "mode": "lines",
         "name": "Score",
         "type": "scatter",
         "x": [
          0,
          1,
          2,
          3,
          4,
          5,
          6,
          7,
          8,
          9,
          10,
          11,
          12,
          13,
          14,
          15,
          16,
          17,
          18,
          19,
          20,
          21,
          22,
          23,
          24,
          25,
          26,
          27,
          28,
          29,
          30,
          31,
          32,
          33,
          34,
          35,
          36,
          37,
          38,
          39,
          40,
          41,
          42,
          43,
          44,
          45,
          46,
          47,
          48,
          49,
          50,
          51,
          52,
          53,
          54,
          55,
          56,
          57,
          58,
          59,
          60,
          61,
          62,
          63,
          64,
          65,
          66,
          67,
          68,
          69,
          70,
          71,
          72,
          73,
          74,
          75,
          76,
          77,
          78,
          79,
          80,
          81,
          82,
          83,
          84,
          85,
          86,
          87,
          88,
          89,
          90,
          91,
          92,
          93,
          94,
          95,
          96,
          97,
          98,
          99
         ],
         "xaxis": "x",
         "y": [
          9,
          8,
          10,
          9,
          9,
          8,
          10,
          9,
          10,
          9,
          10,
          10,
          9,
          10,
          10,
          9,
          9,
          9,
          8,
          8,
          10,
          10,
          9,
          10,
          8,
          9,
          10,
          10,
          9,
          9,
          10,
          9,
          9,
          8,
          9,
          9,
          10,
          9,
          9,
          10,
          10,
          10,
          9,
          11,
          10,
          10,
          10,
          9,
          8,
          10,
          9,
          10,
          10,
          9,
          11,
          10,
          8,
          10,
          9,
          9,
          11,
          10,
          9,
          8,
          10,
          9,
          10,
          9,
          9,
          9,
          10,
          9,
          10,
          11,
          10,
          9,
          9,
          9,
          10,
          9,
          10,
          9,
          10,
          10,
          8,
          10,
          10,
          10,
          10,
          8,
          9,
          10,
          9,
          10,
          9,
          10,
          9,
          10,
          10,
          10
         ],
         "yaxis": "y"
        }
       ],
       "layout": {
        "template": {
         "data": {
          "bar": [
           {
            "error_x": {
             "color": "#2a3f5f"
            },
            "error_y": {
             "color": "#2a3f5f"
            },
            "marker": {
             "line": {
              "color": "#E5ECF6",
              "width": 0.5
             },
             "pattern": {
              "fillmode": "overlay",
              "size": 10,
              "solidity": 0.2
             }
            },
            "type": "bar"
           }
          ],
          "barpolar": [
           {
            "marker": {
             "line": {
              "color": "#E5ECF6",
              "width": 0.5
             },
             "pattern": {
              "fillmode": "overlay",
              "size": 10,
              "solidity": 0.2
             }
            },
            "type": "barpolar"
           }
          ],
          "carpet": [
           {
            "aaxis": {
             "endlinecolor": "#2a3f5f",
             "gridcolor": "white",
             "linecolor": "white",
             "minorgridcolor": "white",
             "startlinecolor": "#2a3f5f"
            },
            "baxis": {
             "endlinecolor": "#2a3f5f",
             "gridcolor": "white",
             "linecolor": "white",
             "minorgridcolor": "white",
             "startlinecolor": "#2a3f5f"
            },
            "type": "carpet"
           }
          ],
          "choropleth": [
           {
            "colorbar": {
             "outlinewidth": 0,
             "ticks": ""
            },
            "type": "choropleth"
           }
          ],
          "contour": [
           {
            "colorbar": {
             "outlinewidth": 0,
             "ticks": ""
            },
            "colorscale": [
             [
              0,
              "#0d0887"
             ],
             [
              0.1111111111111111,
              "#46039f"
             ],
             [
              0.2222222222222222,
              "#7201a8"
             ],
             [
              0.3333333333333333,
              "#9c179e"
             ],
             [
              0.4444444444444444,
              "#bd3786"
             ],
             [
              0.5555555555555556,
              "#d8576b"
             ],
             [
              0.6666666666666666,
              "#ed7953"
             ],
             [
              0.7777777777777778,
              "#fb9f3a"
             ],
             [
              0.8888888888888888,
              "#fdca26"
             ],
             [
              1,
              "#f0f921"
             ]
            ],
            "type": "contour"
           }
          ],
          "contourcarpet": [
           {
            "colorbar": {
             "outlinewidth": 0,
             "ticks": ""
            },
            "type": "contourcarpet"
           }
          ],
          "heatmap": [
           {
            "colorbar": {
             "outlinewidth": 0,
             "ticks": ""
            },
            "colorscale": [
             [
              0,
              "#0d0887"
             ],
             [
              0.1111111111111111,
              "#46039f"
             ],
             [
              0.2222222222222222,
              "#7201a8"
             ],
             [
              0.3333333333333333,
              "#9c179e"
             ],
             [
              0.4444444444444444,
              "#bd3786"
             ],
             [
              0.5555555555555556,
              "#d8576b"
             ],
             [
              0.6666666666666666,
              "#ed7953"
             ],
             [
              0.7777777777777778,
              "#fb9f3a"
             ],
             [
              0.8888888888888888,
              "#fdca26"
             ],
             [
              1,
              "#f0f921"
             ]
            ],
            "type": "heatmap"
           }
          ],
          "heatmapgl": [
           {
            "colorbar": {
             "outlinewidth": 0,
             "ticks": ""
            },
            "colorscale": [
             [
              0,
              "#0d0887"
             ],
             [
              0.1111111111111111,
              "#46039f"
             ],
             [
              0.2222222222222222,
              "#7201a8"
             ],
             [
              0.3333333333333333,
              "#9c179e"
             ],
             [
              0.4444444444444444,
              "#bd3786"
             ],
             [
              0.5555555555555556,
              "#d8576b"
             ],
             [
              0.6666666666666666,
              "#ed7953"
             ],
             [
              0.7777777777777778,
              "#fb9f3a"
             ],
             [
              0.8888888888888888,
              "#fdca26"
             ],
             [
              1,
              "#f0f921"
             ]
            ],
            "type": "heatmapgl"
           }
          ],
          "histogram": [
           {
            "marker": {
             "pattern": {
              "fillmode": "overlay",
              "size": 10,
              "solidity": 0.2
             }
            },
            "type": "histogram"
           }
          ],
          "histogram2d": [
           {
            "colorbar": {
             "outlinewidth": 0,
             "ticks": ""
            },
            "colorscale": [
             [
              0,
              "#0d0887"
             ],
             [
              0.1111111111111111,
              "#46039f"
             ],
             [
              0.2222222222222222,
              "#7201a8"
             ],
             [
              0.3333333333333333,
              "#9c179e"
             ],
             [
              0.4444444444444444,
              "#bd3786"
             ],
             [
              0.5555555555555556,
              "#d8576b"
             ],
             [
              0.6666666666666666,
              "#ed7953"
             ],
             [
              0.7777777777777778,
              "#fb9f3a"
             ],
             [
              0.8888888888888888,
              "#fdca26"
             ],
             [
              1,
              "#f0f921"
             ]
            ],
            "type": "histogram2d"
           }
          ],
          "histogram2dcontour": [
           {
            "colorbar": {
             "outlinewidth": 0,
             "ticks": ""
            },
            "colorscale": [
             [
              0,
              "#0d0887"
             ],
             [
              0.1111111111111111,
              "#46039f"
             ],
             [
              0.2222222222222222,
              "#7201a8"
             ],
             [
              0.3333333333333333,
              "#9c179e"
             ],
             [
              0.4444444444444444,
              "#bd3786"
             ],
             [
              0.5555555555555556,
              "#d8576b"
             ],
             [
              0.6666666666666666,
              "#ed7953"
             ],
             [
              0.7777777777777778,
              "#fb9f3a"
             ],
             [
              0.8888888888888888,
              "#fdca26"
             ],
             [
              1,
              "#f0f921"
             ]
            ],
            "type": "histogram2dcontour"
           }
          ],
          "mesh3d": [
           {
            "colorbar": {
             "outlinewidth": 0,
             "ticks": ""
            },
            "type": "mesh3d"
           }
          ],
          "parcoords": [
           {
            "line": {
             "colorbar": {
              "outlinewidth": 0,
              "ticks": ""
             }
            },
            "type": "parcoords"
           }
          ],
          "pie": [
           {
            "automargin": true,
            "type": "pie"
           }
          ],
          "scatter": [
           {
            "fillpattern": {
             "fillmode": "overlay",
             "size": 10,
             "solidity": 0.2
            },
            "type": "scatter"
           }
          ],
          "scatter3d": [
           {
            "line": {
             "colorbar": {
              "outlinewidth": 0,
              "ticks": ""
             }
            },
            "marker": {
             "colorbar": {
              "outlinewidth": 0,
              "ticks": ""
             }
            },
            "type": "scatter3d"
           }
          ],
          "scattercarpet": [
           {
            "marker": {
             "colorbar": {
              "outlinewidth": 0,
              "ticks": ""
             }
            },
            "type": "scattercarpet"
           }
          ],
          "scattergeo": [
           {
            "marker": {
             "colorbar": {
              "outlinewidth": 0,
              "ticks": ""
             }
            },
            "type": "scattergeo"
           }
          ],
          "scattergl": [
           {
            "marker": {
             "colorbar": {
              "outlinewidth": 0,
              "ticks": ""
             }
            },
            "type": "scattergl"
           }
          ],
          "scattermapbox": [
           {
            "marker": {
             "colorbar": {
              "outlinewidth": 0,
              "ticks": ""
             }
            },
            "type": "scattermapbox"
           }
          ],
          "scatterpolar": [
           {
            "marker": {
             "colorbar": {
              "outlinewidth": 0,
              "ticks": ""
             }
            },
            "type": "scatterpolar"
           }
          ],
          "scatterpolargl": [
           {
            "marker": {
             "colorbar": {
              "outlinewidth": 0,
              "ticks": ""
             }
            },
            "type": "scatterpolargl"
           }
          ],
          "scatterternary": [
           {
            "marker": {
             "colorbar": {
              "outlinewidth": 0,
              "ticks": ""
             }
            },
            "type": "scatterternary"
           }
          ],
          "surface": [
           {
            "colorbar": {
             "outlinewidth": 0,
             "ticks": ""
            },
            "colorscale": [
             [
              0,
              "#0d0887"
             ],
             [
              0.1111111111111111,
              "#46039f"
             ],
             [
              0.2222222222222222,
              "#7201a8"
             ],
             [
              0.3333333333333333,
              "#9c179e"
             ],
             [
              0.4444444444444444,
              "#bd3786"
             ],
             [
              0.5555555555555556,
              "#d8576b"
             ],
             [
              0.6666666666666666,
              "#ed7953"
             ],
             [
              0.7777777777777778,
              "#fb9f3a"
             ],
             [
              0.8888888888888888,
              "#fdca26"
             ],
             [
              1,
              "#f0f921"
             ]
            ],
            "type": "surface"
           }
          ],
          "table": [
           {
            "cells": {
             "fill": {
              "color": "#EBF0F8"
             },
             "line": {
              "color": "white"
             }
            },
            "header": {
             "fill": {
              "color": "#C8D4E3"
             },
             "line": {
              "color": "white"
             }
            },
            "type": "table"
           }
          ]
         },
         "layout": {
          "annotationdefaults": {
           "arrowcolor": "#2a3f5f",
           "arrowhead": 0,
           "arrowwidth": 1
          },
          "autotypenumbers": "strict",
          "coloraxis": {
           "colorbar": {
            "outlinewidth": 0,
            "ticks": ""
           }
          },
          "colorscale": {
           "diverging": [
            [
             0,
             "#8e0152"
            ],
            [
             0.1,
             "#c51b7d"
            ],
            [
             0.2,
             "#de77ae"
            ],
            [
             0.3,
             "#f1b6da"
            ],
            [
             0.4,
             "#fde0ef"
            ],
            [
             0.5,
             "#f7f7f7"
            ],
            [
             0.6,
             "#e6f5d0"
            ],
            [
             0.7,
             "#b8e186"
            ],
            [
             0.8,
             "#7fbc41"
            ],
            [
             0.9,
             "#4d9221"
            ],
            [
             1,
             "#276419"
            ]
           ],
           "sequential": [
            [
             0,
             "#0d0887"
            ],
            [
             0.1111111111111111,
             "#46039f"
            ],
            [
             0.2222222222222222,
             "#7201a8"
            ],
            [
             0.3333333333333333,
             "#9c179e"
            ],
            [
             0.4444444444444444,
             "#bd3786"
            ],
            [
             0.5555555555555556,
             "#d8576b"
            ],
            [
             0.6666666666666666,
             "#ed7953"
            ],
            [
             0.7777777777777778,
             "#fb9f3a"
            ],
            [
             0.8888888888888888,
             "#fdca26"
            ],
            [
             1,
             "#f0f921"
            ]
           ],
           "sequentialminus": [
            [
             0,
             "#0d0887"
            ],
            [
             0.1111111111111111,
             "#46039f"
            ],
            [
             0.2222222222222222,
             "#7201a8"
            ],
            [
             0.3333333333333333,
             "#9c179e"
            ],
            [
             0.4444444444444444,
             "#bd3786"
            ],
            [
             0.5555555555555556,
             "#d8576b"
            ],
            [
             0.6666666666666666,
             "#ed7953"
            ],
            [
             0.7777777777777778,
             "#fb9f3a"
            ],
            [
             0.8888888888888888,
             "#fdca26"
            ],
            [
             1,
             "#f0f921"
            ]
           ]
          },
          "colorway": [
           "#636efa",
           "#EF553B",
           "#00cc96",
           "#ab63fa",
           "#FFA15A",
           "#19d3f3",
           "#FF6692",
           "#B6E880",
           "#FF97FF",
           "#FECB52"
          ],
          "font": {
           "color": "#2a3f5f"
          },
          "geo": {
           "bgcolor": "white",
           "lakecolor": "white",
           "landcolor": "#E5ECF6",
           "showlakes": true,
           "showland": true,
           "subunitcolor": "white"
          },
          "hoverlabel": {
           "align": "left"
          },
          "hovermode": "closest",
          "mapbox": {
           "style": "light"
          },
          "paper_bgcolor": "white",
          "plot_bgcolor": "#E5ECF6",
          "polar": {
           "angularaxis": {
            "gridcolor": "white",
            "linecolor": "white",
            "ticks": ""
           },
           "bgcolor": "#E5ECF6",
           "radialaxis": {
            "gridcolor": "white",
            "linecolor": "white",
            "ticks": ""
           }
          },
          "scene": {
           "xaxis": {
            "backgroundcolor": "#E5ECF6",
            "gridcolor": "white",
            "gridwidth": 2,
            "linecolor": "white",
            "showbackground": true,
            "ticks": "",
            "zerolinecolor": "white"
           },
           "yaxis": {
            "backgroundcolor": "#E5ECF6",
            "gridcolor": "white",
            "gridwidth": 2,
            "linecolor": "white",
            "showbackground": true,
            "ticks": "",
            "zerolinecolor": "white"
           },
           "zaxis": {
            "backgroundcolor": "#E5ECF6",
            "gridcolor": "white",
            "gridwidth": 2,
            "linecolor": "white",
            "showbackground": true,
            "ticks": "",
            "zerolinecolor": "white"
           }
          },
          "shapedefaults": {
           "line": {
            "color": "#2a3f5f"
           }
          },
          "ternary": {
           "aaxis": {
            "gridcolor": "white",
            "linecolor": "white",
            "ticks": ""
           },
           "baxis": {
            "gridcolor": "white",
            "linecolor": "white",
            "ticks": ""
           },
           "bgcolor": "#E5ECF6",
           "caxis": {
            "gridcolor": "white",
            "linecolor": "white",
            "ticks": ""
           }
          },
          "title": {
           "x": 0.05
          },
          "xaxis": {
           "automargin": true,
           "gridcolor": "white",
           "linecolor": "white",
           "ticks": "",
           "title": {
            "standoff": 15
           },
           "zerolinecolor": "white",
           "zerolinewidth": 2
          },
          "yaxis": {
           "automargin": true,
           "gridcolor": "white",
           "linecolor": "white",
           "ticks": "",
           "title": {
            "standoff": 15
           },
           "zerolinecolor": "white",
           "zerolinewidth": 2
          }
         }
        },
        "title": {
         "text": "DQN Training"
        },
        "xaxis": {
         "anchor": "y",
         "domain": [
          0,
          0.94
         ],
         "title": {
          "text": "Episode"
         }
        },
        "yaxis": {
         "anchor": "x",
         "domain": [
          0,
          1
         ],
         "title": {
          "text": "Score"
         }
        },
        "yaxis2": {
         "anchor": "x",
         "overlaying": "y",
         "side": "right",
         "title": {
          "text": "Exploration Rate"
         }
        }
       }
      }
     },
     "metadata": {},
     "output_type": "display_data"
    },
    {
     "data": {
      "application/vnd.jupyter.widget-view+json": {
       "model_id": "b135a3f978914d37859aa2d5de9c2420",
       "version_major": 2,
       "version_minor": 0
      },
      "text/plain": [
       "  0%|          | 0/100 [00:00<?, ?it/s]"
      ]
     },
     "metadata": {},
     "output_type": "display_data"
    }
   ],
   "source": [
    "import gym\n",
    "import plotly.express as px\n",
    "from continuing_education.lib.experiments import ExperimentManager\n",
    "import plotly.graph_objects as go\n",
    "from plotly.subplots import make_subplots\n",
    "\n",
    "def exploration_rate_line(*, explore_rate_decay: float, start_value: float, num_episodes: int) -> list[float]:\n",
    "    \"\"\"Plot the exploration rate over time.\"\"\"\n",
    "    exploration_rate = start_value\n",
    "    exploration_rates = []\n",
    "    for _ in range(num_episodes):\n",
    "        exploration_rates.append(exploration_rate)\n",
    "        exploration_rate *= explore_rate_decay\n",
    "    return exploration_rates\n",
    "\n",
    "if __name__ == \"__main__\":\n",
    "    LR = 1e-2\n",
    "    GAMMA = 0.99999  # Cartpole benefits from a high gamma because the longer the pole is up, the higher the reward\n",
    "    HIDDEN_SIZES = [16, 16]\n",
    "    NUM_EPISODES = 100\n",
    "    MAX_T = 100\n",
    "    BATCH_SIZE = 64\n",
    "    MAX_MEMORY = 10000\n",
    "    EXPLORE_RATE_DECAY = 0.995\n",
    "    # Do this a few times to prove consistency\n",
    "    last_10_percent_mean = []\n",
    "\n",
    "    for _ in range(3):\n",
    "        env = gym.make(\"CartPole-v1\")\n",
    "        value_network = QLearningModel(\n",
    "            state_size=OBSERVATION_SPACE_SHAPE[0],\n",
    "            action_size=ACTION_SPACE_SIZE,\n",
    "            hidden_sizes=HIDDEN_SIZES,\n",
    "        ).to(DEVICE)\n",
    "        optimizer = optim.Adam(value_network.parameters(), lr=LR)\n",
    "        scores = dqn_train(\n",
    "            env=env,\n",
    "            value_network=value_network,\n",
    "            optimizer=optimizer,\n",
    "            gamma=GAMMA,\n",
    "            num_episodes=NUM_EPISODES,\n",
    "            max_t=MAX_T,\n",
    "            memory=ActionReplayMemory(MAX_MEMORY),\n",
    "            batch_size=BATCH_SIZE,\n",
    "            exploration_rate_decay=EXPLORE_RATE_DECAY,\n",
    "        )\n",
    "        # Calculate the mean of the last 10 % of the scores\n",
    "        last_10_percent_mean.append(\n",
    "            sum(scores[int(NUM_EPISODES * 0.9) :]) / (NUM_EPISODES * 0.1)\n",
    "        )\n",
    "        _exploration_rate_line = exploration_rate_line(explore_rate_decay=EXPLORE_RATE_DECAY, start_value=1.0, num_episodes=NUM_EPISODES)\n",
    "        fig = make_subplots(specs=[[{\"secondary_y\": True}]])\n",
    "        fig.add_trace(\n",
    "            go.Scatter(x=[i for i in range(NUM_EPISODES)], y=_exploration_rate_line, name=\"Exploration Rate\", mode=\"lines\"),\n",
    "            secondary_y=True,\n",
    "        )\n",
    "        fig.add_trace(\n",
    "            go.Scatter(x=[i for i in range(NUM_EPISODES)], y=scores, name=\"Score\", mode=\"lines\"),\n",
    "            secondary_y=False,\n",
    "        )\n",
    "        fig.update_layout(title=\"DQN Training\")\n",
    "        fig.update_xaxes(title_text=\"Episode\")\n",
    "        fig.update_yaxes(title_text=\"Exploration Rate\", secondary_y=True)\n",
    "        fig.update_yaxes(title_text=\"Score\", secondary_y=False)\n",
    "        fig.show()\n",
    "    ExperimentManager(\n",
    "        name=\"DQN\",\n",
    "        description=\"Main Results\",\n",
    "        primary_metric=\"last_10_percent_mean\",\n",
    "        file=__this_file,\n",
    "    ).commit(metrics={\"last_10_percent_mean\": last_10_percent_mean})"
   ]
  }
 ],
 "metadata": {
  "jupytext": {
   "formats": "ipynb,py:percent"
  },
  "kernelspec": {
   "display_name": "continuing_education",
   "language": "python",
   "name": "python3"
  },
  "language_info": {
   "codemirror_mode": {
    "name": "ipython",
    "version": 3
   },
   "file_extension": ".py",
   "mimetype": "text/x-python",
   "name": "python",
   "nbconvert_exporter": "python",
   "pygments_lexer": "ipython3",
   "version": "3.11.6"
  }
 },
 "nbformat": 4,
 "nbformat_minor": 2
}
