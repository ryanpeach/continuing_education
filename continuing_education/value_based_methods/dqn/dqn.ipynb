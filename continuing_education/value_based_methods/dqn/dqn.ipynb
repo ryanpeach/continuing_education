{
 "cells": [
  {
   "cell_type": "code",
   "execution_count": 2,
   "metadata": {},
   "outputs": [],
   "source": [
    "%load_ext autoreload\n",
    "%autoreload 2"
   ]
  },
  {
   "cell_type": "code",
   "execution_count": 3,
   "metadata": {},
   "outputs": [],
   "source": [
    "from pathlib import Path\n",
    "\n",
    "if __name__ == \"__main__\":\n",
    "    __this_file = Path().resolve() / \"dqn.ipynb\"  # jupyter does not have __file__"
   ]
  },
  {
   "cell_type": "code",
   "execution_count": 4,
   "metadata": {},
   "outputs": [
    {
     "name": "stdout",
     "output_type": "stream",
     "text": [
      "cuda:0\n"
     ]
    }
   ],
   "source": [
    "import torch\n",
    "\n",
    "DEVICE = torch.device(\"cuda:0\" if torch.cuda.is_available() else \"cpu\")\n",
    "\n",
    "if __name__ == \"__main__\":\n",
    "    print(DEVICE)"
   ]
  },
  {
   "cell_type": "code",
   "execution_count": 5,
   "metadata": {},
   "outputs": [],
   "source": [
    "from torch import nn\n",
    "\n",
    "from continuing_education.policy_gradient_methods.reinforce import Action, State, Env\n",
    "import random"
   ]
  },
  {
   "cell_type": "markdown",
   "metadata": {},
   "source": [
    "# Q Learning\n",
    "\n",
    "Lets quickly create a simple Q Learning Agent and test it on cartpole environment."
   ]
  },
  {
   "cell_type": "code",
   "execution_count": 20,
   "metadata": {},
   "outputs": [],
   "source": [
    "class QLearningModel(nn.Module):\n",
    "    def __init__(\n",
    "        self, *, state_size: int, action_size: int, hidden_sizes: list[int]\n",
    "    ) -> None:\n",
    "        \"\"\"\n",
    "        Notice that this is exactly the same as the Policy network from REINFORCE, because\n",
    "        we are still starting from the state and outputting an action. The difference is that\n",
    "        we will not softmax the output, because its not a probability distribution, but rather\n",
    "        a regressor that outputs the Q value of each action.\n",
    "        \"\"\"\n",
    "        super().__init__()\n",
    "        assert len(hidden_sizes) > 0, \"Need at least one hidden layer\"\n",
    "        self.state_size = state_size\n",
    "        self.action_size = action_size\n",
    "        self.hidden_sizes = hidden_sizes\n",
    "\n",
    "        # Dimensions in the network are (batch_size, input_size, output_size)\n",
    "        network: list[nn.Module] = []\n",
    "        network.append(\n",
    "            nn.Linear(state_size, hidden_sizes[0])\n",
    "        )  # Shape: (:, state_size, hidden_sizes[0])\n",
    "        network.append(nn.ReLU())\n",
    "        for i in range(len(hidden_sizes) - 1):\n",
    "            network.append(\n",
    "                nn.Linear(hidden_sizes[i], hidden_sizes[i + 1])\n",
    "            )  # Shape: (:, hidden_sizes[i], hidden_sizes[i+1])\n",
    "            network.append(nn.ReLU())\n",
    "        network.append(\n",
    "            nn.Linear(hidden_sizes[-1], action_size)\n",
    "        )  # Shape: (:, hidden_sizes[-1], action_size)\n",
    "        self.network = nn.Sequential(*network).to(DEVICE)\n",
    "\n",
    "    def forward(self, state: torch.Tensor) -> torch.Tensor:\n",
    "        \"\"\"Takes a state tensor and returns logits along the action space\"\"\"\n",
    "        state = state.to(DEVICE)\n",
    "        return self.network(state)\n",
    "\n",
    "    def act(self, state: State, exploration_rate: float) -> Action:\n",
    "        \"\"\"\n",
    "        Same as the policy network, but instead of softmaxing and sampling,\n",
    "        the network actually is a regressor returning real numbered values, and we are argmaxing over them.\n",
    "        We don't get a log_prob, and we don't pass a temperature, because Q networks cant handle stochastic policies.\n",
    "        We can't use a temperature to control the exploration rate, because the network is not a probability distribution.\n",
    "        However we can randomly choose to explore with a probability of exploration_rate, which will randomly choose an action if a random number is less than exploration_rate.\n",
    "        \"\"\"\n",
    "        # First we got to convert out of numpy and into pytorch\n",
    "        state_tensor = torch.from_numpy(state).float().unsqueeze(0)\n",
    "\n",
    "        # Now we can run the forward pass, whos output is a probability distribution\n",
    "        # along the action space\n",
    "        action_values = self.forward(state_tensor)\n",
    "        assert (\n",
    "            action_values.cpu().shape[-1] == self.action_size\n",
    "        ), \"The output of the network should be a probability distribution over the action space\"\n",
    "\n",
    "        # Now we want to get the action that corresponds to the highest probability\n",
    "        # TODO: We could sample from the pdf instead of taking the greedy argmax\n",
    "        action_idx = torch.argmax(action_values, dim=-1)\n",
    "\n",
    "        # We return the action and the log probability of the action\n",
    "        action_idx_cpu = int(action_idx.item())\n",
    "        assert (\n",
    "            0 <= action_idx_cpu < self.action_size\n",
    "        ), \"The action index should be within the action space\"\n",
    "        if random.random() < exploration_rate:\n",
    "            return Action(random.randint(0, self.action_size - 1))\n",
    "\n",
    "        return Action(action_idx_cpu)"
   ]
  },
  {
   "cell_type": "code",
   "execution_count": 7,
   "metadata": {},
   "outputs": [],
   "source": [
    "from dataclasses import dataclass\n",
    "from collections import deque\n",
    "from typing import NewType\n",
    "\n",
    "\n",
    "@dataclass\n",
    "class SARS:\n",
    "    state: State\n",
    "    action: Action\n",
    "    reward: float\n",
    "    next_state: State\n",
    "    done: bool\n",
    "\n",
    "\n",
    "Trajectory = NewType(\"Trajectory\", list[SARS])"
   ]
  },
  {
   "cell_type": "code",
   "execution_count": 8,
   "metadata": {},
   "outputs": [],
   "source": [
    "from typing import Generator\n",
    "\n",
    "from continuing_education.policy_gradient_methods.reinforce.reinforce import Reward\n",
    "\n",
    "\n",
    "def collect_episode(\n",
    "    *, env: Env, value_network: QLearningModel, max_t: int, exploration_rate: float\n",
    ") -> Generator[SARS, None, None]:\n",
    "    \"\"\"2.1 Returns the trajectory of one episode of using the value network.\n",
    "\n",
    "    The output is a list of SARS tuples, where each tuple represents a state, action, reward, next_state tuple.\n",
    "    \"\"\"\n",
    "    state, _ = env.reset()\n",
    "    done = False\n",
    "    for _ in range(max_t):\n",
    "        action = value_network.act(state, exploration_rate=exploration_rate)\n",
    "        next_state, reward, done, _, _ = env.step(action)\n",
    "        yield SARS(\n",
    "            state=State(state),\n",
    "            action=action,\n",
    "            reward=Reward(reward),\n",
    "            next_state=State(next_state),\n",
    "            done=done,\n",
    "        )\n",
    "        state = next_state\n",
    "        if done:\n",
    "            break"
   ]
  },
  {
   "cell_type": "code",
   "execution_count": 9,
   "metadata": {},
   "outputs": [],
   "source": [
    "class ActionReplayMemory:\n",
    "    \"\"\"The simplest kind of memory buffer for q learning.\n",
    "    This is a FIFO buffer of a fixed length that stores SAR objects from `continuing_education.policy_gradient_methods.reinforce.collect_episode`.\n",
    "    These SAR objects have been modified already using `continuing_education.policy_gradient_methods.reinforce.cumulative_discounted_future_rewards`\n",
    "    to replace their reward values.\n",
    "    \"\"\"\n",
    "\n",
    "    def __init__(self, max_size: int) -> None:\n",
    "        self.buffer: deque[SARS] = deque(maxlen=max_size)\n",
    "\n",
    "    def push(self, item: SARS) -> None:\n",
    "        self.buffer.append(item)\n",
    "\n",
    "    def sample(self, batch_size: int) -> list[SARS]:\n",
    "        if len(self.buffer) < batch_size:\n",
    "            raise ValueError(\"Not enough samples in the buffer\")\n",
    "        return random.sample(self.buffer, batch_size)\n",
    "\n",
    "    def __len__(self) -> int:\n",
    "        return len(self.buffer)"
   ]
  },
  {
   "cell_type": "markdown",
   "metadata": {},
   "source": [
    "# Train"
   ]
  },
  {
   "cell_type": "code",
   "execution_count": 10,
   "metadata": {},
   "outputs": [],
   "source": [
    "from torch import Tensor\n",
    "from tqdm.notebook import trange\n",
    "import torch.optim as optim\n",
    "\n",
    "\n",
    "def objective(\n",
    "    *,\n",
    "    value_network: QLearningModel,\n",
    "    batch: list[SARS],\n",
    "    gamma: float,\n",
    ") -> Tensor:\n",
    "    \"\"\"The objective function for the DQN algorithm is simple regression loss.\"\"\"\n",
    "    states = (\n",
    "        torch.tensor([s.state for s in batch]).float().to(DEVICE)\n",
    "    )  # shape (batch_size, state_size)\n",
    "    assert (\n",
    "        states.shape[1] == value_network.state_size\n",
    "    ), \"The state size of the value network should match the state size of the batch\"\n",
    "    actions = (\n",
    "        torch.tensor([s.action for s in batch]).long().to(DEVICE).unsqueeze(1)\n",
    "    )  # shape (batch_size, 1)\n",
    "    assert actions.shape[1] == 1, \"The action should be a scalar value\"\n",
    "    rewards = (\n",
    "        torch.tensor([s.reward for s in batch]).float().to(DEVICE).unsqueeze(1)\n",
    "    )  # shape (batch_size, 1)\n",
    "    assert rewards.shape[1] == 1, \"The reward should be a scalar value\"\n",
    "    next_states = (\n",
    "        torch.tensor([s.next_state for s in batch]).float().to(DEVICE)\n",
    "    )  # shape (batch_size, state_size)\n",
    "    assert (\n",
    "        next_states.shape[1] == value_network.state_size\n",
    "    ), \"The state size of the value network should match the state size of the batch\"\n",
    "    dones = (\n",
    "        torch.tensor([s.done for s in batch]).float().to(DEVICE).unsqueeze(1)\n",
    "    )  # shape (batch_size, 1)\n",
    "    assert dones.shape[1] == 1, \"The done should be a scalar value\"\n",
    "\n",
    "    # We are going to use the value network to predict the Q values for the current state\n",
    "    predicted_q_values = value_network.forward(\n",
    "        states\n",
    "    )  # shape (batch_size, action_size)\n",
    "    assert predicted_q_values.shape[0] == len(\n",
    "        batch\n",
    "    ), \"The first dimension of the output should match the batch size\"\n",
    "    assert (\n",
    "        predicted_q_values.shape[1] == value_network.action_size\n",
    "    ), \"The output of the network should be the same size as the action space\"\n",
    "\n",
    "    # We are going to use the value network to predict the Q values for the next state\n",
    "    next_predicted_q_values = value_network.forward(\n",
    "        next_states\n",
    "    )  # shape (batch_size, action_size)\n",
    "    assert next_predicted_q_values.shape[0] == len(\n",
    "        batch\n",
    "    ), \"The first dimension of the output should match the batch size\"\n",
    "    assert (\n",
    "        next_predicted_q_values.shape[1] == value_network.action_size\n",
    "    ), \"The output of the network should be the same size as the action space\"\n",
    "\n",
    "    # Generate the Q Loss using the bellman equation\n",
    "    # Q(s, a) = r + gamma * max_a'(Q(s', a'))\n",
    "    next_action_value_predicted = next_predicted_q_values.max(1).values.unsqueeze(1)\n",
    "    bellman = rewards + gamma * next_action_value_predicted * (1.0 - dones)\n",
    "    assert bellman.shape[0] == len(\n",
    "        batch\n",
    "    ), \"The first dimension of the output should match the batch size\"\n",
    "    assert bellman.shape[1] == 1, \"The bellman equation should output a scalar value\"\n",
    "\n",
    "    # We predict the Q values for the current state given the actual action, vs the predicted future rewards from the bellman equation\n",
    "    inp = predicted_q_values.gather(1, actions)\n",
    "    assert (\n",
    "        inp.shape == bellman.shape\n",
    "    ), f\"The input and output of the network should have the same shape, got {inp.shape} and {bellman.shape}\"\n",
    "    loss = nn.MSELoss()(inp, bellman)\n",
    "    assert loss.shape == (), \"The loss should be a scalar value\"\n",
    "\n",
    "    return loss"
   ]
  },
  {
   "cell_type": "code",
   "execution_count": 22,
   "metadata": {},
   "outputs": [],
   "source": [
    "def dqn_train(\n",
    "    *,\n",
    "    env: Env,\n",
    "    value_network: QLearningModel,\n",
    "    memory: ActionReplayMemory,\n",
    "    optimizer: optim.Optimizer,\n",
    "    gamma: float,\n",
    "    num_episodes: int,\n",
    "    max_t: int,\n",
    "    batch_size: int,\n",
    "    exploration_rate_decay: float,\n",
    ") -> list[Reward]:\n",
    "    \"\"\"Algorithm 1 REINFORCE\"\"\"\n",
    "    assert gamma <= 1, \"Gamma should be less than or equal to 1\"\n",
    "    assert gamma > 0, \"Gamma should be greater than 0\"\n",
    "    assert num_episodes > 0, \"Number of episodes should be greater than 0\"\n",
    "    exploration_rate = 1.0\n",
    "    scores: list[Reward] = []\n",
    "    for _ in trange(num_episodes):\n",
    "        _scores = []\n",
    "        for sars in collect_episode(\n",
    "            env=env,\n",
    "            value_network=value_network,\n",
    "            max_t=max_t,\n",
    "            exploration_rate=exploration_rate,\n",
    "        ):\n",
    "            memory.push(sars)\n",
    "            _scores.append(sars.reward)\n",
    "            if len(memory) > batch_size:\n",
    "                batch = memory.sample(batch_size)\n",
    "                loss = objective(value_network=value_network, batch=batch, gamma=gamma)\n",
    "                optimizer.zero_grad()\n",
    "                loss.backward()\n",
    "                optimizer.step()\n",
    "        exploration_rate *= exploration_rate_decay\n",
    "        scores.append(Reward(sum(_scores)))\n",
    "\n",
    "    return scores"
   ]
  },
  {
   "cell_type": "code",
   "execution_count": 24,
   "metadata": {},
   "outputs": [
    {
     "data": {
      "application/vnd.jupyter.widget-view+json": {
       "model_id": "4b23e2573d0c4ed79fe40746cbc6b110",
       "version_major": 2,
       "version_minor": 0
      },
      "text/plain": [
       "  0%|          | 0/100 [00:00<?, ?it/s]"
      ]
     },
     "metadata": {},
     "output_type": "display_data"
    },
    {
     "name": "stdout",
     "output_type": "stream",
     "text": [
      "test_reinforce_train passed\n"
     ]
    },
    {
     "data": {
      "application/vnd.jupyter.widget-view+json": {
       "model_id": "b5f2f1c313dc459f9e0401cf8b8102a5",
       "version_major": 2,
       "version_minor": 0
      },
      "text/plain": [
       "  0%|          | 0/100 [00:00<?, ?it/s]"
      ]
     },
     "metadata": {},
     "output_type": "display_data"
    },
    {
     "name": "stdout",
     "output_type": "stream",
     "text": [
      "test_reinforce_train passed\n"
     ]
    },
    {
     "data": {
      "application/vnd.jupyter.widget-view+json": {
       "model_id": "1c77ef0318744283835ad4b2fdbd5f09",
       "version_major": 2,
       "version_minor": 0
      },
      "text/plain": [
       "  0%|          | 0/100 [00:00<?, ?it/s]"
      ]
     },
     "metadata": {},
     "output_type": "display_data"
    },
    {
     "name": "stdout",
     "output_type": "stream",
     "text": [
      "test_reinforce_train passed\n"
     ]
    }
   ],
   "source": [
    "from continuing_education.policy_gradient_methods.reinforce.reinforce import MockEnv\n",
    "\n",
    "\n",
    "def test_reinforce_train() -> None:\n",
    "    \"\"\"Test the reinforce training loop on the mock environment.\"\"\"\n",
    "    env = MockEnv(max_steps=10)\n",
    "    value_network = QLearningModel(state_size=1, action_size=2, hidden_sizes=[16, 16])\n",
    "    optimizer = optim.Adam(value_network.parameters(), lr=1e-3)\n",
    "    memory = ActionReplayMemory(max_size=1000)\n",
    "    scores = dqn_train(\n",
    "        env=env,\n",
    "        value_network=value_network,\n",
    "        optimizer=optimizer,\n",
    "        memory=memory,\n",
    "        gamma=0.999,\n",
    "        num_episodes=100,\n",
    "        max_t=10,\n",
    "        batch_size=50,\n",
    "        exploration_rate_decay=0.96,\n",
    "    )\n",
    "    assert all(\n",
    "        [score == 10 for score in scores[90:]]\n",
    "    ), f\"The last 10 scores should be 10, got: {scores[90:]}\"\n",
    "\n",
    "\n",
    "if __name__ == \"__main__\":\n",
    "    for _ in range(3):\n",
    "        test_reinforce_train()\n",
    "        print(\"test_reinforce_train passed\")"
   ]
  },
  {
   "cell_type": "code",
   "execution_count": 25,
   "metadata": {},
   "outputs": [
    {
     "name": "stdout",
     "output_type": "stream",
     "text": [
      "State size: (4,)\n",
      "Action size: 2\n",
      "Example state: (array([-0.0385108 , -0.02355589,  0.03053575,  0.01272341], dtype=float32), {})\n",
      "Action return: (array([-0.03898192,  0.17111513,  0.03079022, -0.27017087], dtype=float32), 1.0, False, False, {})\n"
     ]
    },
    {
     "name": "stderr",
     "output_type": "stream",
     "text": [
      "/home/ryanpeach/.pyenv/versions/3.11.6/envs/continuing_education/lib/python3.11/site-packages/gym/utils/passive_env_checker.py:233: DeprecationWarning: `np.bool8` is a deprecated alias for `np.bool_`.  (Deprecated NumPy 1.24)\n",
      "  if not isinstance(terminated, (bool, np.bool8)):\n"
     ]
    }
   ],
   "source": [
    "from continuing_education.policy_gradient_methods.reinforce.reinforce import (\n",
    "    get_environment_space,\n",
    ")\n",
    "\n",
    "\n",
    "if __name__ == \"__main__\":\n",
    "    OBSERVATION_SPACE_SHAPE, ACTION_SPACE_SIZE = get_environment_space(\"CartPole-v1\")"
   ]
  },
  {
   "cell_type": "code",
   "execution_count": 27,
   "metadata": {},
   "outputs": [
    {
     "data": {
      "application/vnd.jupyter.widget-view+json": {
       "model_id": "d459fa0c66434620b7c4e0d38da85def",
       "version_major": 2,
       "version_minor": 0
      },
      "text/plain": [
       "  0%|          | 0/100 [00:00<?, ?it/s]"
      ]
     },
     "metadata": {},
     "output_type": "display_data"
    },
    {
     "data": {
      "application/vnd.plotly.v1+json": {
       "config": {
        "plotlyServerURL": "https://plot.ly"
       },
       "data": [
        {
         "mode": "lines",
         "name": "Exploration Rate",
         "type": "scatter",
         "x": [
          0,
          1,
          2,
          3,
          4,
          5,
          6,
          7,
          8,
          9,
          10,
          11,
          12,
          13,
          14,
          15,
          16,
          17,
          18,
          19,
          20,
          21,
          22,
          23,
          24,
          25,
          26,
          27,
          28,
          29,
          30,
          31,
          32,
          33,
          34,
          35,
          36,
          37,
          38,
          39,
          40,
          41,
          42,
          43,
          44,
          45,
          46,
          47,
          48,
          49,
          50,
          51,
          52,
          53,
          54,
          55,
          56,
          57,
          58,
          59,
          60,
          61,
          62,
          63,
          64,
          65,
          66,
          67,
          68,
          69,
          70,
          71,
          72,
          73,
          74,
          75,
          76,
          77,
          78,
          79,
          80,
          81,
          82,
          83,
          84,
          85,
          86,
          87,
          88,
          89,
          90,
          91,
          92,
          93,
          94,
          95,
          96,
          97,
          98,
          99
         ],
         "xaxis": "x",
         "y": [
          1,
          0.96,
          0.9216,
          0.884736,
          0.84934656,
          0.8153726976,
          0.782757789696,
          0.7514474781081599,
          0.7213895789838335,
          0.6925339958244802,
          0.6648326359915009,
          0.6382393305518408,
          0.6127097573297672,
          0.5882013670365764,
          0.5646733123551133,
          0.5420863798609088,
          0.5204029246664724,
          0.4995868076798135,
          0.47960333537262095,
          0.4604192019577161,
          0.4420024338794074,
          0.42432233652423107,
          0.4073494430632618,
          0.3910554653407313,
          0.3754132467271021,
          0.360396716858018,
          0.3459808481836973,
          0.33214161425634936,
          0.3188559496860954,
          0.3061017116986515,
          0.29385764323070546,
          0.2821033375014772,
          0.2708192040014181,
          0.2599864358413614,
          0.2495869784077069,
          0.23960349927139862,
          0.23001935930054268,
          0.22081858492852097,
          0.21198584153138011,
          0.2035064078701249,
          0.1953661515553199,
          0.1875515054931071,
          0.1800494452733828,
          0.17284746746244747,
          0.16593356876394957,
          0.15929622601339158,
          0.1529243769728559,
          0.14680740189394167,
          0.140935105818184,
          0.13529770158545662,
          0.12988579352203836,
          0.12469036178115682,
          0.11970274730991054,
          0.11491463741751412,
          0.11031805192081355,
          0.105905329843981,
          0.10166911665022176,
          0.09760235198421288,
          0.09369825790484436,
          0.08995032758865058,
          0.08635231448510455,
          0.08289822190570037,
          0.07958229302947235,
          0.07639900130829345,
          0.07334304125596171,
          0.07040931960572323,
          0.0675929468214943,
          0.06488922894863453,
          0.06229365979068914,
          0.059801913399061574,
          0.05740983686309911,
          0.05511344338857514,
          0.052908905653032134,
          0.050792549426910846,
          0.04876084744983441,
          0.04681041355184103,
          0.04493799700976739,
          0.04314047712937669,
          0.04141485804420163,
          0.03975826372243356,
          0.038167933173536214,
          0.036641215846594764,
          0.03517556721273097,
          0.033768544524221726,
          0.03241780274325286,
          0.031121090633522742,
          0.029876247008181832,
          0.02868119712785456,
          0.027533949242740375,
          0.02643259127303076,
          0.025375287622109527,
          0.024360276117225146,
          0.02338586507253614,
          0.022450430469634693,
          0.021552413250849303,
          0.02069031672081533,
          0.01986270405198272,
          0.019068195889903407,
          0.01830546805430727,
          0.01757324933213498
         ],
         "yaxis": "y2"
        },
        {
         "mode": "lines",
         "name": "Score",
         "type": "scatter",
         "x": [
          0,
          1,
          2,
          3,
          4,
          5,
          6,
          7,
          8,
          9,
          10,
          11,
          12,
          13,
          14,
          15,
          16,
          17,
          18,
          19,
          20,
          21,
          22,
          23,
          24,
          25,
          26,
          27,
          28,
          29,
          30,
          31,
          32,
          33,
          34,
          35,
          36,
          37,
          38,
          39,
          40,
          41,
          42,
          43,
          44,
          45,
          46,
          47,
          48,
          49,
          50,
          51,
          52,
          53,
          54,
          55,
          56,
          57,
          58,
          59,
          60,
          61,
          62,
          63,
          64,
          65,
          66,
          67,
          68,
          69,
          70,
          71,
          72,
          73,
          74,
          75,
          76,
          77,
          78,
          79,
          80,
          81,
          82,
          83,
          84,
          85,
          86,
          87,
          88,
          89,
          90,
          91,
          92,
          93,
          94,
          95,
          96,
          97,
          98,
          99
         ],
         "xaxis": "x",
         "y": [
          36,
          11,
          9,
          11,
          29,
          11,
          18,
          18,
          10,
          13,
          19,
          20,
          20,
          23,
          37,
          12,
          21,
          15,
          36,
          20,
          12,
          28,
          15,
          10,
          86,
          14,
          58,
          72,
          47,
          43,
          38,
          90,
          11,
          11,
          100,
          32,
          73,
          13,
          40,
          89,
          100,
          66,
          91,
          75,
          45,
          77,
          43,
          67,
          60,
          72,
          54,
          42,
          43,
          14,
          71,
          91,
          67,
          62,
          36,
          98,
          52,
          100,
          57,
          85,
          96,
          95,
          73,
          67,
          43,
          19,
          55,
          44,
          79,
          77,
          57,
          100,
          69,
          66,
          99,
          53,
          66,
          83,
          100,
          82,
          88,
          89,
          79,
          100,
          95,
          96,
          80,
          77,
          100,
          84,
          100,
          79,
          100,
          100,
          100,
          100
         ],
         "yaxis": "y"
        }
       ],
       "layout": {
        "template": {
         "data": {
          "bar": [
           {
            "error_x": {
             "color": "#2a3f5f"
            },
            "error_y": {
             "color": "#2a3f5f"
            },
            "marker": {
             "line": {
              "color": "#E5ECF6",
              "width": 0.5
             },
             "pattern": {
              "fillmode": "overlay",
              "size": 10,
              "solidity": 0.2
             }
            },
            "type": "bar"
           }
          ],
          "barpolar": [
           {
            "marker": {
             "line": {
              "color": "#E5ECF6",
              "width": 0.5
             },
             "pattern": {
              "fillmode": "overlay",
              "size": 10,
              "solidity": 0.2
             }
            },
            "type": "barpolar"
           }
          ],
          "carpet": [
           {
            "aaxis": {
             "endlinecolor": "#2a3f5f",
             "gridcolor": "white",
             "linecolor": "white",
             "minorgridcolor": "white",
             "startlinecolor": "#2a3f5f"
            },
            "baxis": {
             "endlinecolor": "#2a3f5f",
             "gridcolor": "white",
             "linecolor": "white",
             "minorgridcolor": "white",
             "startlinecolor": "#2a3f5f"
            },
            "type": "carpet"
           }
          ],
          "choropleth": [
           {
            "colorbar": {
             "outlinewidth": 0,
             "ticks": ""
            },
            "type": "choropleth"
           }
          ],
          "contour": [
           {
            "colorbar": {
             "outlinewidth": 0,
             "ticks": ""
            },
            "colorscale": [
             [
              0,
              "#0d0887"
             ],
             [
              0.1111111111111111,
              "#46039f"
             ],
             [
              0.2222222222222222,
              "#7201a8"
             ],
             [
              0.3333333333333333,
              "#9c179e"
             ],
             [
              0.4444444444444444,
              "#bd3786"
             ],
             [
              0.5555555555555556,
              "#d8576b"
             ],
             [
              0.6666666666666666,
              "#ed7953"
             ],
             [
              0.7777777777777778,
              "#fb9f3a"
             ],
             [
              0.8888888888888888,
              "#fdca26"
             ],
             [
              1,
              "#f0f921"
             ]
            ],
            "type": "contour"
           }
          ],
          "contourcarpet": [
           {
            "colorbar": {
             "outlinewidth": 0,
             "ticks": ""
            },
            "type": "contourcarpet"
           }
          ],
          "heatmap": [
           {
            "colorbar": {
             "outlinewidth": 0,
             "ticks": ""
            },
            "colorscale": [
             [
              0,
              "#0d0887"
             ],
             [
              0.1111111111111111,
              "#46039f"
             ],
             [
              0.2222222222222222,
              "#7201a8"
             ],
             [
              0.3333333333333333,
              "#9c179e"
             ],
             [
              0.4444444444444444,
              "#bd3786"
             ],
             [
              0.5555555555555556,
              "#d8576b"
             ],
             [
              0.6666666666666666,
              "#ed7953"
             ],
             [
              0.7777777777777778,
              "#fb9f3a"
             ],
             [
              0.8888888888888888,
              "#fdca26"
             ],
             [
              1,
              "#f0f921"
             ]
            ],
            "type": "heatmap"
           }
          ],
          "heatmapgl": [
           {
            "colorbar": {
             "outlinewidth": 0,
             "ticks": ""
            },
            "colorscale": [
             [
              0,
              "#0d0887"
             ],
             [
              0.1111111111111111,
              "#46039f"
             ],
             [
              0.2222222222222222,
              "#7201a8"
             ],
             [
              0.3333333333333333,
              "#9c179e"
             ],
             [
              0.4444444444444444,
              "#bd3786"
             ],
             [
              0.5555555555555556,
              "#d8576b"
             ],
             [
              0.6666666666666666,
              "#ed7953"
             ],
             [
              0.7777777777777778,
              "#fb9f3a"
             ],
             [
              0.8888888888888888,
              "#fdca26"
             ],
             [
              1,
              "#f0f921"
             ]
            ],
            "type": "heatmapgl"
           }
          ],
          "histogram": [
           {
            "marker": {
             "pattern": {
              "fillmode": "overlay",
              "size": 10,
              "solidity": 0.2
             }
            },
            "type": "histogram"
           }
          ],
          "histogram2d": [
           {
            "colorbar": {
             "outlinewidth": 0,
             "ticks": ""
            },
            "colorscale": [
             [
              0,
              "#0d0887"
             ],
             [
              0.1111111111111111,
              "#46039f"
             ],
             [
              0.2222222222222222,
              "#7201a8"
             ],
             [
              0.3333333333333333,
              "#9c179e"
             ],
             [
              0.4444444444444444,
              "#bd3786"
             ],
             [
              0.5555555555555556,
              "#d8576b"
             ],
             [
              0.6666666666666666,
              "#ed7953"
             ],
             [
              0.7777777777777778,
              "#fb9f3a"
             ],
             [
              0.8888888888888888,
              "#fdca26"
             ],
             [
              1,
              "#f0f921"
             ]
            ],
            "type": "histogram2d"
           }
          ],
          "histogram2dcontour": [
           {
            "colorbar": {
             "outlinewidth": 0,
             "ticks": ""
            },
            "colorscale": [
             [
              0,
              "#0d0887"
             ],
             [
              0.1111111111111111,
              "#46039f"
             ],
             [
              0.2222222222222222,
              "#7201a8"
             ],
             [
              0.3333333333333333,
              "#9c179e"
             ],
             [
              0.4444444444444444,
              "#bd3786"
             ],
             [
              0.5555555555555556,
              "#d8576b"
             ],
             [
              0.6666666666666666,
              "#ed7953"
             ],
             [
              0.7777777777777778,
              "#fb9f3a"
             ],
             [
              0.8888888888888888,
              "#fdca26"
             ],
             [
              1,
              "#f0f921"
             ]
            ],
            "type": "histogram2dcontour"
           }
          ],
          "mesh3d": [
           {
            "colorbar": {
             "outlinewidth": 0,
             "ticks": ""
            },
            "type": "mesh3d"
           }
          ],
          "parcoords": [
           {
            "line": {
             "colorbar": {
              "outlinewidth": 0,
              "ticks": ""
             }
            },
            "type": "parcoords"
           }
          ],
          "pie": [
           {
            "automargin": true,
            "type": "pie"
           }
          ],
          "scatter": [
           {
            "fillpattern": {
             "fillmode": "overlay",
             "size": 10,
             "solidity": 0.2
            },
            "type": "scatter"
           }
          ],
          "scatter3d": [
           {
            "line": {
             "colorbar": {
              "outlinewidth": 0,
              "ticks": ""
             }
            },
            "marker": {
             "colorbar": {
              "outlinewidth": 0,
              "ticks": ""
             }
            },
            "type": "scatter3d"
           }
          ],
          "scattercarpet": [
           {
            "marker": {
             "colorbar": {
              "outlinewidth": 0,
              "ticks": ""
             }
            },
            "type": "scattercarpet"
           }
          ],
          "scattergeo": [
           {
            "marker": {
             "colorbar": {
              "outlinewidth": 0,
              "ticks": ""
             }
            },
            "type": "scattergeo"
           }
          ],
          "scattergl": [
           {
            "marker": {
             "colorbar": {
              "outlinewidth": 0,
              "ticks": ""
             }
            },
            "type": "scattergl"
           }
          ],
          "scattermapbox": [
           {
            "marker": {
             "colorbar": {
              "outlinewidth": 0,
              "ticks": ""
             }
            },
            "type": "scattermapbox"
           }
          ],
          "scatterpolar": [
           {
            "marker": {
             "colorbar": {
              "outlinewidth": 0,
              "ticks": ""
             }
            },
            "type": "scatterpolar"
           }
          ],
          "scatterpolargl": [
           {
            "marker": {
             "colorbar": {
              "outlinewidth": 0,
              "ticks": ""
             }
            },
            "type": "scatterpolargl"
           }
          ],
          "scatterternary": [
           {
            "marker": {
             "colorbar": {
              "outlinewidth": 0,
              "ticks": ""
             }
            },
            "type": "scatterternary"
           }
          ],
          "surface": [
           {
            "colorbar": {
             "outlinewidth": 0,
             "ticks": ""
            },
            "colorscale": [
             [
              0,
              "#0d0887"
             ],
             [
              0.1111111111111111,
              "#46039f"
             ],
             [
              0.2222222222222222,
              "#7201a8"
             ],
             [
              0.3333333333333333,
              "#9c179e"
             ],
             [
              0.4444444444444444,
              "#bd3786"
             ],
             [
              0.5555555555555556,
              "#d8576b"
             ],
             [
              0.6666666666666666,
              "#ed7953"
             ],
             [
              0.7777777777777778,
              "#fb9f3a"
             ],
             [
              0.8888888888888888,
              "#fdca26"
             ],
             [
              1,
              "#f0f921"
             ]
            ],
            "type": "surface"
           }
          ],
          "table": [
           {
            "cells": {
             "fill": {
              "color": "#EBF0F8"
             },
             "line": {
              "color": "white"
             }
            },
            "header": {
             "fill": {
              "color": "#C8D4E3"
             },
             "line": {
              "color": "white"
             }
            },
            "type": "table"
           }
          ]
         },
         "layout": {
          "annotationdefaults": {
           "arrowcolor": "#2a3f5f",
           "arrowhead": 0,
           "arrowwidth": 1
          },
          "autotypenumbers": "strict",
          "coloraxis": {
           "colorbar": {
            "outlinewidth": 0,
            "ticks": ""
           }
          },
          "colorscale": {
           "diverging": [
            [
             0,
             "#8e0152"
            ],
            [
             0.1,
             "#c51b7d"
            ],
            [
             0.2,
             "#de77ae"
            ],
            [
             0.3,
             "#f1b6da"
            ],
            [
             0.4,
             "#fde0ef"
            ],
            [
             0.5,
             "#f7f7f7"
            ],
            [
             0.6,
             "#e6f5d0"
            ],
            [
             0.7,
             "#b8e186"
            ],
            [
             0.8,
             "#7fbc41"
            ],
            [
             0.9,
             "#4d9221"
            ],
            [
             1,
             "#276419"
            ]
           ],
           "sequential": [
            [
             0,
             "#0d0887"
            ],
            [
             0.1111111111111111,
             "#46039f"
            ],
            [
             0.2222222222222222,
             "#7201a8"
            ],
            [
             0.3333333333333333,
             "#9c179e"
            ],
            [
             0.4444444444444444,
             "#bd3786"
            ],
            [
             0.5555555555555556,
             "#d8576b"
            ],
            [
             0.6666666666666666,
             "#ed7953"
            ],
            [
             0.7777777777777778,
             "#fb9f3a"
            ],
            [
             0.8888888888888888,
             "#fdca26"
            ],
            [
             1,
             "#f0f921"
            ]
           ],
           "sequentialminus": [
            [
             0,
             "#0d0887"
            ],
            [
             0.1111111111111111,
             "#46039f"
            ],
            [
             0.2222222222222222,
             "#7201a8"
            ],
            [
             0.3333333333333333,
             "#9c179e"
            ],
            [
             0.4444444444444444,
             "#bd3786"
            ],
            [
             0.5555555555555556,
             "#d8576b"
            ],
            [
             0.6666666666666666,
             "#ed7953"
            ],
            [
             0.7777777777777778,
             "#fb9f3a"
            ],
            [
             0.8888888888888888,
             "#fdca26"
            ],
            [
             1,
             "#f0f921"
            ]
           ]
          },
          "colorway": [
           "#636efa",
           "#EF553B",
           "#00cc96",
           "#ab63fa",
           "#FFA15A",
           "#19d3f3",
           "#FF6692",
           "#B6E880",
           "#FF97FF",
           "#FECB52"
          ],
          "font": {
           "color": "#2a3f5f"
          },
          "geo": {
           "bgcolor": "white",
           "lakecolor": "white",
           "landcolor": "#E5ECF6",
           "showlakes": true,
           "showland": true,
           "subunitcolor": "white"
          },
          "hoverlabel": {
           "align": "left"
          },
          "hovermode": "closest",
          "mapbox": {
           "style": "light"
          },
          "paper_bgcolor": "white",
          "plot_bgcolor": "#E5ECF6",
          "polar": {
           "angularaxis": {
            "gridcolor": "white",
            "linecolor": "white",
            "ticks": ""
           },
           "bgcolor": "#E5ECF6",
           "radialaxis": {
            "gridcolor": "white",
            "linecolor": "white",
            "ticks": ""
           }
          },
          "scene": {
           "xaxis": {
            "backgroundcolor": "#E5ECF6",
            "gridcolor": "white",
            "gridwidth": 2,
            "linecolor": "white",
            "showbackground": true,
            "ticks": "",
            "zerolinecolor": "white"
           },
           "yaxis": {
            "backgroundcolor": "#E5ECF6",
            "gridcolor": "white",
            "gridwidth": 2,
            "linecolor": "white",
            "showbackground": true,
            "ticks": "",
            "zerolinecolor": "white"
           },
           "zaxis": {
            "backgroundcolor": "#E5ECF6",
            "gridcolor": "white",
            "gridwidth": 2,
            "linecolor": "white",
            "showbackground": true,
            "ticks": "",
            "zerolinecolor": "white"
           }
          },
          "shapedefaults": {
           "line": {
            "color": "#2a3f5f"
           }
          },
          "ternary": {
           "aaxis": {
            "gridcolor": "white",
            "linecolor": "white",
            "ticks": ""
           },
           "baxis": {
            "gridcolor": "white",
            "linecolor": "white",
            "ticks": ""
           },
           "bgcolor": "#E5ECF6",
           "caxis": {
            "gridcolor": "white",
            "linecolor": "white",
            "ticks": ""
           }
          },
          "title": {
           "x": 0.05
          },
          "xaxis": {
           "automargin": true,
           "gridcolor": "white",
           "linecolor": "white",
           "ticks": "",
           "title": {
            "standoff": 15
           },
           "zerolinecolor": "white",
           "zerolinewidth": 2
          },
          "yaxis": {
           "automargin": true,
           "gridcolor": "white",
           "linecolor": "white",
           "ticks": "",
           "title": {
            "standoff": 15
           },
           "zerolinecolor": "white",
           "zerolinewidth": 2
          }
         }
        },
        "title": {
         "text": "DQN Training"
        },
        "xaxis": {
         "anchor": "y",
         "domain": [
          0,
          0.94
         ],
         "title": {
          "text": "Episode"
         }
        },
        "yaxis": {
         "anchor": "x",
         "domain": [
          0,
          1
         ],
         "title": {
          "text": "Score"
         }
        },
        "yaxis2": {
         "anchor": "x",
         "overlaying": "y",
         "side": "right",
         "title": {
          "text": "Exploration Rate"
         }
        }
       }
      }
     },
     "metadata": {},
     "output_type": "display_data"
    },
    {
     "data": {
      "application/vnd.jupyter.widget-view+json": {
       "model_id": "048ca74d4eb44a17a3649b6d63cd98fd",
       "version_major": 2,
       "version_minor": 0
      },
      "text/plain": [
       "  0%|          | 0/100 [00:00<?, ?it/s]"
      ]
     },
     "metadata": {},
     "output_type": "display_data"
    },
    {
     "name": "stderr",
     "output_type": "stream",
     "text": [
      "/home/ryanpeach/.pyenv/versions/3.11.6/envs/continuing_education/lib/python3.11/site-packages/gym/utils/passive_env_checker.py:233: DeprecationWarning:\n",
      "\n",
      "`np.bool8` is a deprecated alias for `np.bool_`.  (Deprecated NumPy 1.24)\n",
      "\n"
     ]
    },
    {
     "data": {
      "application/vnd.plotly.v1+json": {
       "config": {
        "plotlyServerURL": "https://plot.ly"
       },
       "data": [
        {
         "mode": "lines",
         "name": "Exploration Rate",
         "type": "scatter",
         "x": [
          0,
          1,
          2,
          3,
          4,
          5,
          6,
          7,
          8,
          9,
          10,
          11,
          12,
          13,
          14,
          15,
          16,
          17,
          18,
          19,
          20,
          21,
          22,
          23,
          24,
          25,
          26,
          27,
          28,
          29,
          30,
          31,
          32,
          33,
          34,
          35,
          36,
          37,
          38,
          39,
          40,
          41,
          42,
          43,
          44,
          45,
          46,
          47,
          48,
          49,
          50,
          51,
          52,
          53,
          54,
          55,
          56,
          57,
          58,
          59,
          60,
          61,
          62,
          63,
          64,
          65,
          66,
          67,
          68,
          69,
          70,
          71,
          72,
          73,
          74,
          75,
          76,
          77,
          78,
          79,
          80,
          81,
          82,
          83,
          84,
          85,
          86,
          87,
          88,
          89,
          90,
          91,
          92,
          93,
          94,
          95,
          96,
          97,
          98,
          99
         ],
         "xaxis": "x",
         "y": [
          1,
          0.96,
          0.9216,
          0.884736,
          0.84934656,
          0.8153726976,
          0.782757789696,
          0.7514474781081599,
          0.7213895789838335,
          0.6925339958244802,
          0.6648326359915009,
          0.6382393305518408,
          0.6127097573297672,
          0.5882013670365764,
          0.5646733123551133,
          0.5420863798609088,
          0.5204029246664724,
          0.4995868076798135,
          0.47960333537262095,
          0.4604192019577161,
          0.4420024338794074,
          0.42432233652423107,
          0.4073494430632618,
          0.3910554653407313,
          0.3754132467271021,
          0.360396716858018,
          0.3459808481836973,
          0.33214161425634936,
          0.3188559496860954,
          0.3061017116986515,
          0.29385764323070546,
          0.2821033375014772,
          0.2708192040014181,
          0.2599864358413614,
          0.2495869784077069,
          0.23960349927139862,
          0.23001935930054268,
          0.22081858492852097,
          0.21198584153138011,
          0.2035064078701249,
          0.1953661515553199,
          0.1875515054931071,
          0.1800494452733828,
          0.17284746746244747,
          0.16593356876394957,
          0.15929622601339158,
          0.1529243769728559,
          0.14680740189394167,
          0.140935105818184,
          0.13529770158545662,
          0.12988579352203836,
          0.12469036178115682,
          0.11970274730991054,
          0.11491463741751412,
          0.11031805192081355,
          0.105905329843981,
          0.10166911665022176,
          0.09760235198421288,
          0.09369825790484436,
          0.08995032758865058,
          0.08635231448510455,
          0.08289822190570037,
          0.07958229302947235,
          0.07639900130829345,
          0.07334304125596171,
          0.07040931960572323,
          0.0675929468214943,
          0.06488922894863453,
          0.06229365979068914,
          0.059801913399061574,
          0.05740983686309911,
          0.05511344338857514,
          0.052908905653032134,
          0.050792549426910846,
          0.04876084744983441,
          0.04681041355184103,
          0.04493799700976739,
          0.04314047712937669,
          0.04141485804420163,
          0.03975826372243356,
          0.038167933173536214,
          0.036641215846594764,
          0.03517556721273097,
          0.033768544524221726,
          0.03241780274325286,
          0.031121090633522742,
          0.029876247008181832,
          0.02868119712785456,
          0.027533949242740375,
          0.02643259127303076,
          0.025375287622109527,
          0.024360276117225146,
          0.02338586507253614,
          0.022450430469634693,
          0.021552413250849303,
          0.02069031672081533,
          0.01986270405198272,
          0.019068195889903407,
          0.01830546805430727,
          0.01757324933213498
         ],
         "yaxis": "y2"
        },
        {
         "mode": "lines",
         "name": "Score",
         "type": "scatter",
         "x": [
          0,
          1,
          2,
          3,
          4,
          5,
          6,
          7,
          8,
          9,
          10,
          11,
          12,
          13,
          14,
          15,
          16,
          17,
          18,
          19,
          20,
          21,
          22,
          23,
          24,
          25,
          26,
          27,
          28,
          29,
          30,
          31,
          32,
          33,
          34,
          35,
          36,
          37,
          38,
          39,
          40,
          41,
          42,
          43,
          44,
          45,
          46,
          47,
          48,
          49,
          50,
          51,
          52,
          53,
          54,
          55,
          56,
          57,
          58,
          59,
          60,
          61,
          62,
          63,
          64,
          65,
          66,
          67,
          68,
          69,
          70,
          71,
          72,
          73,
          74,
          75,
          76,
          77,
          78,
          79,
          80,
          81,
          82,
          83,
          84,
          85,
          86,
          87,
          88,
          89,
          90,
          91,
          92,
          93,
          94,
          95,
          96,
          97,
          98,
          99
         ],
         "xaxis": "x",
         "y": [
          13,
          15,
          49,
          33,
          22,
          12,
          21,
          14,
          55,
          21,
          57,
          25,
          9,
          18,
          24,
          21,
          11,
          13,
          24,
          20,
          14,
          33,
          15,
          72,
          100,
          15,
          73,
          43,
          22,
          60,
          52,
          64,
          70,
          17,
          86,
          36,
          100,
          56,
          65,
          72,
          79,
          30,
          27,
          29,
          76,
          59,
          58,
          93,
          63,
          48,
          74,
          27,
          100,
          34,
          23,
          43,
          72,
          54,
          96,
          81,
          75,
          89,
          72,
          100,
          58,
          34,
          75,
          80,
          100,
          33,
          53,
          55,
          100,
          100,
          81,
          92,
          94,
          100,
          100,
          46,
          100,
          72,
          46,
          64,
          58,
          84,
          21,
          51,
          64,
          100,
          49,
          41,
          73,
          43,
          60,
          95,
          100,
          75,
          59,
          26
         ],
         "yaxis": "y"
        }
       ],
       "layout": {
        "template": {
         "data": {
          "bar": [
           {
            "error_x": {
             "color": "#2a3f5f"
            },
            "error_y": {
             "color": "#2a3f5f"
            },
            "marker": {
             "line": {
              "color": "#E5ECF6",
              "width": 0.5
             },
             "pattern": {
              "fillmode": "overlay",
              "size": 10,
              "solidity": 0.2
             }
            },
            "type": "bar"
           }
          ],
          "barpolar": [
           {
            "marker": {
             "line": {
              "color": "#E5ECF6",
              "width": 0.5
             },
             "pattern": {
              "fillmode": "overlay",
              "size": 10,
              "solidity": 0.2
             }
            },
            "type": "barpolar"
           }
          ],
          "carpet": [
           {
            "aaxis": {
             "endlinecolor": "#2a3f5f",
             "gridcolor": "white",
             "linecolor": "white",
             "minorgridcolor": "white",
             "startlinecolor": "#2a3f5f"
            },
            "baxis": {
             "endlinecolor": "#2a3f5f",
             "gridcolor": "white",
             "linecolor": "white",
             "minorgridcolor": "white",
             "startlinecolor": "#2a3f5f"
            },
            "type": "carpet"
           }
          ],
          "choropleth": [
           {
            "colorbar": {
             "outlinewidth": 0,
             "ticks": ""
            },
            "type": "choropleth"
           }
          ],
          "contour": [
           {
            "colorbar": {
             "outlinewidth": 0,
             "ticks": ""
            },
            "colorscale": [
             [
              0,
              "#0d0887"
             ],
             [
              0.1111111111111111,
              "#46039f"
             ],
             [
              0.2222222222222222,
              "#7201a8"
             ],
             [
              0.3333333333333333,
              "#9c179e"
             ],
             [
              0.4444444444444444,
              "#bd3786"
             ],
             [
              0.5555555555555556,
              "#d8576b"
             ],
             [
              0.6666666666666666,
              "#ed7953"
             ],
             [
              0.7777777777777778,
              "#fb9f3a"
             ],
             [
              0.8888888888888888,
              "#fdca26"
             ],
             [
              1,
              "#f0f921"
             ]
            ],
            "type": "contour"
           }
          ],
          "contourcarpet": [
           {
            "colorbar": {
             "outlinewidth": 0,
             "ticks": ""
            },
            "type": "contourcarpet"
           }
          ],
          "heatmap": [
           {
            "colorbar": {
             "outlinewidth": 0,
             "ticks": ""
            },
            "colorscale": [
             [
              0,
              "#0d0887"
             ],
             [
              0.1111111111111111,
              "#46039f"
             ],
             [
              0.2222222222222222,
              "#7201a8"
             ],
             [
              0.3333333333333333,
              "#9c179e"
             ],
             [
              0.4444444444444444,
              "#bd3786"
             ],
             [
              0.5555555555555556,
              "#d8576b"
             ],
             [
              0.6666666666666666,
              "#ed7953"
             ],
             [
              0.7777777777777778,
              "#fb9f3a"
             ],
             [
              0.8888888888888888,
              "#fdca26"
             ],
             [
              1,
              "#f0f921"
             ]
            ],
            "type": "heatmap"
           }
          ],
          "heatmapgl": [
           {
            "colorbar": {
             "outlinewidth": 0,
             "ticks": ""
            },
            "colorscale": [
             [
              0,
              "#0d0887"
             ],
             [
              0.1111111111111111,
              "#46039f"
             ],
             [
              0.2222222222222222,
              "#7201a8"
             ],
             [
              0.3333333333333333,
              "#9c179e"
             ],
             [
              0.4444444444444444,
              "#bd3786"
             ],
             [
              0.5555555555555556,
              "#d8576b"
             ],
             [
              0.6666666666666666,
              "#ed7953"
             ],
             [
              0.7777777777777778,
              "#fb9f3a"
             ],
             [
              0.8888888888888888,
              "#fdca26"
             ],
             [
              1,
              "#f0f921"
             ]
            ],
            "type": "heatmapgl"
           }
          ],
          "histogram": [
           {
            "marker": {
             "pattern": {
              "fillmode": "overlay",
              "size": 10,
              "solidity": 0.2
             }
            },
            "type": "histogram"
           }
          ],
          "histogram2d": [
           {
            "colorbar": {
             "outlinewidth": 0,
             "ticks": ""
            },
            "colorscale": [
             [
              0,
              "#0d0887"
             ],
             [
              0.1111111111111111,
              "#46039f"
             ],
             [
              0.2222222222222222,
              "#7201a8"
             ],
             [
              0.3333333333333333,
              "#9c179e"
             ],
             [
              0.4444444444444444,
              "#bd3786"
             ],
             [
              0.5555555555555556,
              "#d8576b"
             ],
             [
              0.6666666666666666,
              "#ed7953"
             ],
             [
              0.7777777777777778,
              "#fb9f3a"
             ],
             [
              0.8888888888888888,
              "#fdca26"
             ],
             [
              1,
              "#f0f921"
             ]
            ],
            "type": "histogram2d"
           }
          ],
          "histogram2dcontour": [
           {
            "colorbar": {
             "outlinewidth": 0,
             "ticks": ""
            },
            "colorscale": [
             [
              0,
              "#0d0887"
             ],
             [
              0.1111111111111111,
              "#46039f"
             ],
             [
              0.2222222222222222,
              "#7201a8"
             ],
             [
              0.3333333333333333,
              "#9c179e"
             ],
             [
              0.4444444444444444,
              "#bd3786"
             ],
             [
              0.5555555555555556,
              "#d8576b"
             ],
             [
              0.6666666666666666,
              "#ed7953"
             ],
             [
              0.7777777777777778,
              "#fb9f3a"
             ],
             [
              0.8888888888888888,
              "#fdca26"
             ],
             [
              1,
              "#f0f921"
             ]
            ],
            "type": "histogram2dcontour"
           }
          ],
          "mesh3d": [
           {
            "colorbar": {
             "outlinewidth": 0,
             "ticks": ""
            },
            "type": "mesh3d"
           }
          ],
          "parcoords": [
           {
            "line": {
             "colorbar": {
              "outlinewidth": 0,
              "ticks": ""
             }
            },
            "type": "parcoords"
           }
          ],
          "pie": [
           {
            "automargin": true,
            "type": "pie"
           }
          ],
          "scatter": [
           {
            "fillpattern": {
             "fillmode": "overlay",
             "size": 10,
             "solidity": 0.2
            },
            "type": "scatter"
           }
          ],
          "scatter3d": [
           {
            "line": {
             "colorbar": {
              "outlinewidth": 0,
              "ticks": ""
             }
            },
            "marker": {
             "colorbar": {
              "outlinewidth": 0,
              "ticks": ""
             }
            },
            "type": "scatter3d"
           }
          ],
          "scattercarpet": [
           {
            "marker": {
             "colorbar": {
              "outlinewidth": 0,
              "ticks": ""
             }
            },
            "type": "scattercarpet"
           }
          ],
          "scattergeo": [
           {
            "marker": {
             "colorbar": {
              "outlinewidth": 0,
              "ticks": ""
             }
            },
            "type": "scattergeo"
           }
          ],
          "scattergl": [
           {
            "marker": {
             "colorbar": {
              "outlinewidth": 0,
              "ticks": ""
             }
            },
            "type": "scattergl"
           }
          ],
          "scattermapbox": [
           {
            "marker": {
             "colorbar": {
              "outlinewidth": 0,
              "ticks": ""
             }
            },
            "type": "scattermapbox"
           }
          ],
          "scatterpolar": [
           {
            "marker": {
             "colorbar": {
              "outlinewidth": 0,
              "ticks": ""
             }
            },
            "type": "scatterpolar"
           }
          ],
          "scatterpolargl": [
           {
            "marker": {
             "colorbar": {
              "outlinewidth": 0,
              "ticks": ""
             }
            },
            "type": "scatterpolargl"
           }
          ],
          "scatterternary": [
           {
            "marker": {
             "colorbar": {
              "outlinewidth": 0,
              "ticks": ""
             }
            },
            "type": "scatterternary"
           }
          ],
          "surface": [
           {
            "colorbar": {
             "outlinewidth": 0,
             "ticks": ""
            },
            "colorscale": [
             [
              0,
              "#0d0887"
             ],
             [
              0.1111111111111111,
              "#46039f"
             ],
             [
              0.2222222222222222,
              "#7201a8"
             ],
             [
              0.3333333333333333,
              "#9c179e"
             ],
             [
              0.4444444444444444,
              "#bd3786"
             ],
             [
              0.5555555555555556,
              "#d8576b"
             ],
             [
              0.6666666666666666,
              "#ed7953"
             ],
             [
              0.7777777777777778,
              "#fb9f3a"
             ],
             [
              0.8888888888888888,
              "#fdca26"
             ],
             [
              1,
              "#f0f921"
             ]
            ],
            "type": "surface"
           }
          ],
          "table": [
           {
            "cells": {
             "fill": {
              "color": "#EBF0F8"
             },
             "line": {
              "color": "white"
             }
            },
            "header": {
             "fill": {
              "color": "#C8D4E3"
             },
             "line": {
              "color": "white"
             }
            },
            "type": "table"
           }
          ]
         },
         "layout": {
          "annotationdefaults": {
           "arrowcolor": "#2a3f5f",
           "arrowhead": 0,
           "arrowwidth": 1
          },
          "autotypenumbers": "strict",
          "coloraxis": {
           "colorbar": {
            "outlinewidth": 0,
            "ticks": ""
           }
          },
          "colorscale": {
           "diverging": [
            [
             0,
             "#8e0152"
            ],
            [
             0.1,
             "#c51b7d"
            ],
            [
             0.2,
             "#de77ae"
            ],
            [
             0.3,
             "#f1b6da"
            ],
            [
             0.4,
             "#fde0ef"
            ],
            [
             0.5,
             "#f7f7f7"
            ],
            [
             0.6,
             "#e6f5d0"
            ],
            [
             0.7,
             "#b8e186"
            ],
            [
             0.8,
             "#7fbc41"
            ],
            [
             0.9,
             "#4d9221"
            ],
            [
             1,
             "#276419"
            ]
           ],
           "sequential": [
            [
             0,
             "#0d0887"
            ],
            [
             0.1111111111111111,
             "#46039f"
            ],
            [
             0.2222222222222222,
             "#7201a8"
            ],
            [
             0.3333333333333333,
             "#9c179e"
            ],
            [
             0.4444444444444444,
             "#bd3786"
            ],
            [
             0.5555555555555556,
             "#d8576b"
            ],
            [
             0.6666666666666666,
             "#ed7953"
            ],
            [
             0.7777777777777778,
             "#fb9f3a"
            ],
            [
             0.8888888888888888,
             "#fdca26"
            ],
            [
             1,
             "#f0f921"
            ]
           ],
           "sequentialminus": [
            [
             0,
             "#0d0887"
            ],
            [
             0.1111111111111111,
             "#46039f"
            ],
            [
             0.2222222222222222,
             "#7201a8"
            ],
            [
             0.3333333333333333,
             "#9c179e"
            ],
            [
             0.4444444444444444,
             "#bd3786"
            ],
            [
             0.5555555555555556,
             "#d8576b"
            ],
            [
             0.6666666666666666,
             "#ed7953"
            ],
            [
             0.7777777777777778,
             "#fb9f3a"
            ],
            [
             0.8888888888888888,
             "#fdca26"
            ],
            [
             1,
             "#f0f921"
            ]
           ]
          },
          "colorway": [
           "#636efa",
           "#EF553B",
           "#00cc96",
           "#ab63fa",
           "#FFA15A",
           "#19d3f3",
           "#FF6692",
           "#B6E880",
           "#FF97FF",
           "#FECB52"
          ],
          "font": {
           "color": "#2a3f5f"
          },
          "geo": {
           "bgcolor": "white",
           "lakecolor": "white",
           "landcolor": "#E5ECF6",
           "showlakes": true,
           "showland": true,
           "subunitcolor": "white"
          },
          "hoverlabel": {
           "align": "left"
          },
          "hovermode": "closest",
          "mapbox": {
           "style": "light"
          },
          "paper_bgcolor": "white",
          "plot_bgcolor": "#E5ECF6",
          "polar": {
           "angularaxis": {
            "gridcolor": "white",
            "linecolor": "white",
            "ticks": ""
           },
           "bgcolor": "#E5ECF6",
           "radialaxis": {
            "gridcolor": "white",
            "linecolor": "white",
            "ticks": ""
           }
          },
          "scene": {
           "xaxis": {
            "backgroundcolor": "#E5ECF6",
            "gridcolor": "white",
            "gridwidth": 2,
            "linecolor": "white",
            "showbackground": true,
            "ticks": "",
            "zerolinecolor": "white"
           },
           "yaxis": {
            "backgroundcolor": "#E5ECF6",
            "gridcolor": "white",
            "gridwidth": 2,
            "linecolor": "white",
            "showbackground": true,
            "ticks": "",
            "zerolinecolor": "white"
           },
           "zaxis": {
            "backgroundcolor": "#E5ECF6",
            "gridcolor": "white",
            "gridwidth": 2,
            "linecolor": "white",
            "showbackground": true,
            "ticks": "",
            "zerolinecolor": "white"
           }
          },
          "shapedefaults": {
           "line": {
            "color": "#2a3f5f"
           }
          },
          "ternary": {
           "aaxis": {
            "gridcolor": "white",
            "linecolor": "white",
            "ticks": ""
           },
           "baxis": {
            "gridcolor": "white",
            "linecolor": "white",
            "ticks": ""
           },
           "bgcolor": "#E5ECF6",
           "caxis": {
            "gridcolor": "white",
            "linecolor": "white",
            "ticks": ""
           }
          },
          "title": {
           "x": 0.05
          },
          "xaxis": {
           "automargin": true,
           "gridcolor": "white",
           "linecolor": "white",
           "ticks": "",
           "title": {
            "standoff": 15
           },
           "zerolinecolor": "white",
           "zerolinewidth": 2
          },
          "yaxis": {
           "automargin": true,
           "gridcolor": "white",
           "linecolor": "white",
           "ticks": "",
           "title": {
            "standoff": 15
           },
           "zerolinecolor": "white",
           "zerolinewidth": 2
          }
         }
        },
        "title": {
         "text": "DQN Training"
        },
        "xaxis": {
         "anchor": "y",
         "domain": [
          0,
          0.94
         ],
         "title": {
          "text": "Episode"
         }
        },
        "yaxis": {
         "anchor": "x",
         "domain": [
          0,
          1
         ],
         "title": {
          "text": "Score"
         }
        },
        "yaxis2": {
         "anchor": "x",
         "overlaying": "y",
         "side": "right",
         "title": {
          "text": "Exploration Rate"
         }
        }
       }
      }
     },
     "metadata": {},
     "output_type": "display_data"
    },
    {
     "data": {
      "application/vnd.jupyter.widget-view+json": {
       "model_id": "f25abf9b1aee4e538bf71546bf4ff234",
       "version_major": 2,
       "version_minor": 0
      },
      "text/plain": [
       "  0%|          | 0/100 [00:00<?, ?it/s]"
      ]
     },
     "metadata": {},
     "output_type": "display_data"
    }
   ],
   "source": [
    "import gym\n",
    "from continuing_education.lib.experiments import ExperimentManager\n",
    "import plotly.graph_objects as go\n",
    "from plotly.subplots import make_subplots\n",
    "\n",
    "\n",
    "def exploration_rate_line(\n",
    "    *, explore_rate_decay: float, start_value: float, num_episodes: int\n",
    ") -> list[float]:\n",
    "    \"\"\"Plot the exploration rate over time.\"\"\"\n",
    "    exploration_rate = start_value\n",
    "    exploration_rates = []\n",
    "    for _ in range(num_episodes):\n",
    "        exploration_rates.append(exploration_rate)\n",
    "        exploration_rate *= explore_rate_decay\n",
    "    return exploration_rates\n",
    "\n",
    "\n",
    "if __name__ == \"__main__\":\n",
    "    LR = 1e-2\n",
    "    GAMMA = 0.99999  # Cartpole benefits from a high gamma because the longer the pole is up, the higher the reward\n",
    "    HIDDEN_SIZES = [16, 16]\n",
    "    NUM_EPISODES = 100\n",
    "    MAX_T = 100\n",
    "    BATCH_SIZE = 64\n",
    "    MAX_MEMORY = 1000\n",
    "    EXPLORE_RATE_DECAY = 0.96\n",
    "    # Do this a few times to prove consistency\n",
    "    last_10_percent_mean = []\n",
    "\n",
    "    for _ in range(3):\n",
    "        env = gym.make(\"CartPole-v1\")\n",
    "        value_network = QLearningModel(\n",
    "            state_size=OBSERVATION_SPACE_SHAPE[0],\n",
    "            action_size=ACTION_SPACE_SIZE,\n",
    "            hidden_sizes=HIDDEN_SIZES,\n",
    "        ).to(DEVICE)\n",
    "        optimizer = optim.Adam(value_network.parameters(), lr=LR)\n",
    "        scores = dqn_train(\n",
    "            env=env,\n",
    "            value_network=value_network,\n",
    "            optimizer=optimizer,\n",
    "            gamma=GAMMA,\n",
    "            num_episodes=NUM_EPISODES,\n",
    "            max_t=MAX_T,\n",
    "            memory=ActionReplayMemory(MAX_MEMORY),\n",
    "            batch_size=BATCH_SIZE,\n",
    "            exploration_rate_decay=EXPLORE_RATE_DECAY,\n",
    "        )\n",
    "        # Calculate the mean of the last 10 % of the scores\n",
    "        last_10_percent_mean.append(\n",
    "            sum(scores[int(NUM_EPISODES * 0.9) :]) / (NUM_EPISODES * 0.1)\n",
    "        )\n",
    "        _exploration_rate_line = exploration_rate_line(\n",
    "            explore_rate_decay=EXPLORE_RATE_DECAY,\n",
    "            start_value=1.0,\n",
    "            num_episodes=NUM_EPISODES,\n",
    "        )\n",
    "        fig = make_subplots(specs=[[{\"secondary_y\": True}]])\n",
    "        fig.add_trace(\n",
    "            go.Scatter(\n",
    "                x=[i for i in range(NUM_EPISODES)],\n",
    "                y=_exploration_rate_line,\n",
    "                name=\"Exploration Rate\",\n",
    "                mode=\"lines\",\n",
    "            ),\n",
    "            secondary_y=True,\n",
    "        )\n",
    "        fig.add_trace(\n",
    "            go.Scatter(\n",
    "                x=[i for i in range(NUM_EPISODES)], y=scores, name=\"Score\", mode=\"lines\"\n",
    "            ),\n",
    "            secondary_y=False,\n",
    "        )\n",
    "        fig.update_layout(title=\"DQN Training\")\n",
    "        fig.update_xaxes(title_text=\"Episode\")\n",
    "        fig.update_yaxes(title_text=\"Exploration Rate\", secondary_y=True)\n",
    "        fig.update_yaxes(title_text=\"Score\", secondary_y=False)\n",
    "        fig.show()\n",
    "    ExperimentManager(\n",
    "        name=\"DQN\",\n",
    "        description=\"Main Results\",\n",
    "        primary_metric=\"last_10_percent_mean\",\n",
    "        file=__this_file,\n",
    "    ).commit(metrics={\"last_10_percent_mean\": last_10_percent_mean})"
   ]
  },
  {
   "cell_type": "markdown",
   "metadata": {},
   "source": [
    "# References\n",
    "\n",
    "Honestly this was mostly from memory, with a little help from ChatGPT. Here are some resources though:\n",
    "\n",
    "1. Mnih, V., Kavukcuoglu, K., Silver, D., Graves, A., Antonoglou, I., Wierstra, D., & Riedmiller, M. (2013). Playing Atari with Deep Reinforcement Learning. arXiv [Cs.LG]. Retrieved from http://arxiv.org/abs/1312.5602\n",
    "2. UNIT 3. DEEP Q-LEARNING WITH ATARI GAMES. Hugging Face. (n.d.). https://huggingface.co/learn/deep-rl-course/unit3"
   ]
  }
 ],
 "metadata": {
  "jupytext": {
   "formats": "ipynb,py:percent"
  },
  "kernelspec": {
   "display_name": "continuing_education",
   "language": "python",
   "name": "python3"
  },
  "language_info": {
   "codemirror_mode": {
    "name": "ipython",
    "version": 3
   },
   "file_extension": ".py",
   "mimetype": "text/x-python",
   "name": "python",
   "nbconvert_exporter": "python",
   "pygments_lexer": "ipython3",
   "version": "3.11.6"
  }
 },
 "nbformat": 4,
 "nbformat_minor": 2
}
