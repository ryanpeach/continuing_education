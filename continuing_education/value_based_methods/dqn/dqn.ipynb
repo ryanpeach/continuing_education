{
 "cells": [
  {
   "cell_type": "code",
   "execution_count": 2,
   "metadata": {},
   "outputs": [],
   "source": [
    "%load_ext autoreload\n",
    "%autoreload 2"
   ]
  },
  {
   "cell_type": "code",
   "execution_count": 3,
   "metadata": {},
   "outputs": [],
   "source": [
    "from pathlib import Path\n",
    "\n",
    "if __name__ == \"__main__\":\n",
    "    __this_file = Path().resolve() / \"dqn.ipynb\"  # jupyter does not have __file__"
   ]
  },
  {
   "cell_type": "code",
   "execution_count": 4,
   "metadata": {},
   "outputs": [
    {
     "name": "stdout",
     "output_type": "stream",
     "text": [
      "cuda:0\n"
     ]
    }
   ],
   "source": [
    "import torch\n",
    "\n",
    "DEVICE = torch.device(\"cuda:0\" if torch.cuda.is_available() else \"cpu\")\n",
    "\n",
    "if __name__ == \"__main__\":\n",
    "    print(DEVICE)"
   ]
  },
  {
   "cell_type": "code",
   "execution_count": 5,
   "metadata": {},
   "outputs": [],
   "source": [
    "from torch import nn\n",
    "\n",
    "from continuing_education.policy_gradient_methods.reinforce import Action, State, Env\n",
    "import random"
   ]
  },
  {
   "cell_type": "markdown",
   "metadata": {},
   "source": [
    "# Q Learning\n",
    "\n",
    "Lets quickly create a simple Q Learning Agent and test it on cartpole environment."
   ]
  },
  {
   "cell_type": "code",
   "execution_count": 20,
   "metadata": {},
   "outputs": [],
   "source": [
    "class QLearningModel(nn.Module):\n",
    "    def __init__(\n",
    "        self, *, state_size: int, action_size: int, hidden_sizes: list[int]\n",
    "    ) -> None:\n",
    "        \"\"\"\n",
    "        Notice that this is exactly the same as the Policy network from REINFORCE, because\n",
    "        we are still starting from the state and outputting an action. The difference is that\n",
    "        we will not softmax the output, because its not a probability distribution, but rather\n",
    "        a regressor that outputs the Q value of each action.\n",
    "        \"\"\"\n",
    "        super().__init__()\n",
    "        assert len(hidden_sizes) > 0, \"Need at least one hidden layer\"\n",
    "        self.state_size = state_size\n",
    "        self.action_size = action_size\n",
    "        self.hidden_sizes = hidden_sizes\n",
    "\n",
    "        # Dimensions in the network are (batch_size, input_size, output_size)\n",
    "        network: list[nn.Module] = []\n",
    "        network.append(\n",
    "            nn.Linear(state_size, hidden_sizes[0])\n",
    "        )  # Shape: (:, state_size, hidden_sizes[0])\n",
    "        network.append(nn.ReLU())\n",
    "        for i in range(len(hidden_sizes) - 1):\n",
    "            network.append(\n",
    "                nn.Linear(hidden_sizes[i], hidden_sizes[i + 1])\n",
    "            )  # Shape: (:, hidden_sizes[i], hidden_sizes[i+1])\n",
    "            network.append(nn.ReLU())\n",
    "        network.append(\n",
    "            nn.Linear(hidden_sizes[-1], action_size)\n",
    "        )  # Shape: (:, hidden_sizes[-1], action_size)\n",
    "        self.network = nn.Sequential(*network).to(DEVICE)\n",
    "\n",
    "    def forward(self, state: torch.Tensor) -> torch.Tensor:\n",
    "        \"\"\"Takes a state tensor and returns logits along the action space\"\"\"\n",
    "        state = state.to(DEVICE)\n",
    "        return self.network(state)\n",
    "\n",
    "    def act(self, state: State, exploration_rate: float) -> Action:\n",
    "        \"\"\"\n",
    "        Same as the policy network, but instead of softmaxing and sampling,\n",
    "        the network actually is a regressor returning real numbered values, and we are argmaxing over them.\n",
    "        We don't get a log_prob, and we don't pass a temperature, because Q networks cant handle stochastic policies.\n",
    "        We can't use a temperature to control the exploration rate, because the network is not a probability distribution.\n",
    "        However we can randomly choose to explore with a probability of exploration_rate, which will randomly choose an action if a random number is less than exploration_rate.\n",
    "        \"\"\"\n",
    "        # First we got to convert out of numpy and into pytorch\n",
    "        state_tensor = torch.from_numpy(state).float().unsqueeze(0)\n",
    "\n",
    "        # Now we can run the forward pass, whos output is a probability distribution\n",
    "        # along the action space\n",
    "        action_values = self.forward(state_tensor)\n",
    "        assert (\n",
    "            action_values.cpu().shape[-1] == self.action_size\n",
    "        ), \"The output of the network should be a probability distribution over the action space\"\n",
    "\n",
    "        # Now we want to get the action that corresponds to the highest probability\n",
    "        # TODO: We could sample from the pdf instead of taking the greedy argmax\n",
    "        action_idx = torch.argmax(action_values, dim=-1)\n",
    "\n",
    "        # We return the action and the log probability of the action\n",
    "        action_idx_cpu = int(action_idx.item())\n",
    "        assert (\n",
    "            0 <= action_idx_cpu < self.action_size\n",
    "        ), \"The action index should be within the action space\"\n",
    "        if random.random() < exploration_rate:\n",
    "            return Action(random.randint(0, self.action_size - 1))\n",
    "\n",
    "        return Action(action_idx_cpu)"
   ]
  },
  {
   "cell_type": "code",
   "execution_count": 7,
   "metadata": {},
   "outputs": [],
   "source": [
    "from dataclasses import dataclass\n",
    "from collections import deque\n",
    "from typing import NewType\n",
    "\n",
    "\n",
    "@dataclass\n",
    "class SARS:\n",
    "    state: State\n",
    "    action: Action\n",
    "    reward: float\n",
    "    next_state: State\n",
    "    done: bool\n",
    "\n",
    "\n",
    "Trajectory = NewType(\"Trajectory\", list[SARS])"
   ]
  },
  {
   "cell_type": "code",
   "execution_count": 8,
   "metadata": {},
   "outputs": [],
   "source": [
    "from typing import Generator\n",
    "\n",
    "from continuing_education.policy_gradient_methods.reinforce.reinforce import Reward\n",
    "\n",
    "\n",
    "def collect_episode(\n",
    "    *, env: Env, value_network: QLearningModel, max_t: int, exploration_rate: float\n",
    ") -> Generator[SARS, None, None]:\n",
    "    \"\"\"2.1 Returns the trajectory of one episode of using the value network.\n",
    "\n",
    "    The output is a list of SARS tuples, where each tuple represents a state, action, reward, next_state tuple.\n",
    "    \"\"\"\n",
    "    state, _ = env.reset()\n",
    "    done = False\n",
    "    for _ in range(max_t):\n",
    "        action = value_network.act(state, exploration_rate=exploration_rate)\n",
    "        next_state, reward, done, _, _ = env.step(action)\n",
    "        yield SARS(\n",
    "            state=State(state),\n",
    "            action=action,\n",
    "            reward=Reward(reward),\n",
    "            next_state=State(next_state),\n",
    "            done=done,\n",
    "        )\n",
    "        state = next_state\n",
    "        if done:\n",
    "            break"
   ]
  },
  {
   "cell_type": "code",
   "execution_count": 9,
   "metadata": {},
   "outputs": [],
   "source": [
    "class ActionReplayMemory:\n",
    "    \"\"\"The simplest kind of memory buffer for q learning.\n",
    "    This is a FIFO buffer of a fixed length that stores SAR objects from `continuing_education.policy_gradient_methods.reinforce.collect_episode`.\n",
    "    These SAR objects have been modified already using `continuing_education.policy_gradient_methods.reinforce.cumulative_discounted_future_rewards`\n",
    "    to replace their reward values.\n",
    "    \"\"\"\n",
    "\n",
    "    def __init__(self, max_size: int) -> None:\n",
    "        self.buffer: deque[SARS] = deque(maxlen=max_size)\n",
    "\n",
    "    def push(self, item: SARS) -> None:\n",
    "        self.buffer.append(item)\n",
    "\n",
    "    def sample(self, batch_size: int) -> list[SARS]:\n",
    "        if len(self.buffer) < batch_size:\n",
    "            raise ValueError(\"Not enough samples in the buffer\")\n",
    "        return random.sample(self.buffer, batch_size)\n",
    "\n",
    "    def __len__(self) -> int:\n",
    "        return len(self.buffer)"
   ]
  },
  {
   "cell_type": "markdown",
   "metadata": {},
   "source": [
    "# Train"
   ]
  },
  {
   "cell_type": "code",
   "execution_count": 10,
   "metadata": {},
   "outputs": [],
   "source": [
    "from torch import Tensor\n",
    "from tqdm.notebook import trange\n",
    "import torch.optim as optim\n",
    "\n",
    "\n",
    "def objective(\n",
    "    *,\n",
    "    value_network: QLearningModel,\n",
    "    batch: list[SARS],\n",
    "    gamma: float,\n",
    ") -> Tensor:\n",
    "    \"\"\"The objective function for the DQN algorithm is simple regression loss.\"\"\"\n",
    "    states = (\n",
    "        torch.tensor([s.state for s in batch]).float().to(DEVICE)\n",
    "    )  # shape (batch_size, state_size)\n",
    "    assert (\n",
    "        states.shape[1] == value_network.state_size\n",
    "    ), \"The state size of the value network should match the state size of the batch\"\n",
    "    actions = (\n",
    "        torch.tensor([s.action for s in batch]).long().to(DEVICE).unsqueeze(1)\n",
    "    )  # shape (batch_size, 1)\n",
    "    assert actions.shape[1] == 1, \"The action should be a scalar value\"\n",
    "    rewards = (\n",
    "        torch.tensor([s.reward for s in batch]).float().to(DEVICE).unsqueeze(1)\n",
    "    )  # shape (batch_size, 1)\n",
    "    assert rewards.shape[1] == 1, \"The reward should be a scalar value\"\n",
    "    next_states = (\n",
    "        torch.tensor([s.next_state for s in batch]).float().to(DEVICE)\n",
    "    )  # shape (batch_size, state_size)\n",
    "    assert (\n",
    "        next_states.shape[1] == value_network.state_size\n",
    "    ), \"The state size of the value network should match the state size of the batch\"\n",
    "    dones = (\n",
    "        torch.tensor([s.done for s in batch]).float().to(DEVICE).unsqueeze(1)\n",
    "    )  # shape (batch_size, 1)\n",
    "    assert dones.shape[1] == 1, \"The done should be a scalar value\"\n",
    "\n",
    "    # We are going to use the value network to predict the Q values for the current state\n",
    "    predicted_q_values = value_network.forward(\n",
    "        states\n",
    "    )  # shape (batch_size, action_size)\n",
    "    assert predicted_q_values.shape[0] == len(\n",
    "        batch\n",
    "    ), \"The first dimension of the output should match the batch size\"\n",
    "    assert (\n",
    "        predicted_q_values.shape[1] == value_network.action_size\n",
    "    ), \"The output of the network should be the same size as the action space\"\n",
    "\n",
    "    # We are going to use the value network to predict the Q values for the next state\n",
    "    next_predicted_q_values = value_network.forward(\n",
    "        next_states\n",
    "    )  # shape (batch_size, action_size)\n",
    "    assert next_predicted_q_values.shape[0] == len(\n",
    "        batch\n",
    "    ), \"The first dimension of the output should match the batch size\"\n",
    "    assert (\n",
    "        next_predicted_q_values.shape[1] == value_network.action_size\n",
    "    ), \"The output of the network should be the same size as the action space\"\n",
    "\n",
    "    # Generate the Q Loss using the bellman equation\n",
    "    # Q(s, a) = r + gamma * max_a'(Q(s', a'))\n",
    "    next_action_value_predicted = next_predicted_q_values.max(1).values.unsqueeze(1)\n",
    "    bellman = rewards + gamma * next_action_value_predicted * (1.0 - dones)\n",
    "    assert bellman.shape[0] == len(\n",
    "        batch\n",
    "    ), \"The first dimension of the output should match the batch size\"\n",
    "    assert bellman.shape[1] == 1, \"The bellman equation should output a scalar value\"\n",
    "\n",
    "    # We predict the Q values for the current state given the actual action, vs the predicted future rewards from the bellman equation\n",
    "    inp = predicted_q_values.gather(1, actions)\n",
    "    assert (\n",
    "        inp.shape == bellman.shape\n",
    "    ), f\"The input and output of the network should have the same shape, got {inp.shape} and {bellman.shape}\"\n",
    "    loss = nn.MSELoss()(inp, bellman)\n",
    "    assert loss.shape == (), \"The loss should be a scalar value\"\n",
    "\n",
    "    return loss"
   ]
  },
  {
   "cell_type": "code",
   "execution_count": 22,
   "metadata": {},
   "outputs": [],
   "source": [
    "def dqn_train(\n",
    "    *,\n",
    "    env: Env,\n",
    "    value_network: QLearningModel,\n",
    "    memory: ActionReplayMemory,\n",
    "    optimizer: optim.Optimizer,\n",
    "    gamma: float,\n",
    "    num_episodes: int,\n",
    "    max_t: int,\n",
    "    batch_size: int,\n",
    "    exploration_rate_decay: float,\n",
    ") -> list[Reward]:\n",
    "    \"\"\"Algorithm 1 REINFORCE\"\"\"\n",
    "    assert gamma <= 1, \"Gamma should be less than or equal to 1\"\n",
    "    assert gamma > 0, \"Gamma should be greater than 0\"\n",
    "    assert num_episodes > 0, \"Number of episodes should be greater than 0\"\n",
    "    exploration_rate = 1.0\n",
    "    scores: list[Reward] = []\n",
    "    for _ in trange(num_episodes):\n",
    "        _scores = []\n",
    "        for sars in collect_episode(\n",
    "            env=env,\n",
    "            value_network=value_network,\n",
    "            max_t=max_t,\n",
    "            exploration_rate=exploration_rate,\n",
    "        ):\n",
    "            memory.push(sars)\n",
    "            _scores.append(sars.reward)\n",
    "            if len(memory) > batch_size:\n",
    "                batch = memory.sample(batch_size)\n",
    "                loss = objective(value_network=value_network, batch=batch, gamma=gamma)\n",
    "                optimizer.zero_grad()\n",
    "                loss.backward()\n",
    "                optimizer.step()\n",
    "        exploration_rate *= exploration_rate_decay\n",
    "        scores.append(Reward(sum(_scores)))\n",
    "\n",
    "    return scores"
   ]
  },
  {
   "cell_type": "code",
   "execution_count": 24,
   "metadata": {},
   "outputs": [
    {
     "data": {
      "application/vnd.jupyter.widget-view+json": {
       "model_id": "4b23e2573d0c4ed79fe40746cbc6b110",
       "version_major": 2,
       "version_minor": 0
      },
      "text/plain": [
       "  0%|          | 0/100 [00:00<?, ?it/s]"
      ]
     },
     "metadata": {},
     "output_type": "display_data"
    },
    {
     "name": "stdout",
     "output_type": "stream",
     "text": [
      "test_reinforce_train passed\n"
     ]
    },
    {
     "data": {
      "application/vnd.jupyter.widget-view+json": {
       "model_id": "b5f2f1c313dc459f9e0401cf8b8102a5",
       "version_major": 2,
       "version_minor": 0
      },
      "text/plain": [
       "  0%|          | 0/100 [00:00<?, ?it/s]"
      ]
     },
     "metadata": {},
     "output_type": "display_data"
    },
    {
     "name": "stdout",
     "output_type": "stream",
     "text": [
      "test_reinforce_train passed\n"
     ]
    },
    {
     "data": {
      "application/vnd.jupyter.widget-view+json": {
       "model_id": "1c77ef0318744283835ad4b2fdbd5f09",
       "version_major": 2,
       "version_minor": 0
      },
      "text/plain": [
       "  0%|          | 0/100 [00:00<?, ?it/s]"
      ]
     },
     "metadata": {},
     "output_type": "display_data"
    },
    {
     "name": "stdout",
     "output_type": "stream",
     "text": [
      "test_reinforce_train passed\n"
     ]
    }
   ],
   "source": [
    "from continuing_education.policy_gradient_methods.reinforce.reinforce import MockEnv\n",
    "\n",
    "\n",
    "def test_reinforce_train() -> None:\n",
    "    \"\"\"Test the reinforce training loop on the mock environment.\"\"\"\n",
    "    env = MockEnv(max_steps=10)\n",
    "    value_network = QLearningModel(state_size=1, action_size=2, hidden_sizes=[16, 16])\n",
    "    optimizer = optim.Adam(value_network.parameters(), lr=1e-3)\n",
    "    memory = ActionReplayMemory(max_size=1000)\n",
    "    scores = dqn_train(\n",
    "        env=env,\n",
    "        value_network=value_network,\n",
    "        optimizer=optimizer,\n",
    "        memory=memory,\n",
    "        gamma=0.999,\n",
    "        num_episodes=100,\n",
    "        max_t=10,\n",
    "        batch_size=50,\n",
    "        exploration_rate_decay=0.96,\n",
    "    )\n",
    "    assert all(\n",
    "        [score == 10 for score in scores[90:]]\n",
    "    ), f\"The last 10 scores should be 10, got: {scores[90:]}\"\n",
    "\n",
    "\n",
    "if __name__ == \"__main__\":\n",
    "    for _ in range(3):\n",
    "        test_reinforce_train()\n",
    "        print(\"test_reinforce_train passed\")"
   ]
  },
  {
   "cell_type": "code",
   "execution_count": 25,
   "metadata": {},
   "outputs": [
    {
     "name": "stdout",
     "output_type": "stream",
     "text": [
      "State size: (4,)\n",
      "Action size: 2\n",
      "Example state: (array([-0.0385108 , -0.02355589,  0.03053575,  0.01272341], dtype=float32), {})\n",
      "Action return: (array([-0.03898192,  0.17111513,  0.03079022, -0.27017087], dtype=float32), 1.0, False, False, {})\n"
     ]
    },
    {
     "name": "stderr",
     "output_type": "stream",
     "text": [
      "/home/ryanpeach/.pyenv/versions/3.11.6/envs/continuing_education/lib/python3.11/site-packages/gym/utils/passive_env_checker.py:233: DeprecationWarning: `np.bool8` is a deprecated alias for `np.bool_`.  (Deprecated NumPy 1.24)\n",
      "  if not isinstance(terminated, (bool, np.bool8)):\n"
     ]
    }
   ],
   "source": [
    "from continuing_education.policy_gradient_methods.reinforce.reinforce import (\n",
    "    get_environment_space,\n",
    ")\n",
    "\n",
    "\n",
    "if __name__ == \"__main__\":\n",
    "    OBSERVATION_SPACE_SHAPE, ACTION_SPACE_SIZE = get_environment_space(\"CartPole-v1\")"
   ]
  },
  {
   "cell_type": "code",
   "execution_count": 29,
   "metadata": {},
   "outputs": [
    {
     "data": {
      "application/vnd.jupyter.widget-view+json": {
       "model_id": "7e8d8e6e092d41f4b3665fdf3e1f6d16",
       "version_major": 2,
       "version_minor": 0
      },
      "text/plain": [
       "  0%|          | 0/200 [00:00<?, ?it/s]"
      ]
     },
     "metadata": {},
     "output_type": "display_data"
    },
    {
     "data": {
      "application/vnd.plotly.v1+json": {
       "config": {
        "plotlyServerURL": "https://plot.ly"
       },
       "data": [
        {
         "mode": "lines",
         "name": "Exploration Rate",
         "type": "scatter",
         "x": [
          0,
          1,
          2,
          3,
          4,
          5,
          6,
          7,
          8,
          9,
          10,
          11,
          12,
          13,
          14,
          15,
          16,
          17,
          18,
          19,
          20,
          21,
          22,
          23,
          24,
          25,
          26,
          27,
          28,
          29,
          30,
          31,
          32,
          33,
          34,
          35,
          36,
          37,
          38,
          39,
          40,
          41,
          42,
          43,
          44,
          45,
          46,
          47,
          48,
          49,
          50,
          51,
          52,
          53,
          54,
          55,
          56,
          57,
          58,
          59,
          60,
          61,
          62,
          63,
          64,
          65,
          66,
          67,
          68,
          69,
          70,
          71,
          72,
          73,
          74,
          75,
          76,
          77,
          78,
          79,
          80,
          81,
          82,
          83,
          84,
          85,
          86,
          87,
          88,
          89,
          90,
          91,
          92,
          93,
          94,
          95,
          96,
          97,
          98,
          99,
          100,
          101,
          102,
          103,
          104,
          105,
          106,
          107,
          108,
          109,
          110,
          111,
          112,
          113,
          114,
          115,
          116,
          117,
          118,
          119,
          120,
          121,
          122,
          123,
          124,
          125,
          126,
          127,
          128,
          129,
          130,
          131,
          132,
          133,
          134,
          135,
          136,
          137,
          138,
          139,
          140,
          141,
          142,
          143,
          144,
          145,
          146,
          147,
          148,
          149,
          150,
          151,
          152,
          153,
          154,
          155,
          156,
          157,
          158,
          159,
          160,
          161,
          162,
          163,
          164,
          165,
          166,
          167,
          168,
          169,
          170,
          171,
          172,
          173,
          174,
          175,
          176,
          177,
          178,
          179,
          180,
          181,
          182,
          183,
          184,
          185,
          186,
          187,
          188,
          189,
          190,
          191,
          192,
          193,
          194,
          195,
          196,
          197,
          198,
          199
         ],
         "xaxis": "x",
         "y": [
          1,
          0.98,
          0.9603999999999999,
          0.9411919999999999,
          0.9223681599999999,
          0.9039207967999998,
          0.8858423808639998,
          0.8681255332467198,
          0.8507630225817854,
          0.8337477621301497,
          0.8170728068875467,
          0.8007313507497957,
          0.7847167237347998,
          0.7690223892601038,
          0.7536419414749017,
          0.7385691026454037,
          0.7237977205924956,
          0.7093217661806457,
          0.6951353308570327,
          0.6812326242398921,
          0.6676079717550942,
          0.6542558123199923,
          0.6411706960735924,
          0.6283472821521205,
          0.6157803365090782,
          0.6034647297788965,
          0.5913954351833186,
          0.5795675264796523,
          0.5679761759500592,
          0.5566166524310581,
          0.5454843193824369,
          0.5345746329947881,
          0.5238831403348924,
          0.5134054775281945,
          0.5031373679776306,
          0.493074620618078,
          0.48321312820571644,
          0.4735488656416021,
          0.46407788832877006,
          0.45479633056219465,
          0.44570040395095073,
          0.4367863958719317,
          0.42805066795449304,
          0.41948965459540316,
          0.4110998615034951,
          0.4028778642734252,
          0.39482030698795667,
          0.38692390084819756,
          0.3791854228312336,
          0.37160171437460887,
          0.3641696800871167,
          0.35688628648537435,
          0.34974856075566685,
          0.3427535895405535,
          0.33589851774974244,
          0.3291805473947476,
          0.32259693644685267,
          0.3161449977179156,
          0.3098220977635573,
          0.30362565580828615,
          0.2975531426921204,
          0.291602079838278,
          0.2857700382415124,
          0.2800546374766822,
          0.27445354472714856,
          0.2689644738326056,
          0.26358518435595346,
          0.25831348066883436,
          0.2531472110554577,
          0.24808426683434853,
          0.24312258149766156,
          0.2382601298677083,
          0.23349492727035415,
          0.22882502872494706,
          0.22424852815044813,
          0.21976355758743915,
          0.21536828643569036,
          0.21106092070697655,
          0.20683970229283702,
          0.20270290824698028,
          0.19864885008204067,
          0.19467587308039985,
          0.19078235561879187,
          0.18696670850641603,
          0.18322737433628772,
          0.17956282684956196,
          0.1759715703125707,
          0.1724521389063193,
          0.16900309612819292,
          0.16562303420562907,
          0.16231057352151648,
          0.15906436205108615,
          0.15588307481006441,
          0.15276541331386312,
          0.14971010504758586,
          0.14671590294663414,
          0.14378158488770146,
          0.14090595318994742,
          0.13808783412614847,
          0.13532607744362551,
          0.132619555894753,
          0.12996716477685794,
          0.12736782148132078,
          0.12482046505169436,
          0.12232405575066048,
          0.11987757463564727,
          0.11748002314293432,
          0.11513042268007563,
          0.11282781422647412,
          0.11057125794194463,
          0.10835983278310574,
          0.10619263612744362,
          0.10406878340489474,
          0.10198740773679685,
          0.09994765958206091,
          0.0979487063904197,
          0.0959897322626113,
          0.09406993761735907,
          0.0921885388650119,
          0.09034476808771166,
          0.08853787272595742,
          0.08676711527143827,
          0.0850317729660095,
          0.08333113750668932,
          0.08166451475655553,
          0.08003122446142442,
          0.07843059997219594,
          0.07686198797275202,
          0.07532474821329699,
          0.07381825324903105,
          0.07234188818405042,
          0.07089505042036941,
          0.06947714941196202,
          0.06808760642372277,
          0.06672585429524831,
          0.06539133720934334,
          0.06408351046515648,
          0.06280184025585335,
          0.061545803450736285,
          0.060314887381721555,
          0.05910858963408712,
          0.05792641784140538,
          0.05676788948457727,
          0.055632531694885724,
          0.054519881060988006,
          0.05342948343976824,
          0.052360893770972874,
          0.05131367589555342,
          0.05028740237764235,
          0.0492816543300895,
          0.04829602124348771,
          0.04733010081861796,
          0.0463834988022456,
          0.04545582882620069,
          0.04454671224967667,
          0.043655778004683135,
          0.04278266244458947,
          0.04192700919569768,
          0.04108846901178373,
          0.04026669963154805,
          0.03946136563891709,
          0.03867213832613875,
          0.037898695559615975,
          0.03714072164842366,
          0.03639790721545518,
          0.035669949071146075,
          0.034956550089723155,
          0.03425741908792869,
          0.03357227070617012,
          0.032900825292046715,
          0.03224280878620578,
          0.031597952610481664,
          0.03096599355827203,
          0.030346673687106588,
          0.029739740213364455,
          0.029144945409097164,
          0.02856204650091522,
          0.027990805570896914,
          0.027430989459478975,
          0.026882369670289397,
          0.026344722276883607,
          0.025817827831345935,
          0.025301471274719014,
          0.024795441849224633,
          0.02429953301224014,
          0.02381354235199534,
          0.02333727150495543,
          0.02287052607485632,
          0.022413115553359196,
          0.021964853242292012,
          0.02152555617744617,
          0.021095045053897248,
          0.020673144152819303,
          0.02025968126976292,
          0.01985448764436766,
          0.019457397891480308,
          0.0190682499336507,
          0.018686884934977686,
          0.01831314723627813,
          0.017946884291552567
         ],
         "yaxis": "y2"
        },
        {
         "mode": "lines",
         "name": "Score",
         "type": "scatter",
         "x": [
          0,
          1,
          2,
          3,
          4,
          5,
          6,
          7,
          8,
          9,
          10,
          11,
          12,
          13,
          14,
          15,
          16,
          17,
          18,
          19,
          20,
          21,
          22,
          23,
          24,
          25,
          26,
          27,
          28,
          29,
          30,
          31,
          32,
          33,
          34,
          35,
          36,
          37,
          38,
          39,
          40,
          41,
          42,
          43,
          44,
          45,
          46,
          47,
          48,
          49,
          50,
          51,
          52,
          53,
          54,
          55,
          56,
          57,
          58,
          59,
          60,
          61,
          62,
          63,
          64,
          65,
          66,
          67,
          68,
          69,
          70,
          71,
          72,
          73,
          74,
          75,
          76,
          77,
          78,
          79,
          80,
          81,
          82,
          83,
          84,
          85,
          86,
          87,
          88,
          89,
          90,
          91,
          92,
          93,
          94,
          95,
          96,
          97,
          98,
          99,
          100,
          101,
          102,
          103,
          104,
          105,
          106,
          107,
          108,
          109,
          110,
          111,
          112,
          113,
          114,
          115,
          116,
          117,
          118,
          119,
          120,
          121,
          122,
          123,
          124,
          125,
          126,
          127,
          128,
          129,
          130,
          131,
          132,
          133,
          134,
          135,
          136,
          137,
          138,
          139,
          140,
          141,
          142,
          143,
          144,
          145,
          146,
          147,
          148,
          149,
          150,
          151,
          152,
          153,
          154,
          155,
          156,
          157,
          158,
          159,
          160,
          161,
          162,
          163,
          164,
          165,
          166,
          167,
          168,
          169,
          170,
          171,
          172,
          173,
          174,
          175,
          176,
          177,
          178,
          179,
          180,
          181,
          182,
          183,
          184,
          185,
          186,
          187,
          188,
          189,
          190,
          191,
          192,
          193,
          194,
          195,
          196,
          197,
          198,
          199
         ],
         "xaxis": "x",
         "y": [
          17,
          11,
          14,
          17,
          21,
          17,
          43,
          22,
          36,
          11,
          38,
          11,
          68,
          26,
          33,
          63,
          29,
          22,
          19,
          20,
          19,
          16,
          17,
          21,
          25,
          14,
          12,
          15,
          33,
          46,
          31,
          25,
          21,
          24,
          22,
          18,
          24,
          29,
          29,
          13,
          48,
          14,
          20,
          26,
          15,
          14,
          19,
          21,
          30,
          17,
          21,
          15,
          14,
          33,
          31,
          17,
          41,
          25,
          29,
          38,
          37,
          46,
          24,
          84,
          100,
          100,
          44,
          46,
          100,
          59,
          81,
          62,
          21,
          48,
          58,
          72,
          13,
          51,
          65,
          59,
          17,
          78,
          30,
          100,
          100,
          100,
          63,
          100,
          47,
          100,
          87,
          79,
          55,
          75,
          13,
          73,
          100,
          63,
          100,
          100,
          78,
          100,
          100,
          100,
          100,
          100,
          33,
          100,
          100,
          86,
          100,
          100,
          100,
          90,
          100,
          100,
          100,
          100,
          33,
          36,
          37,
          59,
          84,
          100,
          100,
          100,
          100,
          100,
          100,
          100,
          100,
          63,
          100,
          100,
          100,
          100,
          100,
          55,
          100,
          100,
          100,
          100,
          31,
          100,
          34,
          32,
          81,
          75,
          23,
          100,
          33,
          75,
          12,
          50,
          15,
          44,
          27,
          29,
          30,
          29,
          40,
          14,
          17,
          18,
          15,
          17,
          66,
          21,
          25,
          18,
          25,
          16,
          15,
          42,
          22,
          38,
          21,
          18,
          21,
          39,
          29,
          28,
          18,
          19,
          22,
          50,
          28,
          54,
          32,
          18,
          38,
          14,
          46,
          16,
          33,
          19,
          19,
          17,
          11,
          13
         ],
         "yaxis": "y"
        }
       ],
       "layout": {
        "template": {
         "data": {
          "bar": [
           {
            "error_x": {
             "color": "#2a3f5f"
            },
            "error_y": {
             "color": "#2a3f5f"
            },
            "marker": {
             "line": {
              "color": "#E5ECF6",
              "width": 0.5
             },
             "pattern": {
              "fillmode": "overlay",
              "size": 10,
              "solidity": 0.2
             }
            },
            "type": "bar"
           }
          ],
          "barpolar": [
           {
            "marker": {
             "line": {
              "color": "#E5ECF6",
              "width": 0.5
             },
             "pattern": {
              "fillmode": "overlay",
              "size": 10,
              "solidity": 0.2
             }
            },
            "type": "barpolar"
           }
          ],
          "carpet": [
           {
            "aaxis": {
             "endlinecolor": "#2a3f5f",
             "gridcolor": "white",
             "linecolor": "white",
             "minorgridcolor": "white",
             "startlinecolor": "#2a3f5f"
            },
            "baxis": {
             "endlinecolor": "#2a3f5f",
             "gridcolor": "white",
             "linecolor": "white",
             "minorgridcolor": "white",
             "startlinecolor": "#2a3f5f"
            },
            "type": "carpet"
           }
          ],
          "choropleth": [
           {
            "colorbar": {
             "outlinewidth": 0,
             "ticks": ""
            },
            "type": "choropleth"
           }
          ],
          "contour": [
           {
            "colorbar": {
             "outlinewidth": 0,
             "ticks": ""
            },
            "colorscale": [
             [
              0,
              "#0d0887"
             ],
             [
              0.1111111111111111,
              "#46039f"
             ],
             [
              0.2222222222222222,
              "#7201a8"
             ],
             [
              0.3333333333333333,
              "#9c179e"
             ],
             [
              0.4444444444444444,
              "#bd3786"
             ],
             [
              0.5555555555555556,
              "#d8576b"
             ],
             [
              0.6666666666666666,
              "#ed7953"
             ],
             [
              0.7777777777777778,
              "#fb9f3a"
             ],
             [
              0.8888888888888888,
              "#fdca26"
             ],
             [
              1,
              "#f0f921"
             ]
            ],
            "type": "contour"
           }
          ],
          "contourcarpet": [
           {
            "colorbar": {
             "outlinewidth": 0,
             "ticks": ""
            },
            "type": "contourcarpet"
           }
          ],
          "heatmap": [
           {
            "colorbar": {
             "outlinewidth": 0,
             "ticks": ""
            },
            "colorscale": [
             [
              0,
              "#0d0887"
             ],
             [
              0.1111111111111111,
              "#46039f"
             ],
             [
              0.2222222222222222,
              "#7201a8"
             ],
             [
              0.3333333333333333,
              "#9c179e"
             ],
             [
              0.4444444444444444,
              "#bd3786"
             ],
             [
              0.5555555555555556,
              "#d8576b"
             ],
             [
              0.6666666666666666,
              "#ed7953"
             ],
             [
              0.7777777777777778,
              "#fb9f3a"
             ],
             [
              0.8888888888888888,
              "#fdca26"
             ],
             [
              1,
              "#f0f921"
             ]
            ],
            "type": "heatmap"
           }
          ],
          "heatmapgl": [
           {
            "colorbar": {
             "outlinewidth": 0,
             "ticks": ""
            },
            "colorscale": [
             [
              0,
              "#0d0887"
             ],
             [
              0.1111111111111111,
              "#46039f"
             ],
             [
              0.2222222222222222,
              "#7201a8"
             ],
             [
              0.3333333333333333,
              "#9c179e"
             ],
             [
              0.4444444444444444,
              "#bd3786"
             ],
             [
              0.5555555555555556,
              "#d8576b"
             ],
             [
              0.6666666666666666,
              "#ed7953"
             ],
             [
              0.7777777777777778,
              "#fb9f3a"
             ],
             [
              0.8888888888888888,
              "#fdca26"
             ],
             [
              1,
              "#f0f921"
             ]
            ],
            "type": "heatmapgl"
           }
          ],
          "histogram": [
           {
            "marker": {
             "pattern": {
              "fillmode": "overlay",
              "size": 10,
              "solidity": 0.2
             }
            },
            "type": "histogram"
           }
          ],
          "histogram2d": [
           {
            "colorbar": {
             "outlinewidth": 0,
             "ticks": ""
            },
            "colorscale": [
             [
              0,
              "#0d0887"
             ],
             [
              0.1111111111111111,
              "#46039f"
             ],
             [
              0.2222222222222222,
              "#7201a8"
             ],
             [
              0.3333333333333333,
              "#9c179e"
             ],
             [
              0.4444444444444444,
              "#bd3786"
             ],
             [
              0.5555555555555556,
              "#d8576b"
             ],
             [
              0.6666666666666666,
              "#ed7953"
             ],
             [
              0.7777777777777778,
              "#fb9f3a"
             ],
             [
              0.8888888888888888,
              "#fdca26"
             ],
             [
              1,
              "#f0f921"
             ]
            ],
            "type": "histogram2d"
           }
          ],
          "histogram2dcontour": [
           {
            "colorbar": {
             "outlinewidth": 0,
             "ticks": ""
            },
            "colorscale": [
             [
              0,
              "#0d0887"
             ],
             [
              0.1111111111111111,
              "#46039f"
             ],
             [
              0.2222222222222222,
              "#7201a8"
             ],
             [
              0.3333333333333333,
              "#9c179e"
             ],
             [
              0.4444444444444444,
              "#bd3786"
             ],
             [
              0.5555555555555556,
              "#d8576b"
             ],
             [
              0.6666666666666666,
              "#ed7953"
             ],
             [
              0.7777777777777778,
              "#fb9f3a"
             ],
             [
              0.8888888888888888,
              "#fdca26"
             ],
             [
              1,
              "#f0f921"
             ]
            ],
            "type": "histogram2dcontour"
           }
          ],
          "mesh3d": [
           {
            "colorbar": {
             "outlinewidth": 0,
             "ticks": ""
            },
            "type": "mesh3d"
           }
          ],
          "parcoords": [
           {
            "line": {
             "colorbar": {
              "outlinewidth": 0,
              "ticks": ""
             }
            },
            "type": "parcoords"
           }
          ],
          "pie": [
           {
            "automargin": true,
            "type": "pie"
           }
          ],
          "scatter": [
           {
            "fillpattern": {
             "fillmode": "overlay",
             "size": 10,
             "solidity": 0.2
            },
            "type": "scatter"
           }
          ],
          "scatter3d": [
           {
            "line": {
             "colorbar": {
              "outlinewidth": 0,
              "ticks": ""
             }
            },
            "marker": {
             "colorbar": {
              "outlinewidth": 0,
              "ticks": ""
             }
            },
            "type": "scatter3d"
           }
          ],
          "scattercarpet": [
           {
            "marker": {
             "colorbar": {
              "outlinewidth": 0,
              "ticks": ""
             }
            },
            "type": "scattercarpet"
           }
          ],
          "scattergeo": [
           {
            "marker": {
             "colorbar": {
              "outlinewidth": 0,
              "ticks": ""
             }
            },
            "type": "scattergeo"
           }
          ],
          "scattergl": [
           {
            "marker": {
             "colorbar": {
              "outlinewidth": 0,
              "ticks": ""
             }
            },
            "type": "scattergl"
           }
          ],
          "scattermapbox": [
           {
            "marker": {
             "colorbar": {
              "outlinewidth": 0,
              "ticks": ""
             }
            },
            "type": "scattermapbox"
           }
          ],
          "scatterpolar": [
           {
            "marker": {
             "colorbar": {
              "outlinewidth": 0,
              "ticks": ""
             }
            },
            "type": "scatterpolar"
           }
          ],
          "scatterpolargl": [
           {
            "marker": {
             "colorbar": {
              "outlinewidth": 0,
              "ticks": ""
             }
            },
            "type": "scatterpolargl"
           }
          ],
          "scatterternary": [
           {
            "marker": {
             "colorbar": {
              "outlinewidth": 0,
              "ticks": ""
             }
            },
            "type": "scatterternary"
           }
          ],
          "surface": [
           {
            "colorbar": {
             "outlinewidth": 0,
             "ticks": ""
            },
            "colorscale": [
             [
              0,
              "#0d0887"
             ],
             [
              0.1111111111111111,
              "#46039f"
             ],
             [
              0.2222222222222222,
              "#7201a8"
             ],
             [
              0.3333333333333333,
              "#9c179e"
             ],
             [
              0.4444444444444444,
              "#bd3786"
             ],
             [
              0.5555555555555556,
              "#d8576b"
             ],
             [
              0.6666666666666666,
              "#ed7953"
             ],
             [
              0.7777777777777778,
              "#fb9f3a"
             ],
             [
              0.8888888888888888,
              "#fdca26"
             ],
             [
              1,
              "#f0f921"
             ]
            ],
            "type": "surface"
           }
          ],
          "table": [
           {
            "cells": {
             "fill": {
              "color": "#EBF0F8"
             },
             "line": {
              "color": "white"
             }
            },
            "header": {
             "fill": {
              "color": "#C8D4E3"
             },
             "line": {
              "color": "white"
             }
            },
            "type": "table"
           }
          ]
         },
         "layout": {
          "annotationdefaults": {
           "arrowcolor": "#2a3f5f",
           "arrowhead": 0,
           "arrowwidth": 1
          },
          "autotypenumbers": "strict",
          "coloraxis": {
           "colorbar": {
            "outlinewidth": 0,
            "ticks": ""
           }
          },
          "colorscale": {
           "diverging": [
            [
             0,
             "#8e0152"
            ],
            [
             0.1,
             "#c51b7d"
            ],
            [
             0.2,
             "#de77ae"
            ],
            [
             0.3,
             "#f1b6da"
            ],
            [
             0.4,
             "#fde0ef"
            ],
            [
             0.5,
             "#f7f7f7"
            ],
            [
             0.6,
             "#e6f5d0"
            ],
            [
             0.7,
             "#b8e186"
            ],
            [
             0.8,
             "#7fbc41"
            ],
            [
             0.9,
             "#4d9221"
            ],
            [
             1,
             "#276419"
            ]
           ],
           "sequential": [
            [
             0,
             "#0d0887"
            ],
            [
             0.1111111111111111,
             "#46039f"
            ],
            [
             0.2222222222222222,
             "#7201a8"
            ],
            [
             0.3333333333333333,
             "#9c179e"
            ],
            [
             0.4444444444444444,
             "#bd3786"
            ],
            [
             0.5555555555555556,
             "#d8576b"
            ],
            [
             0.6666666666666666,
             "#ed7953"
            ],
            [
             0.7777777777777778,
             "#fb9f3a"
            ],
            [
             0.8888888888888888,
             "#fdca26"
            ],
            [
             1,
             "#f0f921"
            ]
           ],
           "sequentialminus": [
            [
             0,
             "#0d0887"
            ],
            [
             0.1111111111111111,
             "#46039f"
            ],
            [
             0.2222222222222222,
             "#7201a8"
            ],
            [
             0.3333333333333333,
             "#9c179e"
            ],
            [
             0.4444444444444444,
             "#bd3786"
            ],
            [
             0.5555555555555556,
             "#d8576b"
            ],
            [
             0.6666666666666666,
             "#ed7953"
            ],
            [
             0.7777777777777778,
             "#fb9f3a"
            ],
            [
             0.8888888888888888,
             "#fdca26"
            ],
            [
             1,
             "#f0f921"
            ]
           ]
          },
          "colorway": [
           "#636efa",
           "#EF553B",
           "#00cc96",
           "#ab63fa",
           "#FFA15A",
           "#19d3f3",
           "#FF6692",
           "#B6E880",
           "#FF97FF",
           "#FECB52"
          ],
          "font": {
           "color": "#2a3f5f"
          },
          "geo": {
           "bgcolor": "white",
           "lakecolor": "white",
           "landcolor": "#E5ECF6",
           "showlakes": true,
           "showland": true,
           "subunitcolor": "white"
          },
          "hoverlabel": {
           "align": "left"
          },
          "hovermode": "closest",
          "mapbox": {
           "style": "light"
          },
          "paper_bgcolor": "white",
          "plot_bgcolor": "#E5ECF6",
          "polar": {
           "angularaxis": {
            "gridcolor": "white",
            "linecolor": "white",
            "ticks": ""
           },
           "bgcolor": "#E5ECF6",
           "radialaxis": {
            "gridcolor": "white",
            "linecolor": "white",
            "ticks": ""
           }
          },
          "scene": {
           "xaxis": {
            "backgroundcolor": "#E5ECF6",
            "gridcolor": "white",
            "gridwidth": 2,
            "linecolor": "white",
            "showbackground": true,
            "ticks": "",
            "zerolinecolor": "white"
           },
           "yaxis": {
            "backgroundcolor": "#E5ECF6",
            "gridcolor": "white",
            "gridwidth": 2,
            "linecolor": "white",
            "showbackground": true,
            "ticks": "",
            "zerolinecolor": "white"
           },
           "zaxis": {
            "backgroundcolor": "#E5ECF6",
            "gridcolor": "white",
            "gridwidth": 2,
            "linecolor": "white",
            "showbackground": true,
            "ticks": "",
            "zerolinecolor": "white"
           }
          },
          "shapedefaults": {
           "line": {
            "color": "#2a3f5f"
           }
          },
          "ternary": {
           "aaxis": {
            "gridcolor": "white",
            "linecolor": "white",
            "ticks": ""
           },
           "baxis": {
            "gridcolor": "white",
            "linecolor": "white",
            "ticks": ""
           },
           "bgcolor": "#E5ECF6",
           "caxis": {
            "gridcolor": "white",
            "linecolor": "white",
            "ticks": ""
           }
          },
          "title": {
           "x": 0.05
          },
          "xaxis": {
           "automargin": true,
           "gridcolor": "white",
           "linecolor": "white",
           "ticks": "",
           "title": {
            "standoff": 15
           },
           "zerolinecolor": "white",
           "zerolinewidth": 2
          },
          "yaxis": {
           "automargin": true,
           "gridcolor": "white",
           "linecolor": "white",
           "ticks": "",
           "title": {
            "standoff": 15
           },
           "zerolinecolor": "white",
           "zerolinewidth": 2
          }
         }
        },
        "title": {
         "text": "DQN Training"
        },
        "xaxis": {
         "anchor": "y",
         "domain": [
          0,
          0.94
         ],
         "title": {
          "text": "Episode"
         }
        },
        "yaxis": {
         "anchor": "x",
         "domain": [
          0,
          1
         ],
         "title": {
          "text": "Score"
         }
        },
        "yaxis2": {
         "anchor": "x",
         "overlaying": "y",
         "side": "right",
         "title": {
          "text": "Exploration Rate"
         }
        }
       }
      }
     },
     "metadata": {},
     "output_type": "display_data"
    },
    {
     "data": {
      "application/vnd.jupyter.widget-view+json": {
       "model_id": "e702b5780ea64213bfbd7dded6761442",
       "version_major": 2,
       "version_minor": 0
      },
      "text/plain": [
       "  0%|          | 0/200 [00:00<?, ?it/s]"
      ]
     },
     "metadata": {},
     "output_type": "display_data"
    },
    {
     "data": {
      "application/vnd.plotly.v1+json": {
       "config": {
        "plotlyServerURL": "https://plot.ly"
       },
       "data": [
        {
         "mode": "lines",
         "name": "Exploration Rate",
         "type": "scatter",
         "x": [
          0,
          1,
          2,
          3,
          4,
          5,
          6,
          7,
          8,
          9,
          10,
          11,
          12,
          13,
          14,
          15,
          16,
          17,
          18,
          19,
          20,
          21,
          22,
          23,
          24,
          25,
          26,
          27,
          28,
          29,
          30,
          31,
          32,
          33,
          34,
          35,
          36,
          37,
          38,
          39,
          40,
          41,
          42,
          43,
          44,
          45,
          46,
          47,
          48,
          49,
          50,
          51,
          52,
          53,
          54,
          55,
          56,
          57,
          58,
          59,
          60,
          61,
          62,
          63,
          64,
          65,
          66,
          67,
          68,
          69,
          70,
          71,
          72,
          73,
          74,
          75,
          76,
          77,
          78,
          79,
          80,
          81,
          82,
          83,
          84,
          85,
          86,
          87,
          88,
          89,
          90,
          91,
          92,
          93,
          94,
          95,
          96,
          97,
          98,
          99,
          100,
          101,
          102,
          103,
          104,
          105,
          106,
          107,
          108,
          109,
          110,
          111,
          112,
          113,
          114,
          115,
          116,
          117,
          118,
          119,
          120,
          121,
          122,
          123,
          124,
          125,
          126,
          127,
          128,
          129,
          130,
          131,
          132,
          133,
          134,
          135,
          136,
          137,
          138,
          139,
          140,
          141,
          142,
          143,
          144,
          145,
          146,
          147,
          148,
          149,
          150,
          151,
          152,
          153,
          154,
          155,
          156,
          157,
          158,
          159,
          160,
          161,
          162,
          163,
          164,
          165,
          166,
          167,
          168,
          169,
          170,
          171,
          172,
          173,
          174,
          175,
          176,
          177,
          178,
          179,
          180,
          181,
          182,
          183,
          184,
          185,
          186,
          187,
          188,
          189,
          190,
          191,
          192,
          193,
          194,
          195,
          196,
          197,
          198,
          199
         ],
         "xaxis": "x",
         "y": [
          1,
          0.98,
          0.9603999999999999,
          0.9411919999999999,
          0.9223681599999999,
          0.9039207967999998,
          0.8858423808639998,
          0.8681255332467198,
          0.8507630225817854,
          0.8337477621301497,
          0.8170728068875467,
          0.8007313507497957,
          0.7847167237347998,
          0.7690223892601038,
          0.7536419414749017,
          0.7385691026454037,
          0.7237977205924956,
          0.7093217661806457,
          0.6951353308570327,
          0.6812326242398921,
          0.6676079717550942,
          0.6542558123199923,
          0.6411706960735924,
          0.6283472821521205,
          0.6157803365090782,
          0.6034647297788965,
          0.5913954351833186,
          0.5795675264796523,
          0.5679761759500592,
          0.5566166524310581,
          0.5454843193824369,
          0.5345746329947881,
          0.5238831403348924,
          0.5134054775281945,
          0.5031373679776306,
          0.493074620618078,
          0.48321312820571644,
          0.4735488656416021,
          0.46407788832877006,
          0.45479633056219465,
          0.44570040395095073,
          0.4367863958719317,
          0.42805066795449304,
          0.41948965459540316,
          0.4110998615034951,
          0.4028778642734252,
          0.39482030698795667,
          0.38692390084819756,
          0.3791854228312336,
          0.37160171437460887,
          0.3641696800871167,
          0.35688628648537435,
          0.34974856075566685,
          0.3427535895405535,
          0.33589851774974244,
          0.3291805473947476,
          0.32259693644685267,
          0.3161449977179156,
          0.3098220977635573,
          0.30362565580828615,
          0.2975531426921204,
          0.291602079838278,
          0.2857700382415124,
          0.2800546374766822,
          0.27445354472714856,
          0.2689644738326056,
          0.26358518435595346,
          0.25831348066883436,
          0.2531472110554577,
          0.24808426683434853,
          0.24312258149766156,
          0.2382601298677083,
          0.23349492727035415,
          0.22882502872494706,
          0.22424852815044813,
          0.21976355758743915,
          0.21536828643569036,
          0.21106092070697655,
          0.20683970229283702,
          0.20270290824698028,
          0.19864885008204067,
          0.19467587308039985,
          0.19078235561879187,
          0.18696670850641603,
          0.18322737433628772,
          0.17956282684956196,
          0.1759715703125707,
          0.1724521389063193,
          0.16900309612819292,
          0.16562303420562907,
          0.16231057352151648,
          0.15906436205108615,
          0.15588307481006441,
          0.15276541331386312,
          0.14971010504758586,
          0.14671590294663414,
          0.14378158488770146,
          0.14090595318994742,
          0.13808783412614847,
          0.13532607744362551,
          0.132619555894753,
          0.12996716477685794,
          0.12736782148132078,
          0.12482046505169436,
          0.12232405575066048,
          0.11987757463564727,
          0.11748002314293432,
          0.11513042268007563,
          0.11282781422647412,
          0.11057125794194463,
          0.10835983278310574,
          0.10619263612744362,
          0.10406878340489474,
          0.10198740773679685,
          0.09994765958206091,
          0.0979487063904197,
          0.0959897322626113,
          0.09406993761735907,
          0.0921885388650119,
          0.09034476808771166,
          0.08853787272595742,
          0.08676711527143827,
          0.0850317729660095,
          0.08333113750668932,
          0.08166451475655553,
          0.08003122446142442,
          0.07843059997219594,
          0.07686198797275202,
          0.07532474821329699,
          0.07381825324903105,
          0.07234188818405042,
          0.07089505042036941,
          0.06947714941196202,
          0.06808760642372277,
          0.06672585429524831,
          0.06539133720934334,
          0.06408351046515648,
          0.06280184025585335,
          0.061545803450736285,
          0.060314887381721555,
          0.05910858963408712,
          0.05792641784140538,
          0.05676788948457727,
          0.055632531694885724,
          0.054519881060988006,
          0.05342948343976824,
          0.052360893770972874,
          0.05131367589555342,
          0.05028740237764235,
          0.0492816543300895,
          0.04829602124348771,
          0.04733010081861796,
          0.0463834988022456,
          0.04545582882620069,
          0.04454671224967667,
          0.043655778004683135,
          0.04278266244458947,
          0.04192700919569768,
          0.04108846901178373,
          0.04026669963154805,
          0.03946136563891709,
          0.03867213832613875,
          0.037898695559615975,
          0.03714072164842366,
          0.03639790721545518,
          0.035669949071146075,
          0.034956550089723155,
          0.03425741908792869,
          0.03357227070617012,
          0.032900825292046715,
          0.03224280878620578,
          0.031597952610481664,
          0.03096599355827203,
          0.030346673687106588,
          0.029739740213364455,
          0.029144945409097164,
          0.02856204650091522,
          0.027990805570896914,
          0.027430989459478975,
          0.026882369670289397,
          0.026344722276883607,
          0.025817827831345935,
          0.025301471274719014,
          0.024795441849224633,
          0.02429953301224014,
          0.02381354235199534,
          0.02333727150495543,
          0.02287052607485632,
          0.022413115553359196,
          0.021964853242292012,
          0.02152555617744617,
          0.021095045053897248,
          0.020673144152819303,
          0.02025968126976292,
          0.01985448764436766,
          0.019457397891480308,
          0.0190682499336507,
          0.018686884934977686,
          0.01831314723627813,
          0.017946884291552567
         ],
         "yaxis": "y2"
        },
        {
         "mode": "lines",
         "name": "Score",
         "type": "scatter",
         "x": [
          0,
          1,
          2,
          3,
          4,
          5,
          6,
          7,
          8,
          9,
          10,
          11,
          12,
          13,
          14,
          15,
          16,
          17,
          18,
          19,
          20,
          21,
          22,
          23,
          24,
          25,
          26,
          27,
          28,
          29,
          30,
          31,
          32,
          33,
          34,
          35,
          36,
          37,
          38,
          39,
          40,
          41,
          42,
          43,
          44,
          45,
          46,
          47,
          48,
          49,
          50,
          51,
          52,
          53,
          54,
          55,
          56,
          57,
          58,
          59,
          60,
          61,
          62,
          63,
          64,
          65,
          66,
          67,
          68,
          69,
          70,
          71,
          72,
          73,
          74,
          75,
          76,
          77,
          78,
          79,
          80,
          81,
          82,
          83,
          84,
          85,
          86,
          87,
          88,
          89,
          90,
          91,
          92,
          93,
          94,
          95,
          96,
          97,
          98,
          99,
          100,
          101,
          102,
          103,
          104,
          105,
          106,
          107,
          108,
          109,
          110,
          111,
          112,
          113,
          114,
          115,
          116,
          117,
          118,
          119,
          120,
          121,
          122,
          123,
          124,
          125,
          126,
          127,
          128,
          129,
          130,
          131,
          132,
          133,
          134,
          135,
          136,
          137,
          138,
          139,
          140,
          141,
          142,
          143,
          144,
          145,
          146,
          147,
          148,
          149,
          150,
          151,
          152,
          153,
          154,
          155,
          156,
          157,
          158,
          159,
          160,
          161,
          162,
          163,
          164,
          165,
          166,
          167,
          168,
          169,
          170,
          171,
          172,
          173,
          174,
          175,
          176,
          177,
          178,
          179,
          180,
          181,
          182,
          183,
          184,
          185,
          186,
          187,
          188,
          189,
          190,
          191,
          192,
          193,
          194,
          195,
          196,
          197,
          198,
          199
         ],
         "xaxis": "x",
         "y": [
          23,
          11,
          25,
          13,
          11,
          15,
          18,
          22,
          12,
          17,
          11,
          22,
          18,
          12,
          24,
          38,
          15,
          20,
          10,
          36,
          19,
          48,
          35,
          18,
          17,
          29,
          80,
          15,
          27,
          25,
          56,
          24,
          22,
          20,
          41,
          33,
          59,
          21,
          66,
          31,
          63,
          62,
          17,
          57,
          100,
          28,
          73,
          76,
          73,
          64,
          68,
          100,
          54,
          28,
          50,
          65,
          50,
          16,
          67,
          60,
          88,
          99,
          100,
          100,
          50,
          60,
          31,
          84,
          43,
          46,
          13,
          37,
          23,
          41,
          41,
          27,
          65,
          68,
          88,
          32,
          32,
          28,
          25,
          89,
          33,
          36,
          45,
          100,
          70,
          65,
          22,
          45,
          100,
          65,
          76,
          84,
          41,
          92,
          51,
          16,
          91,
          80,
          56,
          39,
          35,
          19,
          58,
          55,
          54,
          91,
          86,
          48,
          73,
          23,
          75,
          42,
          12,
          31,
          43,
          34,
          54,
          60,
          46,
          45,
          42,
          73,
          37,
          12,
          59,
          41,
          38,
          33,
          45,
          40,
          13,
          45,
          63,
          42,
          51,
          32,
          53,
          45,
          41,
          31,
          29,
          31,
          42,
          15,
          14,
          43,
          25,
          10,
          68,
          21,
          33,
          100,
          25,
          29,
          37,
          20,
          31,
          41,
          20,
          19,
          75,
          44,
          30,
          27,
          17,
          23,
          43,
          26,
          27,
          42,
          36,
          18,
          17,
          24,
          34,
          26,
          20,
          16,
          19,
          65,
          21,
          33,
          25,
          35,
          44,
          16,
          34,
          43,
          29,
          14,
          19,
          18,
          44,
          35,
          29,
          27
         ],
         "yaxis": "y"
        }
       ],
       "layout": {
        "template": {
         "data": {
          "bar": [
           {
            "error_x": {
             "color": "#2a3f5f"
            },
            "error_y": {
             "color": "#2a3f5f"
            },
            "marker": {
             "line": {
              "color": "#E5ECF6",
              "width": 0.5
             },
             "pattern": {
              "fillmode": "overlay",
              "size": 10,
              "solidity": 0.2
             }
            },
            "type": "bar"
           }
          ],
          "barpolar": [
           {
            "marker": {
             "line": {
              "color": "#E5ECF6",
              "width": 0.5
             },
             "pattern": {
              "fillmode": "overlay",
              "size": 10,
              "solidity": 0.2
             }
            },
            "type": "barpolar"
           }
          ],
          "carpet": [
           {
            "aaxis": {
             "endlinecolor": "#2a3f5f",
             "gridcolor": "white",
             "linecolor": "white",
             "minorgridcolor": "white",
             "startlinecolor": "#2a3f5f"
            },
            "baxis": {
             "endlinecolor": "#2a3f5f",
             "gridcolor": "white",
             "linecolor": "white",
             "minorgridcolor": "white",
             "startlinecolor": "#2a3f5f"
            },
            "type": "carpet"
           }
          ],
          "choropleth": [
           {
            "colorbar": {
             "outlinewidth": 0,
             "ticks": ""
            },
            "type": "choropleth"
           }
          ],
          "contour": [
           {
            "colorbar": {
             "outlinewidth": 0,
             "ticks": ""
            },
            "colorscale": [
             [
              0,
              "#0d0887"
             ],
             [
              0.1111111111111111,
              "#46039f"
             ],
             [
              0.2222222222222222,
              "#7201a8"
             ],
             [
              0.3333333333333333,
              "#9c179e"
             ],
             [
              0.4444444444444444,
              "#bd3786"
             ],
             [
              0.5555555555555556,
              "#d8576b"
             ],
             [
              0.6666666666666666,
              "#ed7953"
             ],
             [
              0.7777777777777778,
              "#fb9f3a"
             ],
             [
              0.8888888888888888,
              "#fdca26"
             ],
             [
              1,
              "#f0f921"
             ]
            ],
            "type": "contour"
           }
          ],
          "contourcarpet": [
           {
            "colorbar": {
             "outlinewidth": 0,
             "ticks": ""
            },
            "type": "contourcarpet"
           }
          ],
          "heatmap": [
           {
            "colorbar": {
             "outlinewidth": 0,
             "ticks": ""
            },
            "colorscale": [
             [
              0,
              "#0d0887"
             ],
             [
              0.1111111111111111,
              "#46039f"
             ],
             [
              0.2222222222222222,
              "#7201a8"
             ],
             [
              0.3333333333333333,
              "#9c179e"
             ],
             [
              0.4444444444444444,
              "#bd3786"
             ],
             [
              0.5555555555555556,
              "#d8576b"
             ],
             [
              0.6666666666666666,
              "#ed7953"
             ],
             [
              0.7777777777777778,
              "#fb9f3a"
             ],
             [
              0.8888888888888888,
              "#fdca26"
             ],
             [
              1,
              "#f0f921"
             ]
            ],
            "type": "heatmap"
           }
          ],
          "heatmapgl": [
           {
            "colorbar": {
             "outlinewidth": 0,
             "ticks": ""
            },
            "colorscale": [
             [
              0,
              "#0d0887"
             ],
             [
              0.1111111111111111,
              "#46039f"
             ],
             [
              0.2222222222222222,
              "#7201a8"
             ],
             [
              0.3333333333333333,
              "#9c179e"
             ],
             [
              0.4444444444444444,
              "#bd3786"
             ],
             [
              0.5555555555555556,
              "#d8576b"
             ],
             [
              0.6666666666666666,
              "#ed7953"
             ],
             [
              0.7777777777777778,
              "#fb9f3a"
             ],
             [
              0.8888888888888888,
              "#fdca26"
             ],
             [
              1,
              "#f0f921"
             ]
            ],
            "type": "heatmapgl"
           }
          ],
          "histogram": [
           {
            "marker": {
             "pattern": {
              "fillmode": "overlay",
              "size": 10,
              "solidity": 0.2
             }
            },
            "type": "histogram"
           }
          ],
          "histogram2d": [
           {
            "colorbar": {
             "outlinewidth": 0,
             "ticks": ""
            },
            "colorscale": [
             [
              0,
              "#0d0887"
             ],
             [
              0.1111111111111111,
              "#46039f"
             ],
             [
              0.2222222222222222,
              "#7201a8"
             ],
             [
              0.3333333333333333,
              "#9c179e"
             ],
             [
              0.4444444444444444,
              "#bd3786"
             ],
             [
              0.5555555555555556,
              "#d8576b"
             ],
             [
              0.6666666666666666,
              "#ed7953"
             ],
             [
              0.7777777777777778,
              "#fb9f3a"
             ],
             [
              0.8888888888888888,
              "#fdca26"
             ],
             [
              1,
              "#f0f921"
             ]
            ],
            "type": "histogram2d"
           }
          ],
          "histogram2dcontour": [
           {
            "colorbar": {
             "outlinewidth": 0,
             "ticks": ""
            },
            "colorscale": [
             [
              0,
              "#0d0887"
             ],
             [
              0.1111111111111111,
              "#46039f"
             ],
             [
              0.2222222222222222,
              "#7201a8"
             ],
             [
              0.3333333333333333,
              "#9c179e"
             ],
             [
              0.4444444444444444,
              "#bd3786"
             ],
             [
              0.5555555555555556,
              "#d8576b"
             ],
             [
              0.6666666666666666,
              "#ed7953"
             ],
             [
              0.7777777777777778,
              "#fb9f3a"
             ],
             [
              0.8888888888888888,
              "#fdca26"
             ],
             [
              1,
              "#f0f921"
             ]
            ],
            "type": "histogram2dcontour"
           }
          ],
          "mesh3d": [
           {
            "colorbar": {
             "outlinewidth": 0,
             "ticks": ""
            },
            "type": "mesh3d"
           }
          ],
          "parcoords": [
           {
            "line": {
             "colorbar": {
              "outlinewidth": 0,
              "ticks": ""
             }
            },
            "type": "parcoords"
           }
          ],
          "pie": [
           {
            "automargin": true,
            "type": "pie"
           }
          ],
          "scatter": [
           {
            "fillpattern": {
             "fillmode": "overlay",
             "size": 10,
             "solidity": 0.2
            },
            "type": "scatter"
           }
          ],
          "scatter3d": [
           {
            "line": {
             "colorbar": {
              "outlinewidth": 0,
              "ticks": ""
             }
            },
            "marker": {
             "colorbar": {
              "outlinewidth": 0,
              "ticks": ""
             }
            },
            "type": "scatter3d"
           }
          ],
          "scattercarpet": [
           {
            "marker": {
             "colorbar": {
              "outlinewidth": 0,
              "ticks": ""
             }
            },
            "type": "scattercarpet"
           }
          ],
          "scattergeo": [
           {
            "marker": {
             "colorbar": {
              "outlinewidth": 0,
              "ticks": ""
             }
            },
            "type": "scattergeo"
           }
          ],
          "scattergl": [
           {
            "marker": {
             "colorbar": {
              "outlinewidth": 0,
              "ticks": ""
             }
            },
            "type": "scattergl"
           }
          ],
          "scattermapbox": [
           {
            "marker": {
             "colorbar": {
              "outlinewidth": 0,
              "ticks": ""
             }
            },
            "type": "scattermapbox"
           }
          ],
          "scatterpolar": [
           {
            "marker": {
             "colorbar": {
              "outlinewidth": 0,
              "ticks": ""
             }
            },
            "type": "scatterpolar"
           }
          ],
          "scatterpolargl": [
           {
            "marker": {
             "colorbar": {
              "outlinewidth": 0,
              "ticks": ""
             }
            },
            "type": "scatterpolargl"
           }
          ],
          "scatterternary": [
           {
            "marker": {
             "colorbar": {
              "outlinewidth": 0,
              "ticks": ""
             }
            },
            "type": "scatterternary"
           }
          ],
          "surface": [
           {
            "colorbar": {
             "outlinewidth": 0,
             "ticks": ""
            },
            "colorscale": [
             [
              0,
              "#0d0887"
             ],
             [
              0.1111111111111111,
              "#46039f"
             ],
             [
              0.2222222222222222,
              "#7201a8"
             ],
             [
              0.3333333333333333,
              "#9c179e"
             ],
             [
              0.4444444444444444,
              "#bd3786"
             ],
             [
              0.5555555555555556,
              "#d8576b"
             ],
             [
              0.6666666666666666,
              "#ed7953"
             ],
             [
              0.7777777777777778,
              "#fb9f3a"
             ],
             [
              0.8888888888888888,
              "#fdca26"
             ],
             [
              1,
              "#f0f921"
             ]
            ],
            "type": "surface"
           }
          ],
          "table": [
           {
            "cells": {
             "fill": {
              "color": "#EBF0F8"
             },
             "line": {
              "color": "white"
             }
            },
            "header": {
             "fill": {
              "color": "#C8D4E3"
             },
             "line": {
              "color": "white"
             }
            },
            "type": "table"
           }
          ]
         },
         "layout": {
          "annotationdefaults": {
           "arrowcolor": "#2a3f5f",
           "arrowhead": 0,
           "arrowwidth": 1
          },
          "autotypenumbers": "strict",
          "coloraxis": {
           "colorbar": {
            "outlinewidth": 0,
            "ticks": ""
           }
          },
          "colorscale": {
           "diverging": [
            [
             0,
             "#8e0152"
            ],
            [
             0.1,
             "#c51b7d"
            ],
            [
             0.2,
             "#de77ae"
            ],
            [
             0.3,
             "#f1b6da"
            ],
            [
             0.4,
             "#fde0ef"
            ],
            [
             0.5,
             "#f7f7f7"
            ],
            [
             0.6,
             "#e6f5d0"
            ],
            [
             0.7,
             "#b8e186"
            ],
            [
             0.8,
             "#7fbc41"
            ],
            [
             0.9,
             "#4d9221"
            ],
            [
             1,
             "#276419"
            ]
           ],
           "sequential": [
            [
             0,
             "#0d0887"
            ],
            [
             0.1111111111111111,
             "#46039f"
            ],
            [
             0.2222222222222222,
             "#7201a8"
            ],
            [
             0.3333333333333333,
             "#9c179e"
            ],
            [
             0.4444444444444444,
             "#bd3786"
            ],
            [
             0.5555555555555556,
             "#d8576b"
            ],
            [
             0.6666666666666666,
             "#ed7953"
            ],
            [
             0.7777777777777778,
             "#fb9f3a"
            ],
            [
             0.8888888888888888,
             "#fdca26"
            ],
            [
             1,
             "#f0f921"
            ]
           ],
           "sequentialminus": [
            [
             0,
             "#0d0887"
            ],
            [
             0.1111111111111111,
             "#46039f"
            ],
            [
             0.2222222222222222,
             "#7201a8"
            ],
            [
             0.3333333333333333,
             "#9c179e"
            ],
            [
             0.4444444444444444,
             "#bd3786"
            ],
            [
             0.5555555555555556,
             "#d8576b"
            ],
            [
             0.6666666666666666,
             "#ed7953"
            ],
            [
             0.7777777777777778,
             "#fb9f3a"
            ],
            [
             0.8888888888888888,
             "#fdca26"
            ],
            [
             1,
             "#f0f921"
            ]
           ]
          },
          "colorway": [
           "#636efa",
           "#EF553B",
           "#00cc96",
           "#ab63fa",
           "#FFA15A",
           "#19d3f3",
           "#FF6692",
           "#B6E880",
           "#FF97FF",
           "#FECB52"
          ],
          "font": {
           "color": "#2a3f5f"
          },
          "geo": {
           "bgcolor": "white",
           "lakecolor": "white",
           "landcolor": "#E5ECF6",
           "showlakes": true,
           "showland": true,
           "subunitcolor": "white"
          },
          "hoverlabel": {
           "align": "left"
          },
          "hovermode": "closest",
          "mapbox": {
           "style": "light"
          },
          "paper_bgcolor": "white",
          "plot_bgcolor": "#E5ECF6",
          "polar": {
           "angularaxis": {
            "gridcolor": "white",
            "linecolor": "white",
            "ticks": ""
           },
           "bgcolor": "#E5ECF6",
           "radialaxis": {
            "gridcolor": "white",
            "linecolor": "white",
            "ticks": ""
           }
          },
          "scene": {
           "xaxis": {
            "backgroundcolor": "#E5ECF6",
            "gridcolor": "white",
            "gridwidth": 2,
            "linecolor": "white",
            "showbackground": true,
            "ticks": "",
            "zerolinecolor": "white"
           },
           "yaxis": {
            "backgroundcolor": "#E5ECF6",
            "gridcolor": "white",
            "gridwidth": 2,
            "linecolor": "white",
            "showbackground": true,
            "ticks": "",
            "zerolinecolor": "white"
           },
           "zaxis": {
            "backgroundcolor": "#E5ECF6",
            "gridcolor": "white",
            "gridwidth": 2,
            "linecolor": "white",
            "showbackground": true,
            "ticks": "",
            "zerolinecolor": "white"
           }
          },
          "shapedefaults": {
           "line": {
            "color": "#2a3f5f"
           }
          },
          "ternary": {
           "aaxis": {
            "gridcolor": "white",
            "linecolor": "white",
            "ticks": ""
           },
           "baxis": {
            "gridcolor": "white",
            "linecolor": "white",
            "ticks": ""
           },
           "bgcolor": "#E5ECF6",
           "caxis": {
            "gridcolor": "white",
            "linecolor": "white",
            "ticks": ""
           }
          },
          "title": {
           "x": 0.05
          },
          "xaxis": {
           "automargin": true,
           "gridcolor": "white",
           "linecolor": "white",
           "ticks": "",
           "title": {
            "standoff": 15
           },
           "zerolinecolor": "white",
           "zerolinewidth": 2
          },
          "yaxis": {
           "automargin": true,
           "gridcolor": "white",
           "linecolor": "white",
           "ticks": "",
           "title": {
            "standoff": 15
           },
           "zerolinecolor": "white",
           "zerolinewidth": 2
          }
         }
        },
        "title": {
         "text": "DQN Training"
        },
        "xaxis": {
         "anchor": "y",
         "domain": [
          0,
          0.94
         ],
         "title": {
          "text": "Episode"
         }
        },
        "yaxis": {
         "anchor": "x",
         "domain": [
          0,
          1
         ],
         "title": {
          "text": "Score"
         }
        },
        "yaxis2": {
         "anchor": "x",
         "overlaying": "y",
         "side": "right",
         "title": {
          "text": "Exploration Rate"
         }
        }
       }
      }
     },
     "metadata": {},
     "output_type": "display_data"
    },
    {
     "data": {
      "application/vnd.jupyter.widget-view+json": {
       "model_id": "1206b2dc4beb4e9cadf2c1a1a0202def",
       "version_major": 2,
       "version_minor": 0
      },
      "text/plain": [
       "  0%|          | 0/200 [00:00<?, ?it/s]"
      ]
     },
     "metadata": {},
     "output_type": "display_data"
    }
   ],
   "source": [
    "import gym\n",
    "from continuing_education.lib.experiments import ExperimentManager\n",
    "import plotly.graph_objects as go\n",
    "from plotly.subplots import make_subplots\n",
    "\n",
    "\n",
    "def exploration_rate_line(\n",
    "    *, explore_rate_decay: float, start_value: float, num_episodes: int\n",
    ") -> list[float]:\n",
    "    \"\"\"Plot the exploration rate over time.\"\"\"\n",
    "    exploration_rate = start_value\n",
    "    exploration_rates = []\n",
    "    for _ in range(num_episodes):\n",
    "        exploration_rates.append(exploration_rate)\n",
    "        exploration_rate *= explore_rate_decay\n",
    "    return exploration_rates\n",
    "\n",
    "\n",
    "if __name__ == \"__main__\":\n",
    "    LR = 1e-2\n",
    "    GAMMA = 0.99999  # Cartpole benefits from a high gamma because the longer the pole is up, the higher the reward\n",
    "    HIDDEN_SIZES = [16, 16]\n",
    "    NUM_EPISODES = 200\n",
    "    MAX_T = 100\n",
    "    BATCH_SIZE = 64\n",
    "    MAX_MEMORY = 1000\n",
    "    EXPLORE_RATE_DECAY = 0.98\n",
    "    # Do this a few times to prove consistency\n",
    "    last_10_percent_mean = []\n",
    "\n",
    "    for _ in range(3):\n",
    "        env = gym.make(\"CartPole-v1\")\n",
    "        value_network = QLearningModel(\n",
    "            state_size=OBSERVATION_SPACE_SHAPE[0],\n",
    "            action_size=ACTION_SPACE_SIZE,\n",
    "            hidden_sizes=HIDDEN_SIZES,\n",
    "        ).to(DEVICE)\n",
    "        optimizer = optim.Adam(value_network.parameters(), lr=LR)\n",
    "        scores = dqn_train(\n",
    "            env=env,\n",
    "            value_network=value_network,\n",
    "            optimizer=optimizer,\n",
    "            gamma=GAMMA,\n",
    "            num_episodes=NUM_EPISODES,\n",
    "            max_t=MAX_T,\n",
    "            memory=ActionReplayMemory(MAX_MEMORY),\n",
    "            batch_size=BATCH_SIZE,\n",
    "            exploration_rate_decay=EXPLORE_RATE_DECAY,\n",
    "        )\n",
    "        # Calculate the mean of the last 10 % of the scores\n",
    "        last_10_percent_mean.append(\n",
    "            sum(scores[int(NUM_EPISODES * 0.9) :]) / (NUM_EPISODES * 0.1)\n",
    "        )\n",
    "        _exploration_rate_line = exploration_rate_line(\n",
    "            explore_rate_decay=EXPLORE_RATE_DECAY,\n",
    "            start_value=1.0,\n",
    "            num_episodes=NUM_EPISODES,\n",
    "        )\n",
    "        fig = make_subplots(specs=[[{\"secondary_y\": True}]])\n",
    "        fig.add_trace(\n",
    "            go.Scatter(\n",
    "                x=[i for i in range(NUM_EPISODES)],\n",
    "                y=_exploration_rate_line,\n",
    "                name=\"Exploration Rate\",\n",
    "                mode=\"lines\",\n",
    "            ),\n",
    "            secondary_y=True,\n",
    "        )\n",
    "        fig.add_trace(\n",
    "            go.Scatter(\n",
    "                x=[i for i in range(NUM_EPISODES)], y=scores, name=\"Score\", mode=\"lines\"\n",
    "            ),\n",
    "            secondary_y=False,\n",
    "        )\n",
    "        fig.update_layout(title=\"DQN Training\")\n",
    "        fig.update_xaxes(title_text=\"Episode\")\n",
    "        fig.update_yaxes(title_text=\"Exploration Rate\", secondary_y=True)\n",
    "        fig.update_yaxes(title_text=\"Score\", secondary_y=False)\n",
    "        fig.show()\n",
    "    ExperimentManager(\n",
    "        name=\"DQN\",\n",
    "        description=\"Main Results\",\n",
    "        primary_metric=\"last_10_percent_mean\",\n",
    "        file=__this_file,\n",
    "    ).commit(metrics={\"last_10_percent_mean\": last_10_percent_mean})"
   ]
  },
  {
   "cell_type": "markdown",
   "metadata": {},
   "source": [
    "# References\n",
    "\n",
    "Honestly this was mostly from memory, with a little help from ChatGPT. Here are some resources though:\n",
    "\n",
    "1. Mnih, V., Kavukcuoglu, K., Silver, D., Graves, A., Antonoglou, I., Wierstra, D., & Riedmiller, M. (2013). Playing Atari with Deep Reinforcement Learning. arXiv [Cs.LG]. Retrieved from http://arxiv.org/abs/1312.5602\n",
    "2. UNIT 3. DEEP Q-LEARNING WITH ATARI GAMES. Hugging Face. (n.d.). https://huggingface.co/learn/deep-rl-course/unit3"
   ]
  }
 ],
 "metadata": {
  "jupytext": {
   "formats": "ipynb,py:percent"
  },
  "kernelspec": {
   "display_name": "continuing_education",
   "language": "python",
   "name": "python3"
  },
  "language_info": {
   "codemirror_mode": {
    "name": "ipython",
    "version": 3
   },
   "file_extension": ".py",
   "mimetype": "text/x-python",
   "name": "python",
   "nbconvert_exporter": "python",
   "pygments_lexer": "ipython3",
   "version": "3.11.6"
  }
 },
 "nbformat": 4,
 "nbformat_minor": 2
}
