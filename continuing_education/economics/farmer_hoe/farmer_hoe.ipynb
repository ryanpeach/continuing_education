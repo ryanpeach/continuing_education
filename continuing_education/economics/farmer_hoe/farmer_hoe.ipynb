{
 "cells": [
  {
   "cell_type": "code",
   "execution_count": 1,
   "id": "d9a36774-6738-4428-b8cc-da7d95afbc8c",
   "metadata": {},
   "outputs": [],
   "source": [
    "%load_ext autoreload\n",
    "%autoreload 2"
   ]
  },
  {
   "cell_type": "code",
   "execution_count": 2,
   "id": "f1881690-f2f1-4a61-b269-20d75fd91b03",
   "metadata": {},
   "outputs": [],
   "source": [
    "import sympy as sp\n",
    "from sympy.physics.units import hour"
   ]
  },
  {
   "cell_type": "code",
   "execution_count": 3,
   "id": "ae420517-38a8-48ae-a040-686229f4f92d",
   "metadata": {},
   "outputs": [],
   "source": [
    "sp.init_printing()"
   ]
  },
  {
   "cell_type": "markdown",
   "id": "e24d668c-c204-4499-95c5-061bc21ddc34",
   "metadata": {},
   "source": [
    "# Farmer + Hoe Thought Experiment\n",
    "\n",
    "Assume there is a farmer which can do one of three things each with different labor times under different conditions:\n",
    "\n",
    "1. Produce a hoe\n",
    "2. Farm land to produce corn\n",
    "\n",
    "A hoe can be made of sticks and stones and both are plentiful, no original Means of Production (MoP) required. Similarly land is plentiful so the farm land is not burdened by the cost of existing property ownership.\n",
    "\n",
    "The farmer must produce a certain amount of corn per timeperiod or he will die. He need not produce extra. He prefers to spend as little time working as possible.\n",
    "\n",
    "## Symbols\n",
    "\n",
    "* Lets call the labor time required to produce a machine (like the hoe) $m$ without using any means of production (represented by $_0$) $L_0(m)$.\n",
    "  * In the analogy, this would be the labor required to produce a hoe $L_0(hoe)$\n",
    "* Lets also call the labor time required to produce a final product (like corn) $x$ without using any MoP $L_0(x)$.\n",
    "  * So for corn this would be $L_0(corn)$\n",
    "* Lets call the labor time required to produce a final product (like corn) given a machine (like a hoe) $L_m(x)$\n",
    "* Lets call the lifetime of a machine $m$ in total units of production of the final product $x$ $T_x(m)$"
   ]
  },
  {
   "cell_type": "code",
   "execution_count": 6,
   "id": "0323a824-5eac-4789-bc1c-c6845e90a840",
   "metadata": {},
   "outputs": [
    {
     "data": {
      "image/png": "[encoded data removed]",
      "text/latex": [
       "$\\displaystyle \\left( \\frac{L_{0}{\\left(hoe \\right)} \\text{hour}}{hoe}, \\  \\frac{L_{0}{\\left(corn \\right)} \\text{hour}}{corn}, \\  \\frac{L_{hoe}{\\left(corn \\right)} \\text{hour}}{corn}, \\  \\frac{corn T_{corn}{\\left(hoe \\right)}}{hoe}\\right)$"
      ],
      "text/plain": [
       "⎛L₀(hoe)⋅hour  L₀(corn)⋅hour  L_{hoe}(corn)⋅hour  corn⋅T_{corn}(hoe)⎞\n",
       "⎜────────────, ─────────────, ──────────────────, ──────────────────⎟\n",
       "⎝    hoe            corn             corn                hoe        ⎠"
      ]
     },
     "execution_count": 6,
     "metadata": {},
     "output_type": "execute_result"
    }
   ],
   "source": [
    "corn = sp.Symbol(\"corn\")\n",
    "hoe = sp.Symbol(\"hoe\")\n",
    "L_0 = sp.Function(\"L_0\")\n",
    "L_0_of_hoe = L_0(hoe) * hour / hoe\n",
    "L_0_of_corn = L_0(corn) * hour / corn\n",
    "L_hoe = sp.Function(\"L_{hoe}\")\n",
    "L_hoe_of_corn = L_hoe(corn) * hour / corn\n",
    "T_corn = sp.Function(\"T_{corn}\")\n",
    "T_corn_of_hoe = T_corn(hoe) * corn / hoe\n",
    "L_0_of_hoe, L_0_of_corn, L_hoe_of_corn, T_corn_of_hoe"
   ]
  },
  {
   "cell_type": "markdown",
   "id": "528f7872-54b3-4bb2-8b98-da2ca3cd706b",
   "metadata": {},
   "source": [
    "## Assumptions\n",
    "\n",
    "1. ~~The farmer needs 1 corn per $D$ where D<L_0(corn)~~ Was unneded\n",
    "2. One x is produced per $L(x)$ (no sub necessary, it applies to both)\n",
    "3. $L_m(x) < L_0(x)$ (MoP always saves time)"
   ]
  },
  {
   "cell_type": "markdown",
   "id": "5819ae89-9566-4f02-8fd3-1a6206371f0e",
   "metadata": {},
   "source": [
    "# First Experiment\n",
    "\n",
    "First lets find the quantity of total labor time of the farmer first producing a hoe, then using it to produce corn, until the lifetime of the hoe is used up.\n",
    "\n",
    "The time it takes the farmer to make the hoe is $L_0(hoe)$, the time it takes to make the corn with the hoe is $L_{hoe}(corn)$. Thus the total labor time over one hoe lifetime is $L_0(hoe)+L_{hoe}(corn)*T_{corn}(hoe)$."
   ]
  },
  {
   "cell_type": "code",
   "execution_count": 7,
   "id": "23b36680-488d-4c63-9b87-2ee24234f194",
   "metadata": {},
   "outputs": [
    {
     "data": {
      "image/png": "[encoded data removed]",
      "text/latex": [
       "$\\displaystyle \\frac{\\left(L_{0}{\\left(hoe \\right)} + L_{hoe}{\\left(corn \\right)} T_{corn}{\\left(hoe \\right)}\\right) \\text{hour}}{hoe}$"
      ],
      "text/plain": [
       "(L₀(hoe) + L_{hoe}(corn)⋅T_{corn}(hoe))⋅hour\n",
       "────────────────────────────────────────────\n",
       "                    hoe                     "
      ]
     },
     "execution_count": 7,
     "metadata": {},
     "output_type": "execute_result"
    }
   ],
   "source": [
    "first_experiment_labor_time = sp.simplify((L_0_of_hoe + L_hoe_of_corn * T_corn_of_hoe))\n",
    "first_experiment_labor_time"
   ]
  },
  {
   "cell_type": "markdown",
   "id": "d6d5d4d7-9cc8-46dc-9641-60be950b0e9a",
   "metadata": {},
   "source": [
    "# Second Experiment\n",
    "\n",
    "Second lets find the quantity of total labor time of the farmer in the same amount of living time as the first experiment."
   ]
  },
  {
   "cell_type": "code",
   "execution_count": 8,
   "id": "d6958aaf-1c14-46a7-b5df-eccb7359cf49",
   "metadata": {},
   "outputs": [
    {
     "data": {
      "image/png": "[encoded data removed]",
      "text/latex": [
       "$\\displaystyle \\frac{L_{0}{\\left(corn \\right)} T_{corn}{\\left(hoe \\right)} \\text{hour}}{hoe}$"
      ],
      "text/plain": [
       "L₀(corn)⋅T_{corn}(hoe)⋅hour\n",
       "───────────────────────────\n",
       "            hoe            "
      ]
     },
     "execution_count": 8,
     "metadata": {},
     "output_type": "execute_result"
    }
   ],
   "source": [
    "second_experiment_labor_time = sp.simplify(L_0_of_corn * T_corn_of_hoe)\n",
    "second_experiment_labor_time"
   ]
  },
  {
   "cell_type": "markdown",
   "id": "8d624a93-cc24-4f1e-91f6-89825c8f90d5",
   "metadata": {},
   "source": [
    "# Questions\n",
    "\n",
    "1. How much labor did the hoe save the farmer?"
   ]
  },
  {
   "cell_type": "code",
   "execution_count": 9,
   "id": "5fe949c3-8c5b-4df3-a246-5ce0e7550312",
   "metadata": {},
   "outputs": [
    {
     "data": {
      "image/png": "[encoded data removed]",
      "text/latex": [
       "$\\displaystyle \\left(L_{0}{\\left(corn \\right)} T_{corn}{\\left(hoe \\right)} - L_{0}{\\left(hoe \\right)} - L_{hoe}{\\left(corn \\right)} T_{corn}{\\left(hoe \\right)}\\right) \\text{hour}$"
      ],
      "text/plain": [
       "(L₀(corn)⋅T_{corn}(hoe) - L₀(hoe) - L_{hoe}(corn)⋅T_{corn}(hoe))⋅hour"
      ]
     },
     "execution_count": 9,
     "metadata": {},
     "output_type": "execute_result"
    }
   ],
   "source": [
    "answer_q1 = sp.simplify(\n",
    "    (second_experiment_labor_time - first_experiment_labor_time) * hoe\n",
    ")\n",
    "answer_q1"
   ]
  },
  {
   "cell_type": "markdown",
   "id": "13b52fb5-6636-4b8a-bc00-b15c34057a1d",
   "metadata": {},
   "source": [
    "2. How much labor did the hoe cost?"
   ]
  },
  {
   "cell_type": "code",
   "execution_count": 10,
   "id": "c2647a42-8c2e-4080-809c-e6b3e981184d",
   "metadata": {},
   "outputs": [
    {
     "data": {
      "image/png": "[encoded data removed]",
      "text/latex": [
       "$\\displaystyle L_{0}{\\left(hoe \\right)} \\text{hour}$"
      ],
      "text/plain": [
       "L₀(hoe)⋅hour"
      ]
     },
     "execution_count": 10,
     "metadata": {},
     "output_type": "execute_result"
    }
   ],
   "source": [
    "answer_q2 = L_0_of_hoe * hoe\n",
    "answer_q2"
   ]
  },
  {
   "cell_type": "markdown",
   "id": "e634e47c-0337-4903-9165-7093d6d59fd8",
   "metadata": {},
   "source": [
    "3. Under what conditions did the hoe save more labor than it cost?"
   ]
  },
  {
   "cell_type": "code",
   "execution_count": 11,
   "id": "9273417c-5f97-4ebe-b65c-4e224e2c4843",
   "metadata": {},
   "outputs": [
    {
     "data": {
      "image/png": "[encoded data removed]",
      "text/latex": [
       "$\\displaystyle L_{0}{\\left(hoe \\right)} < L_{0}{\\left(corn \\right)} T_{corn}{\\left(hoe \\right)} - L_{0}{\\left(hoe \\right)} - L_{hoe}{\\left(corn \\right)} T_{corn}{\\left(hoe \\right)}$"
      ],
      "text/plain": [
       "L₀(hoe) < L₀(corn)⋅T_{corn}(hoe) - L₀(hoe) - L_{hoe}(corn)⋅T_{corn}(hoe)"
      ]
     },
     "execution_count": 11,
     "metadata": {},
     "output_type": "execute_result"
    }
   ],
   "source": [
    "answer_q3 = sp.simplify(answer_q1 / hour > answer_q2 / hour)\n",
    "answer_q3"
   ]
  },
  {
   "cell_type": "markdown",
   "id": "77668ef2-fd57-48c9-a2c1-e213c7d62bcf",
   "metadata": {},
   "source": [
    "4. Is this true given the assumptions?"
   ]
  },
  {
   "cell_type": "code",
   "execution_count": 12,
   "id": "211e9642-9d72-4e16-a9db-c2604f849144",
   "metadata": {},
   "outputs": [
    {
     "data": {
      "image/png": "[encoded data removed]",
      "text/latex": [
       "$\\displaystyle 2 L_{0}{\\left(hoe \\right)} < L_{0}{\\left(corn \\right)} T_{corn}{\\left(hoe \\right)} - L_{hoe}{\\left(corn \\right)} T_{corn}{\\left(hoe \\right)}$"
      ],
      "text/plain": [
       "2⋅L₀(hoe) < L₀(corn)⋅T_{corn}(hoe) - L_{hoe}(corn)⋅T_{corn}(hoe)"
      ]
     },
     "execution_count": 12,
     "metadata": {},
     "output_type": "execute_result"
    }
   ],
   "source": [
    "# Subtract both sides by $L_0(hoe)$ and simplify\n",
    "c = L_0_of_hoe * hoe / hour\n",
    "step1 = answer_q3.lhs + c < answer_q3.rhs + c\n",
    "step1"
   ]
  },
  {
   "cell_type": "code",
   "execution_count": 13,
   "id": "25b0200f-a5fe-4c99-a8bc-408ec5987dcc",
   "metadata": {},
   "outputs": [
    {
     "data": {
      "image/png": "[encoded data removed]",
      "text/latex": [
       "$\\displaystyle 2 L_{0}{\\left(hoe \\right)} < L_{0}{\\left(corn \\right)} - L_{hoe}{\\left(corn \\right)}$"
      ],
      "text/plain": [
       "2⋅L₀(hoe) < L₀(corn) - L_{hoe}(corn)"
      ]
     },
     "execution_count": 13,
     "metadata": {},
     "output_type": "execute_result"
    }
   ],
   "source": [
    "# Since T_corn(hoe) is a positive factor, it does not effect the inequality, we can cancel it out\n",
    "step2 = step1.subs(T_corn_of_hoe * hoe / corn, 1)\n",
    "step2"
   ]
  },
  {
   "cell_type": "markdown",
   "id": "6c9bea54-92c5-4b82-ae78-aee323d3a32b",
   "metadata": {},
   "source": [
    "There you have it, the hoe saves more labor than the labor it took to create it iff the difference in corn production time is at least 2 times the hoe production time. The farmer would not produce the hoe otherwise, given \"He prefers to spend as little time working as possible.\""
   ]
  }
 ],
 "metadata": {
  "jupytext": {
   "formats": "ipynb,py:percent"
  },
  "kernelspec": {
   "display_name": "Python 3 (ipykernel)",
   "language": "python",
   "name": "python3"
  },
  "language_info": {
   "codemirror_mode": {
    "name": "ipython",
    "version": 3
   },
   "file_extension": ".py",
   "mimetype": "text/x-python",
   "name": "python",
   "nbconvert_exporter": "python",
   "pygments_lexer": "ipython3",
   "version": "3.10.6"
  }
 },
 "nbformat": 4,
 "nbformat_minor": 5
}
