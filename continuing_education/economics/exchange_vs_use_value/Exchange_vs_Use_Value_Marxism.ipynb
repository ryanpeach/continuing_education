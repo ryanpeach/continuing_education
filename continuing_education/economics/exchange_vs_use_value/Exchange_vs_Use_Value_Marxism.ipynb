{
 "cells": [
  {
   "cell_type": "code",
   "execution_count": 1,
   "id": "2f91c398-3c54-48bf-8e46-5386fa03eaae",
   "metadata": {},
   "outputs": [],
   "source": [
    "%load_ext autoreload\n",
    "%autoreload 2"
   ]
  },
  {
   "cell_type": "code",
   "execution_count": 2,
   "id": "338f18be-a968-435b-bbbf-30f8fa09cd1b",
   "metadata": {},
   "outputs": [],
   "source": [
    "import sympy as sp\n",
    "from sympy.physics.units import hour, Dimension, Unit, Quantity"
   ]
  },
  {
   "cell_type": "code",
   "execution_count": 3,
   "id": "99020ea1-d1c3-490b-a4f8-a7184f9f5d23",
   "metadata": {},
   "outputs": [],
   "source": [
    "sp.init_printing()"
   ]
  },
  {
   "cell_type": "markdown",
   "id": "2e159f59-bb5f-44ec-8e20-715ab19ea730",
   "metadata": {},
   "source": [
    "# Symbols\n",
    "\n",
    "* Assume two capitalist running two companies A, B.\n",
    "* The **labor time (labor value)** in company x is $X_x$ measured in hours per unit of production.\n",
    "* The **wage (labor power)** for the employees at company x is $Y_x$ measured in dollars per hour.\n",
    "* The **non wage expenses (constant capital)** of company x is $I_x$ measured in dollars per unit of production.\n",
    "* The **selling price (exchange value)** for the final product in company x is $Z_x$ measured in dollars per unit of production.\n",
    "* The **profit** for company x is $K_x$ measured in dollars per unit of production\n",
    "* Assume A produces a machine which when bought by B has a **labor saving power (use value)** of $\\hat{X}_B$ hours per unit of production."
   ]
  },
  {
   "cell_type": "code",
   "execution_count": 4,
   "id": "80f5a936-e9a0-4f50-960e-23315497180f",
   "metadata": {},
   "outputs": [
    {
     "data": {
      "image/png": "[encoded data removed]",
      "text/latex": [
       "$\\displaystyle \\left( \\text{\\$}, \\  \\text{unit}\\right)$"
      ],
      "text/plain": [
       "(\\$, unit)"
      ]
     },
     "execution_count": 4,
     "metadata": {},
     "output_type": "execute_result"
    }
   ],
   "source": [
    "dollar = Unit(\"\\$\")\n",
    "unit = Unit(\"unit\")\n",
    "dollar, unit"
   ]
  },
  {
   "cell_type": "code",
   "execution_count": 5,
   "id": "945c518f-80cf-49a0-9fca-cb4067563bac",
   "metadata": {},
   "outputs": [],
   "source": [
    "from collections import namedtuple\n",
    "from functools import cache\n",
    "Company = namedtuple('Company', ['labor_time', 'wage', 'selling_price', 'non_wage_expenses', 'labor_saving_value', 'profit'])\n",
    "\n",
    "@cache\n",
    "def company(x: str) -> Company:\n",
    "    Xx, Yx, Zx, Ix, Kx, Xhatx = sp.symbols(f'X_{x}, Y_{x}, Z_{x}, I_{x}, K_{x}, \\hat{{X}}_{x}')\n",
    "    labor_time = Xx*hour/unit\n",
    "    wage = Yx*dollar/hour\n",
    "    selling_price = Zx*dollar/unit\n",
    "    non_wage_expenses = Ix*dollar/unit\n",
    "    labor_saving_value = Xhatx*hour/unit\n",
    "    profit = Kx*dollar/unit\n",
    "    return Company(labor_time, wage, selling_price, non_wage_expenses, labor_saving_value, profit)"
   ]
  },
  {
   "cell_type": "code",
   "execution_count": 6,
   "id": "19227d14-5c6d-424f-ae1e-629eeecf8ff2",
   "metadata": {},
   "outputs": [
    {
     "data": {
      "image/png": "[encoded data removed]",
      "text/latex": [
       "$\\displaystyle \\left( \\frac{X_{x} \\text{hour}}{\\text{unit}}, \\  \\frac{Y_{x} \\text{\\$}}{\\text{hour}}, \\  \\frac{Z_{x} \\text{\\$}}{\\text{unit}}, \\  \\frac{I_{x} \\text{\\$}}{\\text{unit}}, \\  \\frac{\\hat{X}_x \\text{hour}}{\\text{unit}}, \\  \\frac{K_{x} \\text{\\$}}{\\text{unit}}\\right)$"
      ],
      "text/plain": [
       "⎛Xₓ⋅hour  Yₓ⋅\\$  Zₓ⋅\\$  Iₓ⋅\\$  \\hat{X}ₓ⋅hour  Kₓ⋅\\$⎞\n",
       "⎜───────, ─────, ─────, ─────, ─────────────, ─────⎟\n",
       "⎝  unit    hour   unit   unit       unit       unit⎠"
      ]
     },
     "execution_count": 6,
     "metadata": {},
     "output_type": "execute_result"
    }
   ],
   "source": [
    "tuple(company(\"x\"))"
   ]
  },
  {
   "cell_type": "markdown",
   "id": "e0dc08f6-b320-45f8-ab8f-dec0d22d6700",
   "metadata": {},
   "source": [
    "# Equalities\n",
    "\n",
    "1. The cost of production per unit for company x == labor cost per unit + other cost per unit"
   ]
  },
  {
   "cell_type": "code",
   "execution_count": 7,
   "id": "63ad04b6-939a-43ac-9ec4-7b983078bf79",
   "metadata": {},
   "outputs": [
    {
     "data": {
      "image/png": "[encoded data removed]",
      "text/latex": [
       "$\\displaystyle \\frac{I_{x} \\text{\\$}}{\\text{unit}} + \\frac{X_{x} Y_{x} \\text{\\$}}{\\text{unit}}$"
      ],
      "text/plain": [
       "Iₓ⋅\\$   Xₓ⋅Yₓ⋅\\$\n",
       "───── + ────────\n",
       " unit     unit  "
      ]
     },
     "execution_count": 7,
     "metadata": {},
     "output_type": "execute_result"
    }
   ],
   "source": [
    "def total_cost_of_production(x: str):\n",
    "    comp = company(x)\n",
    "    return comp.wage*comp.labor_time+comp.non_wage_expenses\n",
    "total_cost_of_production('x')"
   ]
  },
  {
   "cell_type": "markdown",
   "id": "a757bd64-42cd-4d24-815c-dc234c071a21",
   "metadata": {},
   "source": [
    "2. The profit to the capitalist is the difference in the selling price and the total cost of expenses"
   ]
  },
  {
   "cell_type": "code",
   "execution_count": 8,
   "id": "6eb7bd03-c2f0-451a-ac84-23deca769f46",
   "metadata": {},
   "outputs": [
    {
     "data": {
      "image/png": "[encoded data removed]",
      "text/latex": [
       "$\\displaystyle \\frac{K_{x} \\text{\\$}}{\\text{unit}} = - \\frac{I_{x} \\text{\\$}}{\\text{unit}} - \\frac{X_{x} Y_{x} \\text{\\$}}{\\text{unit}} + \\frac{Z_{x} \\text{\\$}}{\\text{unit}}$"
      ],
      "text/plain": [
       "Kₓ⋅\\$     Iₓ⋅\\$   Xₓ⋅Yₓ⋅\\$   Zₓ⋅\\$\n",
       "───── = - ───── - ──────── + ─────\n",
       " unit      unit     unit      unit"
      ]
     },
     "execution_count": 8,
     "metadata": {},
     "output_type": "execute_result"
    }
   ],
   "source": [
    "def profit_perspective_of_point_of_sale(x: str):\n",
    "    comp = company(x)\n",
    "    return sp.Eq(comp.profit, comp.selling_price-total_cost_of_production(x))\n",
    "profit_perspective_of_point_of_sale('x')"
   ]
  },
  {
   "cell_type": "markdown",
   "id": "59763688-5490-479c-990a-795cac5a0c65",
   "metadata": {},
   "source": [
    "# Assumptions\n",
    "\n",
    "1. Under marx's LtV, the exchange value of a good equals its labor value times some conversion factor $\\lambda$ measured in dollars per hour."
   ]
  },
  {
   "cell_type": "code",
   "execution_count": 9,
   "id": "fc4af7ae-1b5f-4532-8a09-d42b09b8c978",
   "metadata": {},
   "outputs": [
    {
     "data": {
      "image/png": "[encoded data removed]",
      "text/latex": [
       "$\\displaystyle \\frac{Z_{x} \\text{\\$}}{\\text{unit}} = \\frac{X_{x} \\lambda \\text{\\$}}{\\text{unit}}$"
      ],
      "text/plain": [
       "Zₓ⋅\\$   Xₓ⋅\\lambda⋅\\$\n",
       "───── = ─────────────\n",
       " unit        unit    "
      ]
     },
     "execution_count": 9,
     "metadata": {},
     "output_type": "execute_result"
    }
   ],
   "source": [
    "lam = sp.Symbol('\\lambda')*dollar/hour\n",
    "\n",
    "def LtV(x: str):\n",
    "    comp = company(x)\n",
    "    return sp.Eq(comp.selling_price, comp.labor_time*lam)\n",
    "LtV('x')"
   ]
  },
  {
   "cell_type": "markdown",
   "id": "6ec33bd0-3e10-428d-a1b0-ef9b5ef26d10",
   "metadata": {},
   "source": [
    "2. Under max's theory of surplus value, profit is labor value (labor time converted into exchange value) minus labor power (wage)"
   ]
  },
  {
   "cell_type": "code",
   "execution_count": 37,
   "id": "d2edd091-7d6b-4b60-ad3e-8f54fcdebbd3",
   "metadata": {},
   "outputs": [
    {
     "data": {
      "image/png": "[encoded data removed]",
      "text/latex": [
       "$\\displaystyle \\frac{K_{x} \\text{\\$}}{\\text{unit}} = \\frac{X_{x} \\left(- Y_{x} + \\lambda\\right) \\text{\\$}}{\\text{unit}}$"
      ],
      "text/plain": [
       "Kₓ⋅\\$   Xₓ⋅(-Yₓ + \\lambda)⋅\\$\n",
       "───── = ─────────────────────\n",
       " unit            unit        "
      ]
     },
     "execution_count": 37,
     "metadata": {},
     "output_type": "execute_result"
    }
   ],
   "source": [
    "def profit_perspective_of_surplus_value(x: str):\n",
    "    comp = company(x)\n",
    "    return sp.Eq(comp.profit, sp.simplify(comp.labor_time*lam-comp.wage*comp.labor_time))\n",
    "profit_perspective_of_surplus_value('x')"
   ]
  },
  {
   "cell_type": "markdown",
   "id": "b5198a2d-9f4a-45c2-a7e4-f9c859b62a38",
   "metadata": {},
   "source": [
    "3. Production capacity remains constant.\n",
    "\n",
    "Under this assumption, we can derive that the labor saved by the machine will equal the labor cut (fired) by the capitalist."
   ]
  },
  {
   "cell_type": "code",
   "execution_count": 38,
   "id": "2d9f56b6-279d-4097-be4c-ac31b580f8e6",
   "metadata": {},
   "outputs": [],
   "source": [
    "B = company('B') # Since only company B uses the machine"
   ]
  },
  {
   "cell_type": "code",
   "execution_count": 39,
   "id": "9dc351f8-0a87-4829-96d3-675bfaf3ed29",
   "metadata": {},
   "outputs": [
    {
     "data": {
      "image/png": "[encoded data removed]",
      "text/latex": [
       "$\\displaystyle \\frac{\\hat{X}_B \\text{hour}}{\\text{unit}}$"
      ],
      "text/plain": [
       "\\hat{X}_B⋅hour\n",
       "──────────────\n",
       "     unit     "
      ]
     },
     "execution_count": 39,
     "metadata": {},
     "output_type": "execute_result"
    }
   ],
   "source": [
    "labor_cut_by_B = B.labor_saving_value\n",
    "labor_cut_by_B"
   ]
  },
  {
   "cell_type": "code",
   "execution_count": 40,
   "id": "9bd56d0b-073d-450a-b5de-ee133011c646",
   "metadata": {
    "scrolled": true
   },
   "outputs": [
    {
     "data": {
      "image/png": "[encoded data removed]",
      "text/latex": [
       "$\\displaystyle \\frac{X_{B} \\text{hour}}{\\text{unit}} - \\frac{\\hat{X}_B \\text{hour}}{\\text{unit}}$"
      ],
      "text/plain": [
       "X_B⋅hour   \\hat{X}_B⋅hour\n",
       "──────── - ──────────────\n",
       "  unit          unit     "
      ]
     },
     "execution_count": 40,
     "metadata": {},
     "output_type": "execute_result"
    }
   ],
   "source": [
    "new_labor_time_B = B.labor_time - labor_cut_by_B\n",
    "new_labor_time_B"
   ]
  },
  {
   "cell_type": "code",
   "execution_count": 49,
   "id": "9800ed51-80d8-46cc-8142-c6a4d7228379",
   "metadata": {},
   "outputs": [
    {
     "data": {
      "image/png": "[encoded data removed]",
      "text/latex": [
       "$\\displaystyle X_{B}$"
      ],
      "text/plain": [
       "X_B"
      ]
     },
     "execution_count": 49,
     "metadata": {},
     "output_type": "execute_result"
    }
   ],
   "source": [
    "company('B').labor_time/hour*unit"
   ]
  },
  {
   "cell_type": "code",
   "execution_count": 64,
   "id": "5dea106b-0fce-4f3d-aa74-744377c59e94",
   "metadata": {
    "scrolled": true
   },
   "outputs": [
    {
     "data": {
      "image/png": "[encoded data removed]",
      "text/latex": [
       "$\\displaystyle \\frac{K_{B} \\text{\\$}}{\\text{unit}} = - \\frac{\\left(X_{B} - \\hat{X}_B\\right) \\left(Y_{B} - \\lambda\\right) \\text{\\$}}{\\text{unit}}$"
      ],
      "text/plain": [
       "K_B⋅\\$   -(X_B - \\hat{X}_B)⋅(Y_B - \\lambda)⋅\\$ \n",
       "────── = ──────────────────────────────────────\n",
       " unit                     unit                 "
      ]
     },
     "execution_count": 64,
     "metadata": {},
     "output_type": "execute_result"
    }
   ],
   "source": [
    "new_profit_perspective_of_surplus_value_B = profit_perspective_of_surplus_value('B').rhs.subs(company('B').labor_time/hour*unit, new_labor_time_B/hour*unit)\n",
    "new_profit_perspective_of_surplus_value_B = sp.Eq(profit_perspective_of_surplus_value('B').lhs, sp.simplify(new_profit_perspective_of_surplus_value_B))\n",
    "new_profit_perspective_of_surplus_value_B"
   ]
  },
  {
   "cell_type": "code",
   "execution_count": 67,
   "id": "f9cf2a8c-ec5a-4444-8716-fa5c55d5be63",
   "metadata": {},
   "outputs": [
    {
     "data": {
      "image/png": "[encoded data removed]",
      "text/latex": [
       "$\\displaystyle \\frac{K_{B} \\text{\\$}}{\\text{unit}} = \\frac{\\left(- I_{B} - Y_{B} \\left(X_{B} - \\hat{X}_B\\right) + Z_{B}\\right) \\text{\\$}}{\\text{unit}}$"
      ],
      "text/plain": [
       "K_B⋅\\$   (-I_B - Y_B⋅(X_B - \\hat{X}_B) + Z_B)⋅\\$\n",
       "────── = ───────────────────────────────────────\n",
       " unit                      unit                 "
      ]
     },
     "execution_count": 67,
     "metadata": {},
     "output_type": "execute_result"
    }
   ],
   "source": [
    "new_profit_perspective_of_point_of_sale_B = profit_perspective_of_point_of_sale('B').rhs.subs(company('B').labor_time/hour*unit, new_labor_time_B/hour*unit)\n",
    "new_profit_perspective_of_point_of_sale_B = sp.Eq(profit_perspective_of_point_of_sale('B').lhs, sp.simplify(new_profit_perspective_of_point_of_sale_B))\n",
    "new_profit_perspective_of_point_of_sale_B"
   ]
  },
  {
   "cell_type": "markdown",
   "id": "0509b44a-5fb7-4eff-aab4-08fb52626fcb",
   "metadata": {},
   "source": [
    "# Conclusions\n",
    "\n",
    "The difference in the perspective of profit as point of sale vs surplus value under conditions of LtV\n",
    "\n",
    "I wonder what this could mean?"
   ]
  },
  {
   "cell_type": "code",
   "execution_count": 68,
   "id": "82a5bfc5-3d5e-430e-aae9-21fa9b70252d",
   "metadata": {},
   "outputs": [
    {
     "data": {
      "image/png": "[encoded data removed]",
      "text/latex": [
       "$\\displaystyle \\frac{\\left(- I_{B} - X_{B} \\lambda + Z_{B} + \\hat{X}_B \\lambda\\right) \\text{\\$}}{\\text{unit}}$"
      ],
      "text/plain": [
       "(-I_B - X_B⋅\\lambda + Z_B + \\hat{X}_B⋅\\lambda)⋅\\$\n",
       "─────────────────────────────────────────────────\n",
       "                       unit                      "
      ]
     },
     "execution_count": 68,
     "metadata": {},
     "output_type": "execute_result"
    }
   ],
   "source": [
    "sp.simplify(new_profit_perspective_of_point_of_sale_B.rhs - new_profit_perspective_of_surplus_value_B.rhs)"
   ]
  },
  {
   "cell_type": "code",
   "execution_count": null,
   "id": "4e9591a5-3a02-40cb-a714-5a0082861bae",
   "metadata": {},
   "outputs": [],
   "source": []
  }
 ],
 "metadata": {
  "jupytext": {
   "formats": "ipynb,py:percent"
  },
  "kernelspec": {
   "display_name": "Python 3 (ipykernel)",
   "language": "python",
   "name": "python3"
  },
  "language_info": {
   "codemirror_mode": {
    "name": "ipython",
    "version": 3
   },
   "file_extension": ".py",
   "mimetype": "text/x-python",
   "name": "python",
   "nbconvert_exporter": "python",
   "pygments_lexer": "ipython3",
   "version": "3.10.6"
  }
 },
 "nbformat": 4,
 "nbformat_minor": 5
}
