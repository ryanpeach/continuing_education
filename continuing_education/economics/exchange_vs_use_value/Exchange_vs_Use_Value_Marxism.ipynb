{
 "cells": [
  {
   "cell_type": "code",
   "execution_count": 40,
   "id": "2f91c398-3c54-48bf-8e46-5386fa03eaae",
   "metadata": {},
   "outputs": [
    {
     "name": "stdout",
     "output_type": "stream",
     "text": [
      "The autoreload extension is already loaded. To reload it, use:\n",
      "  %reload_ext autoreload\n"
     ]
    }
   ],
   "source": [
    "%load_ext autoreload\n",
    "%autoreload 2"
   ]
  },
  {
   "cell_type": "code",
   "execution_count": 41,
   "id": "338f18be-a968-435b-bbbf-30f8fa09cd1b",
   "metadata": {},
   "outputs": [],
   "source": [
    "import sympy as sp\n",
    "from sympy.physics.units import hour, Unit"
   ]
  },
  {
   "cell_type": "code",
   "execution_count": 42,
   "id": "99020ea1-d1c3-490b-a4f8-a7184f9f5d23",
   "metadata": {},
   "outputs": [],
   "source": [
    "sp.init_printing()"
   ]
  },
  {
   "cell_type": "markdown",
   "id": "2e159f59-bb5f-44ec-8e20-715ab19ea730",
   "metadata": {},
   "source": [
    "# Symbols\n",
    "\n",
    "* Assume two capitalist running two companies A, B.\n",
    "* The **labor time (labor value)** in company x is $X_x$ measured in hours per unit of production.\n",
    "* The **wage (labor power)** for the employees at company x is $Y_x$ measured in dollars per hour.\n",
    "* The **non wage expenses (constant capital)** of company x is $I_x$ measured in dollars per unit of production.\n",
    "* The **selling price (exchange value)** for the final product in company x is $Z_x$ measured in dollars per unit of production.\n",
    "* The **profit** for company x is $K_x$ measured in dollars per unit of production\n",
    "* Assume A produces a machine which when bought by B has a **labor saving power (use value)** of $\\Delta{X_B}$ hours per unit of production."
   ]
  },
  {
   "cell_type": "code",
   "execution_count": 43,
   "id": "80f5a936-e9a0-4f50-960e-23315497180f",
   "metadata": {},
   "outputs": [
    {
     "data": {
      "image/png": "[encoded data removed]",
      "text/latex": [
       "$\\displaystyle \\text{\\$}$"
      ],
      "text/plain": [
       "\\$"
      ]
     },
     "execution_count": 43,
     "metadata": {},
     "output_type": "execute_result"
    }
   ],
   "source": [
    "dollar = Unit(\"\\$\")\n",
    "dollar"
   ]
  },
  {
   "cell_type": "code",
   "execution_count": 44,
   "id": "945c518f-80cf-49a0-9fca-cb4067563bac",
   "metadata": {},
   "outputs": [],
   "source": [
    "from collections import namedtuple\n",
    "from functools import cache\n",
    "\n",
    "\n",
    "@cache\n",
    "def delta(x: sp.Symbol, units: sp.Expr):\n",
    "    symbol_itself = x / units\n",
    "    new_symbol = sp.Symbol(f\"\\Delta{{{symbol_itself}}}\")\n",
    "    return new_symbol * units\n",
    "\n",
    "\n",
    "Company = namedtuple(\n",
    "    \"Company\",\n",
    "    [\n",
    "        \"labor_time\",\n",
    "        \"wage\",\n",
    "        \"selling_price\",\n",
    "        \"non_wage_expenses\",\n",
    "        \"labor_saving_value\",\n",
    "        \"profit\",\n",
    "        \"unit\",\n",
    "    ],\n",
    ")\n",
    "\n",
    "\n",
    "@cache\n",
    "def company(x: str) -> Company:\n",
    "    Xx, Yx, Zx, Ix, Kx = sp.symbols(f\"X_{x}, Y_{x}, Z_{x}, I_{x}, K_{x}\")\n",
    "    unit = sp.Symbol(f\"unit_{x}\")\n",
    "    labor_time = Xx * hour / unit\n",
    "    wage = Yx * dollar / hour\n",
    "    selling_price = Zx * dollar / unit\n",
    "    non_wage_expenses = Ix * dollar / unit\n",
    "    labor_saving_value = delta(Xx * hour / unit, units=hour / unit)\n",
    "    profit = Kx * dollar / unit\n",
    "    return Company(\n",
    "        labor_time,\n",
    "        wage,\n",
    "        selling_price,\n",
    "        non_wage_expenses,\n",
    "        labor_saving_value,\n",
    "        profit,\n",
    "        unit,\n",
    "    )"
   ]
  },
  {
   "cell_type": "code",
   "execution_count": 45,
   "id": "19227d14-5c6d-424f-ae1e-629eeecf8ff2",
   "metadata": {
    "lines_to_next_cell": 2
   },
   "outputs": [
    {
     "data": {
      "image/png": "[encoded data removed]",
      "text/latex": [
       "$\\displaystyle \\left( \\frac{X_{x} \\text{hour}}{unit_{x}}, \\  \\frac{Y_{x} \\text{\\$}}{\\text{hour}}, \\  \\frac{Z_{x} \\text{\\$}}{unit_{x}}, \\  \\frac{I_{x} \\text{\\$}}{unit_{x}}, \\  \\frac{\\Delta{X_x} \\text{hour}}{unit_{x}}, \\  \\frac{K_{x} \\text{\\$}}{unit_{x}}, \\  unit_{x}\\right)$"
      ],
      "text/plain": [
       "⎛Xₓ⋅hour  Yₓ⋅\\$  Zₓ⋅\\$  Iₓ⋅\\$  \\Delta{X_x}⋅hour  Kₓ⋅\\$       ⎞\n",
       "⎜───────, ─────, ─────, ─────, ────────────────, ─────, unitₓ⎟\n",
       "⎝ unitₓ    hour  unitₓ  unitₓ       unitₓ        unitₓ       ⎠"
      ]
     },
     "execution_count": 45,
     "metadata": {},
     "output_type": "execute_result"
    }
   ],
   "source": [
    "tuple(company(\"x\"))"
   ]
  },
  {
   "cell_type": "markdown",
   "id": "e0dc08f6-b320-45f8-ab8f-dec0d22d6700",
   "metadata": {
    "lines_to_next_cell": 2
   },
   "source": [
    "# Definitions\n",
    "\n",
    "1. The cost of production per unit for company x == labor cost per unit + other cost per unit"
   ]
  },
  {
   "cell_type": "code",
   "execution_count": 46,
   "id": "63ad04b6-939a-43ac-9ec4-7b983078bf79",
   "metadata": {
    "lines_to_next_cell": 2
   },
   "outputs": [
    {
     "data": {
      "image/png": "[encoded data removed]",
      "text/latex": [
       "$\\displaystyle \\frac{I_{x} \\text{\\$}}{unit_{x}} + \\frac{X_{x} Y_{x} \\text{\\$}}{unit_{x}}$"
      ],
      "text/plain": [
       "Iₓ⋅\\$   Xₓ⋅Yₓ⋅\\$\n",
       "───── + ────────\n",
       "unitₓ    unitₓ  "
      ]
     },
     "execution_count": 46,
     "metadata": {},
     "output_type": "execute_result"
    }
   ],
   "source": [
    "def total_cost_of_production(x: str):\n",
    "    comp = company(x)\n",
    "    return comp.wage * comp.labor_time + comp.non_wage_expenses\n",
    "\n",
    "\n",
    "total_cost_of_production(\"x\")"
   ]
  },
  {
   "cell_type": "markdown",
   "id": "a757bd64-42cd-4d24-815c-dc234c071a21",
   "metadata": {
    "lines_to_next_cell": 2
   },
   "source": [
    "2. The profit to the capitalist is the difference in the selling price and the total cost of expenses"
   ]
  },
  {
   "cell_type": "code",
   "execution_count": 47,
   "id": "6eb7bd03-c2f0-451a-ac84-23deca769f46",
   "metadata": {},
   "outputs": [
    {
     "data": {
      "image/png": "[encoded data removed]",
      "text/latex": [
       "$\\displaystyle \\frac{K_{x} \\text{\\$}}{unit_{x}} = - \\frac{I_{x} \\text{\\$}}{unit_{x}} - \\frac{X_{x} Y_{x} \\text{\\$}}{unit_{x}} + \\frac{Z_{x} \\text{\\$}}{unit_{x}}$"
      ],
      "text/plain": [
       "Kₓ⋅\\$     Iₓ⋅\\$   Xₓ⋅Yₓ⋅\\$   Zₓ⋅\\$\n",
       "───── = - ───── - ──────── + ─────\n",
       "unitₓ     unitₓ    unitₓ     unitₓ"
      ]
     },
     "execution_count": 47,
     "metadata": {},
     "output_type": "execute_result"
    }
   ],
   "source": [
    "def profit_perspective_of_point_of_sale(x: str):\n",
    "    comp = company(x)\n",
    "    return sp.Eq(comp.profit, comp.selling_price - total_cost_of_production(x))\n",
    "\n",
    "\n",
    "profit_perspective_of_point_of_sale(\"x\")"
   ]
  },
  {
   "cell_type": "markdown",
   "id": "e70d4d95-fd2c-4c22-a80b-d54448409672",
   "metadata": {},
   "source": [
    "3. The difference between the non wage cost of production for company B before the machine and the non wage cost of production after the machine is equal to the cost of the machine (sold by company A)"
   ]
  },
  {
   "cell_type": "code",
   "execution_count": 82,
   "id": "72b92c78-d9e0-4bf3-a52d-996cd5f557a9",
   "metadata": {},
   "outputs": [
    {
     "data": {
      "image/png": "[encoded data removed]",
      "text/latex": [
       "$\\displaystyle \\frac{\\Delta{I_B} \\text{\\$}}{unit_{B}} = \\frac{Z_{A} \\text{\\$}}{unit_{B}}$"
      ],
      "text/plain": [
       "\\Delta{I_B}⋅\\$   Z_A⋅\\$\n",
       "────────────── = ──────\n",
       "    unit_B       unit_B"
      ]
     },
     "execution_count": 82,
     "metadata": {},
     "output_type": "execute_result"
    }
   ],
   "source": [
    "delta_non_wage_expenses_B = sp.Eq(\n",
    "    delta(company(\"B\").non_wage_expenses, units=dollar / company(\"B\").unit),\n",
    "    company(\"A\").selling_price * company(\"A\").unit / company(\"B\").unit,\n",
    ")\n",
    "delta_non_wage_expenses_B"
   ]
  },
  {
   "cell_type": "markdown",
   "id": "59763688-5490-479c-990a-795cac5a0c65",
   "metadata": {},
   "source": [
    "# Assumptions\n",
    "\n",
    "1. Under marx's LtV, the exchange value of a good equals its labor value times some conversion factor $\\lambda$ measured in dollars per hour."
   ]
  },
  {
   "cell_type": "code",
   "execution_count": 83,
   "id": "fc4af7ae-1b5f-4532-8a09-d42b09b8c978",
   "metadata": {
    "lines_to_next_cell": 2
   },
   "outputs": [
    {
     "data": {
      "image/png": "[encoded data removed]",
      "text/latex": [
       "$\\displaystyle \\frac{Z_{x} \\text{\\$}}{unit_{x}} = \\frac{X_{x} \\lambda \\text{\\$}}{unit_{x}}$"
      ],
      "text/plain": [
       "Zₓ⋅\\$   Xₓ⋅\\lambda⋅\\$\n",
       "───── = ─────────────\n",
       "unitₓ       unitₓ    "
      ]
     },
     "execution_count": 83,
     "metadata": {},
     "output_type": "execute_result"
    }
   ],
   "source": [
    "lam = sp.Symbol(\"\\lambda\") * dollar / hour\n",
    "\n",
    "\n",
    "def LtV(x: str):\n",
    "    comp = company(x)\n",
    "    return sp.Eq(comp.selling_price, comp.labor_time * lam)\n",
    "\n",
    "\n",
    "LtV(\"x\")"
   ]
  },
  {
   "cell_type": "markdown",
   "id": "6ec33bd0-3e10-428d-a1b0-ef9b5ef26d10",
   "metadata": {
    "lines_to_next_cell": 2
   },
   "source": [
    "2. Under max's theory of surplus value, profit is labor value (labor time converted into exchange value) minus labor power (wage)"
   ]
  },
  {
   "cell_type": "code",
   "execution_count": 84,
   "id": "d2edd091-7d6b-4b60-ad3e-8f54fcdebbd3",
   "metadata": {},
   "outputs": [
    {
     "data": {
      "image/png": "[encoded data removed]",
      "text/latex": [
       "$\\displaystyle \\frac{K_{x} \\text{\\$}}{unit_{x}} = \\frac{X_{x} \\left(- Y_{x} + \\lambda\\right) \\text{\\$}}{unit_{x}}$"
      ],
      "text/plain": [
       "Kₓ⋅\\$   Xₓ⋅(-Yₓ + \\lambda)⋅\\$\n",
       "───── = ─────────────────────\n",
       "unitₓ           unitₓ        "
      ]
     },
     "execution_count": 84,
     "metadata": {},
     "output_type": "execute_result"
    }
   ],
   "source": [
    "def profit_perspective_of_surplus_value(x: str):\n",
    "    comp = company(x)\n",
    "    return sp.Eq(\n",
    "        comp.profit, sp.simplify(comp.labor_time * lam - comp.wage * comp.labor_time)\n",
    "    )\n",
    "\n",
    "\n",
    "profit_perspective_of_surplus_value(\"x\")"
   ]
  },
  {
   "cell_type": "markdown",
   "id": "8de63407-e06b-4cd1-8c2c-10de9ab6a776",
   "metadata": {},
   "source": [
    "# Methodology"
   ]
  },
  {
   "cell_type": "markdown",
   "id": "f53f53b6-d1d6-4b25-8832-b26757eda937",
   "metadata": {
    "lines_to_next_cell": 2
   },
   "source": [
    "Because we are really talking about the change in profit, change in labor, etc, this will only be solved with differentials."
   ]
  },
  {
   "cell_type": "code",
   "execution_count": 99,
   "id": "31281310-04c4-4066-97b4-201e85d694ab",
   "metadata": {},
   "outputs": [
    {
     "data": {
      "image/png": "[encoded data removed]",
      "text/latex": [
       "$\\displaystyle \\frac{\\Delta{I_x} \\text{\\$}}{unit_{x}}$"
      ],
      "text/plain": [
       "\\Delta{I_x}⋅\\$\n",
       "──────────────\n",
       "    unitₓ     "
      ]
     },
     "execution_count": 99,
     "metadata": {},
     "output_type": "execute_result"
    }
   ],
   "source": [
    "def delta_total_cost_of_production(x: str):\n",
    "    # Relative to change in change in total cost of production\n",
    "    comp = company(x)\n",
    "    return delta(\n",
    "        comp.non_wage_expenses, units=dollar / comp.unit\n",
    "    )\n",
    "\n",
    "delta_total_cost_of_production(\"x\")"
   ]
  },
  {
   "cell_type": "code",
   "execution_count": 100,
   "id": "cbde3ee3-83a7-411d-8408-c73fa5e3adf5",
   "metadata": {},
   "outputs": [
    {
     "data": {
      "image/png": "[encoded data removed]",
      "text/latex": [
       "$\\displaystyle \\frac{\\Delta{K_B} \\text{\\$}}{unit_{B}} = - \\frac{\\Delta{I_B} \\text{\\$}}{unit_{B}}$"
      ],
      "text/plain": [
       "\\Delta{K_B}⋅\\$   -\\Delta{I_B}⋅\\$ \n",
       "────────────── = ────────────────\n",
       "    unit_B            unit_B     "
      ]
     },
     "execution_count": 100,
     "metadata": {},
     "output_type": "execute_result"
    }
   ],
   "source": [
    "def delta_profit_perspective_of_point_of_sale(x: str):\n",
    "    # Relative to change in change in total cost of production\n",
    "    comp = company(x)\n",
    "    return sp.Eq(\n",
    "        delta(comp.profit, units=dollar / comp.unit),\n",
    "        - delta_total_cost_of_production(x),\n",
    "    )\n",
    "\n",
    "\n",
    "delta_profit_perspective_of_point_of_sale(\"B\")"
   ]
  },
  {
   "cell_type": "markdown",
   "id": "aa0477a9-c79c-4baa-b166-1f439d3a6d0c",
   "metadata": {},
   "source": [
    "Substitute out that $\\Delta{I_B}$ using Equality #3"
   ]
  },
  {
   "cell_type": "code",
   "execution_count": 101,
   "id": "ce0d4c04-deed-44be-88dc-7973a72e96f2",
   "metadata": {},
   "outputs": [
    {
     "data": {
      "image/png": "[encoded data removed]",
      "text/latex": [
       "$\\displaystyle \\frac{\\Delta{K_B} \\text{\\$}}{unit_{B}} = - \\frac{Z_{A} \\text{\\$}}{unit_{B}}$"
      ],
      "text/plain": [
       "\\Delta{K_B}⋅\\$   -Z_A⋅\\$ \n",
       "────────────── = ────────\n",
       "    unit_B        unit_B "
      ]
     },
     "execution_count": 101,
     "metadata": {},
     "output_type": "execute_result"
    }
   ],
   "source": [
    "B = company(\"B\")\n",
    "delta_profit_perspective_of_point_of_sale_B_sub = sp.Eq(\n",
    "    delta_profit_perspective_of_point_of_sale(\"B\").lhs,\n",
    "    delta_profit_perspective_of_point_of_sale(\"B\").rhs.subs(\n",
    "        delta_non_wage_expenses_B.lhs / dollar * B.unit,\n",
    "        delta_non_wage_expenses_B.rhs / dollar * B.unit,\n",
    "    ),\n",
    ")\n",
    "delta_profit_perspective_of_point_of_sale_B_sub"
   ]
  },
  {
   "cell_type": "code",
   "execution_count": 102,
   "id": "5c7fb00d-e284-47a6-973c-39a7ff9a2c26",
   "metadata": {},
   "outputs": [
    {
     "data": {
      "image/png": "[encoded data removed]",
      "text/latex": [
       "$\\displaystyle \\frac{\\Delta{K_B} \\text{\\$}}{unit_{B}} = - \\frac{Y_{B} \\Delta{X_B} \\text{\\$}}{unit_{B}} + \\frac{\\Delta{X_B} \\lambda \\text{\\$}}{unit_{B}}$"
      ],
      "text/plain": [
       "\\Delta{K_B}⋅\\$     Y_B⋅\\Delta{X_B}⋅\\$   \\Delta{X_B}⋅\\lambda⋅\\$\n",
       "────────────── = - ────────────────── + ──────────────────────\n",
       "    unit_B               unit_B                 unit_B        "
      ]
     },
     "execution_count": 102,
     "metadata": {},
     "output_type": "execute_result"
    }
   ],
   "source": [
    "def delta_profit_perspective_of_surplus_value(x: str):\n",
    "    comp = company(x)\n",
    "    return sp.Eq(\n",
    "        delta(comp.profit, units=dollar / comp.unit),\n",
    "        sp.expand(\n",
    "            delta(comp.labor_time, units=hour / comp.unit) * lam\n",
    "            - comp.wage * delta(comp.labor_time, units=hour / comp.unit)\n",
    "        ),\n",
    "    )\n",
    "\n",
    "\n",
    "delta_profit_perspective_of_surplus_value_B = delta_profit_perspective_of_surplus_value(\n",
    "    \"B\"\n",
    ")\n",
    "delta_profit_perspective_of_surplus_value_B"
   ]
  },
  {
   "cell_type": "markdown",
   "id": "3556aeaa-469d-4c99-bc79-41aead62e937",
   "metadata": {},
   "source": [
    "Now take the difference of these two interpretations of delta profit.\n",
    "\n",
    "This says the price of the machine plus the the change in labor converted to dollars per unit minus the change in the sale price of the final good is zero."
   ]
  },
  {
   "cell_type": "code",
   "execution_count": 103,
   "id": "1bd033df-a907-4851-81a6-95bac8ad38c4",
   "metadata": {},
   "outputs": [
    {
     "data": {
      "image/png": "[encoded data removed]",
      "text/latex": [
       "$\\displaystyle 0 = - \\frac{Y_{B} \\Delta{X_B} \\text{\\$}}{unit_{B}} + \\frac{Z_{A} \\text{\\$}}{unit_{B}} + \\frac{\\Delta{X_B} \\lambda \\text{\\$}}{unit_{B}}$"
      ],
      "text/plain": [
       "      Y_B⋅\\Delta{X_B}⋅\\$   Z_A⋅\\$   \\Delta{X_B}⋅\\lambda⋅\\$\n",
       "0 = - ────────────────── + ────── + ──────────────────────\n",
       "            unit_B         unit_B           unit_B        "
      ]
     },
     "execution_count": 103,
     "metadata": {},
     "output_type": "execute_result"
    }
   ],
   "source": [
    "zero_eq = sp.Eq(\n",
    "    delta_profit_perspective_of_surplus_value_B.lhs\n",
    "    - delta_profit_perspective_of_point_of_sale_B_sub.lhs,\n",
    "    delta_profit_perspective_of_surplus_value_B.rhs\n",
    "    - delta_profit_perspective_of_point_of_sale_B_sub.rhs,\n",
    ")\n",
    "zero_eq"
   ]
  },
  {
   "cell_type": "markdown",
   "id": "596f2190-2d9c-4fe0-94ad-5810829f2571",
   "metadata": {},
   "source": [
    "So why aren't these equal? It's basically saying that these are equivalent when $-Z_A+\\Delta{Z_B}=\\Delta{X_B}*\\lambda$"
   ]
  },
  {
   "cell_type": "markdown",
   "id": "408539be-7481-4db9-9b48-3f0d5f96ade8",
   "metadata": {},
   "source": [
    "One way to interpret this is that $\\lambda$ (which is a highly speculative variable assuming all labor has a fixed exchange value per unit time) is equal somehow to the difference in the ratio of the price of the machine and the change in labor of the workers in units of final product per machine, and the ratio of the change in the price of the final product over the change in hours of the worker. Take that for what you will, it's a bit complicated for my taste. It could be used in a future theory of machines to derive such a value from data."
   ]
  },
  {
   "cell_type": "code",
   "execution_count": 104,
   "id": "76172df7-a634-4dec-a1e1-5a30a37fcf04",
   "metadata": {},
   "outputs": [
    {
     "data": {
      "image/png": "[encoded data removed]",
      "text/latex": [
       "$\\displaystyle \\lambda = Y_{B} - \\frac{Z_{A}}{\\Delta{X_B}}$"
      ],
      "text/plain": [
       "                    Z_A    \n",
       "\\lambda = Y_B - ───────────\n",
       "                \\Delta{X_B}"
      ]
     },
     "execution_count": 104,
     "metadata": {},
     "output_type": "execute_result"
    }
   ],
   "source": [
    "sp.Eq(lam / (dollar / hour), sp.expand(sp.solve(zero_eq.rhs, lam / (dollar / hour))[0]))"
   ]
  },
  {
   "cell_type": "markdown",
   "id": "32f72146-f795-4b46-b1d5-6ca812e8394d",
   "metadata": {},
   "source": [
    "Another way of looking at this is to say that the marxist definition of profit being extraction of surplus value from the worker is only true when this equality is true:"
   ]
  },
  {
   "cell_type": "code",
   "execution_count": 105,
   "id": "6f631a9f-09bd-476b-95ec-9b7da85a08fc",
   "metadata": {},
   "outputs": [
    {
     "data": {
      "image/png": "[encoded data removed]",
      "text/latex": [
       "$\\displaystyle \\Delta{X_B} = \\frac{Z_{A}}{Y_{B} - \\lambda}$"
      ],
      "text/plain": [
       "                   Z_A     \n",
       "\\Delta{X_B} = ─────────────\n",
       "              Y_B - \\lambda"
      ]
     },
     "execution_count": 105,
     "metadata": {},
     "output_type": "execute_result"
    }
   ],
   "source": [
    "delta_x_b = sp.Eq(\n",
    "    company(\"B\").labor_saving_value / (hour / B.unit),\n",
    "    sp.expand(sp.solve(zero_eq, company(\"B\").labor_saving_value / (hour / B.unit))[0]),\n",
    ")\n",
    "delta_x_b"
   ]
  },
  {
   "cell_type": "markdown",
   "id": "6012c3af-7518-4cff-98e6-174cb8d7658f",
   "metadata": {},
   "source": [
    "This says the marxist definition of profit will be true iff the difference in the labor saving hours of the machine is equal to the ratio of the cost of the machine per unit of production and the difference between wages and real value of labor.\n",
    "\n",
    "So:\n",
    "\n",
    "* If you increase the difference between the wage and the true value of labor, then the labor saving power of the machine is able to be less, because you can extract more profit from the workers to make up for the cost of the machine.\n",
    "* If you decrease the difference between the wage and the true value of labor, then the labor saving power of the machine is has to be more, because you can only extract so much profit from the workers to make up for the cost of the machine.\n",
    "* If you increase the cost of the machine, then the labor saving power of the machine needs to be more to extract the same profit.\n",
    "* If you decrease the cost of the machine, then the labor saving power of the machine needs to be less to extract the same profit.\n",
    "\n",
    "Other Research Questions:\n",
    "* $\\lambda$ could be loosened a bit to have a different conversion factor for each company. Different areas of work could have different \"value\". See what falls out of that model vs the current one.\n",
    "* What is the difference between `use-value - labor-value` as a factor of exploitation vs the more traditional marxist exploitation quantity of labor-value - labor-power? What if I used the product to do as the other capitalist does instead of selling it to them? Would that fit under roemer's exploitation theory?"
   ]
  },
  {
   "cell_type": "markdown",
   "id": "cf5e3b1b-7eb0-4577-8551-9d95921b8422",
   "metadata": {},
   "source": [
    "That seems perfectly reasonable. So given the assumptions are true, the surplus value theory of profix is compatible with the capitalist definition of profit."
   ]
  },
  {
   "cell_type": "code",
   "execution_count": null,
   "id": "4e9591a5-3a02-40cb-a714-5a0082861bae",
   "metadata": {},
   "outputs": [],
   "source": []
  }
 ],
 "metadata": {
  "jupytext": {
   "formats": "ipynb,py:percent"
  },
  "kernelspec": {
   "display_name": "Python 3 (ipykernel)",
   "language": "python",
   "name": "python3"
  },
  "language_info": {
   "codemirror_mode": {
    "name": "ipython",
    "version": 3
   },
   "file_extension": ".py",
   "mimetype": "text/x-python",
   "name": "python",
   "nbconvert_exporter": "python",
   "pygments_lexer": "ipython3",
   "version": "3.10.6"
  }
 },
 "nbformat": 4,
 "nbformat_minor": 5
}
