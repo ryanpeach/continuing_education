{
 "cells": [
  {
   "cell_type": "code",
   "execution_count": 2,
   "id": "2f91c398-3c54-48bf-8e46-5386fa03eaae",
   "metadata": {},
   "outputs": [],
   "source": [
    "%load_ext autoreload\n",
    "%autoreload 2"
   ]
  },
  {
   "cell_type": "code",
   "execution_count": 3,
   "id": "338f18be-a968-435b-bbbf-30f8fa09cd1b",
   "metadata": {},
   "outputs": [],
   "source": [
    "import sympy as sp\n",
    "from sympy.physics.units import hour, Unit"
   ]
  },
  {
   "cell_type": "code",
   "execution_count": 4,
   "id": "99020ea1-d1c3-490b-a4f8-a7184f9f5d23",
   "metadata": {},
   "outputs": [],
   "source": [
    "sp.init_printing()"
   ]
  },
  {
   "cell_type": "markdown",
   "id": "2e159f59-bb5f-44ec-8e20-715ab19ea730",
   "metadata": {},
   "source": [
    "# Symbols\n",
    "\n",
    "* Assume two capitalist running two companies A, B.\n",
    "* Company A sells machines. Machines have:\n",
    "  * A factor $n$ which is the number of units of production B per machine (unit of production A).\n",
    "  * $n$ == 0 if the machine is not working.\n",
    "  * Company B buys from company A one machine and uses it to produce units of production B.\n",
    "* The **labor time (labor value)** in company x is $X_x$ measured in hours per unit of production. It can vary given number of machines $N_x$.\n",
    "* The **wage (labor power)** for the employees at company x is $Y_x$ measured in dollars per hour. It can vary given number of machines $N_x$.\n",
    "* The **non wage expenses (constant capital)** of company x is $I_x$ measured in dollars per unit of production. It can vary given number of machines $N_x$.\n",
    "* The **selling price (exchange value)** for the final product in company x is $Z_x$ measured in dollars per unit of production. It can vary given number of machines $N_x$.\n",
    "* The **profit** for company x is $K_x$ measured in dollars per unit of production. It can vary given number of machines $N_x$.\n",
    "* Assume A produces a machine which when bought by B has a **labor saving factor** of $\\theta(N_x)$, which is multiplied by the labor time of B to produce the new labor time of per unit of production of B."
   ]
  },
  {
   "cell_type": "code",
   "execution_count": 5,
   "id": "80f5a936-e9a0-4f50-960e-23315497180f",
   "metadata": {},
   "outputs": [
    {
     "data": {
      "image/png": "[encoded data removed]",
      "text/latex": [
       "$\\displaystyle \\text{\\$}$"
      ],
      "text/plain": [
       "\\$"
      ]
     },
     "execution_count": 5,
     "metadata": {},
     "output_type": "execute_result"
    }
   ],
   "source": [
    "dollar = Unit(\"\\$\")\n",
    "dollar"
   ]
  },
  {
   "cell_type": "code",
   "execution_count": 23,
   "id": "945c518f-80cf-49a0-9fca-cb4067563bac",
   "metadata": {},
   "outputs": [
    {
     "data": {
      "image/png": "[encoded data removed]",
      "text/latex": [
       "$\\displaystyle \\left( \\left( \\frac{X_{A} \\text{hour}}{unit_{A}}, \\  \\frac{Y_{A} \\text{\\$}}{\\text{hour}}, \\  \\frac{Z_{A} \\text{\\$}}{unit_{A}}, \\  \\frac{I_{A} \\text{\\$}}{unit_{A}}, \\  \\frac{K_{A} \\text{\\$}}{unit_{A}}, \\  unit_{A}\\right), \\  \\left( \\frac{X_{B}{\\left(n \\right)} \\text{hour}}{unit_{B}}, \\  \\frac{Y_{B}{\\left(n \\right)} \\text{\\$}}{\\text{hour}}, \\  \\frac{Z_{B}{\\left(n \\right)} \\text{\\$}}{unit_{B}}, \\  \\frac{I_{B}{\\left(n \\right)} \\text{\\$}}{unit_{B}}, \\  \\frac{K_{B}{\\left(n \\right)} \\text{\\$}}{unit_{B}}, \\  unit_{B}\\right), \\  \\frac{n unit_{B}}{unit_{A}}\\right)$"
      ],
      "text/plain": [
       "⎛⎛X_A⋅hour  Y_A⋅\\$  Z_A⋅\\$  I_A⋅\\$  K_A⋅\\$        ⎞  ⎛X_B(n)⋅hour  Y_B(n)⋅\\$  \n",
       "⎜⎜────────, ──────, ──────, ──────, ──────, unit_A⎟, ⎜───────────, ─────────, \n",
       "⎝⎝ unit_A    hour   unit_A  unit_A  unit_A        ⎠  ⎝   unit_B       hour    \n",
       "\n",
       "Z_B(n)⋅\\$  I_B(n)⋅\\$  K_B(n)⋅\\$        ⎞  n⋅unit_B⎞\n",
       "─────────, ─────────, ─────────, unit_B⎟, ────────⎟\n",
       "  unit_B     unit_B     unit_B         ⎠   unit_A ⎠"
      ]
     },
     "execution_count": 23,
     "metadata": {},
     "output_type": "execute_result"
    }
   ],
   "source": [
    "from collections import namedtuple\n",
    "from functools import cache\n",
    "\n",
    "Company = namedtuple(\n",
    "    \"Company\",\n",
    "    [\n",
    "        \"labor_time\",\n",
    "        \"wage\",\n",
    "        \"selling_price\",\n",
    "        \"non_wage_expenses\",\n",
    "        \"profit\",\n",
    "        \"unit\",\n",
    "    ],\n",
    ")\n",
    "unit_A = sp.Symbol(\"unit_A\")\n",
    "A = Company(\n",
    "    labor_time=sp.Symbol(\"X_A\") * hour / unit_A,\n",
    "    wage=sp.Symbol(\"Y_A\") * dollar / hour,\n",
    "    selling_price=sp.Symbol(\"Z_A\") * dollar / unit_A,\n",
    "    non_wage_expenses=sp.Symbol(\"I_A\") * dollar / unit_A,\n",
    "    profit=sp.Symbol(\"K_A\") * dollar / unit_A,\n",
    "    unit = unit_A,\n",
    ")\n",
    "del unit_A # Use the definition in the tuple\n",
    "unit_B = sp.Symbol(\"unit_B\")\n",
    "n_unitless = sp.Symbol(\"n\")\n",
    "B = Company(\n",
    "    labor_time=sp.Function(\"X_B\")(n_unitless) * hour / unit_B,\n",
    "    wage=sp.Function(\"Y_B\")(n_unitless) * dollar / hour,\n",
    "    selling_price=sp.Function(\"Z_B\")(n_unitless) * dollar / unit_B,\n",
    "    non_wage_expenses=sp.Function(\"I_B\")(n_unitless) * dollar / unit_B,\n",
    "    profit=sp.Function(\"K_B\")(n_unitless) * dollar / unit_B,\n",
    "    unit = unit_B,\n",
    ")\n",
    "n = n_unitless * B.unit / A.unit  # Now give n units\n",
    "del unit_B # Use the definition in the tuple\n",
    "tuple(A), tuple(B), n"
   ]
  },
  {
   "cell_type": "markdown",
   "id": "e0dc08f6-b320-45f8-ab8f-dec0d22d6700",
   "metadata": {
    "lines_to_next_cell": 2
   },
   "source": [
    "# Definitions\n",
    "\n",
    "1. The cost of production per unit for company x == labor cost per unit + other cost per unit"
   ]
  },
  {
   "cell_type": "code",
   "execution_count": 19,
   "id": "63ad04b6-939a-43ac-9ec4-7b983078bf79",
   "metadata": {
    "lines_to_next_cell": 2
   },
   "outputs": [
    {
     "data": {
      "image/png": "[encoded data removed]",
      "text/latex": [
       "$\\displaystyle \\left( \\frac{I_{A} \\text{\\$}}{unit_{A}} + \\frac{X_{A} Y_{A} \\text{\\$}}{unit_{A}}, \\  \\frac{I_{B}{\\left(n \\right)} \\text{\\$}}{unit_{B}} + \\frac{X_{B}{\\left(n \\right)} Y_{B}{\\left(n \\right)} \\text{\\$}}{unit_{B}}\\right)$"
      ],
      "text/plain": [
       "⎛I_A⋅\\$   X_A⋅Y_A⋅\\$  I_B(n)⋅\\$   X_B(n)⋅Y_B(n)⋅\\$⎞\n",
       "⎜────── + ──────────, ───────── + ────────────────⎟\n",
       "⎝unit_A     unit_A      unit_B         unit_B     ⎠"
      ]
     },
     "execution_count": 19,
     "metadata": {},
     "output_type": "execute_result"
    }
   ],
   "source": [
    "def total_cost_of_production(x: str):\n",
    "    comp = A if x == \"A\" else B\n",
    "    return comp.wage * comp.labor_time + comp.non_wage_expenses\n",
    "\n",
    "\n",
    "total_cost_of_production(\"A\"), total_cost_of_production(\"B\")"
   ]
  },
  {
   "cell_type": "markdown",
   "id": "a757bd64-42cd-4d24-815c-dc234c071a21",
   "metadata": {
    "lines_to_next_cell": 2
   },
   "source": [
    "2. The profit to the capitalist is the difference in the selling price and the total cost of expenses"
   ]
  },
  {
   "cell_type": "code",
   "execution_count": 20,
   "id": "6eb7bd03-c2f0-451a-ac84-23deca769f46",
   "metadata": {},
   "outputs": [
    {
     "data": {
      "image/png": "[encoded data removed]",
      "text/latex": [
       "$\\displaystyle \\left( \\frac{K_{A} \\text{\\$}}{unit_{A}} = - \\frac{I_{A} \\text{\\$}}{unit_{A}} - \\frac{X_{A} Y_{A} \\text{\\$}}{unit_{A}} + \\frac{Z_{A} \\text{\\$}}{unit_{A}}, \\  \\frac{K_{B}{\\left(n \\right)} \\text{\\$}}{unit_{B}} = - \\frac{I_{B}{\\left(n \\right)} \\text{\\$}}{unit_{B}} - \\frac{X_{B}{\\left(n \\right)} Y_{B}{\\left(n \\right)} \\text{\\$}}{unit_{B}} + \\frac{Z_{B}{\\left(n \\right)} \\text{\\$}}{unit_{B}}\\right)$"
      ],
      "text/plain": [
       "⎛K_A⋅\\$     I_A⋅\\$   X_A⋅Y_A⋅\\$   Z_A⋅\\$  K_B(n)⋅\\$     I_B(n)⋅\\$   X_B(n)⋅Y_B\n",
       "⎜────── = - ────── - ────────── + ──────, ───────── = - ───────── - ──────────\n",
       "⎝unit_A     unit_A     unit_A     unit_A    unit_B        unit_B         unit_\n",
       "\n",
       "(n)⋅\\$   Z_B(n)⋅\\$⎞\n",
       "────── + ─────────⎟\n",
       "B          unit_B ⎠"
      ]
     },
     "execution_count": 20,
     "metadata": {},
     "output_type": "execute_result"
    }
   ],
   "source": [
    "def profit_perspective_of_point_of_sale(x: str):\n",
    "    comp = A if x == \"A\" else B\n",
    "    return sp.Eq(comp.profit, comp.selling_price - total_cost_of_production(x))\n",
    "\n",
    "\n",
    "profit_perspective_of_point_of_sale(\"A\"), profit_perspective_of_point_of_sale(\"B\")"
   ]
  },
  {
   "cell_type": "markdown",
   "id": "e70d4d95-fd2c-4c22-a80b-d54448409672",
   "metadata": {},
   "source": [
    "3. The difference between the non wage cost of production for company B before the machine and the non wage cost of production after the machine is equal to the cost of the machine (sold by company A)"
   ]
  },
  {
   "cell_type": "code",
   "execution_count": 24,
   "id": "72b92c78-d9e0-4bf3-a52d-996cd5f557a9",
   "metadata": {},
   "outputs": [
    {
     "data": {
      "image/png": "[encoded data removed]",
      "text/latex": [
       "$\\displaystyle \\frac{\\frac{d}{d n} I_{B}{\\left(n \\right)} \\text{\\$}}{unit_{B}} = \\frac{Z_{A} \\text{\\$}}{unit_{A}}$"
      ],
      "text/plain": [
       "d                     \n",
       "──(I_B(n))⋅\\$         \n",
       "dn              Z_A⋅\\$\n",
       "───────────── = ──────\n",
       "    unit_B      unit_A"
      ]
     },
     "execution_count": 24,
     "metadata": {},
     "output_type": "execute_result"
    }
   ],
   "source": [
    "delta_non_wage_expenses_B = sp.Eq(\n",
    "    sp.diff(B.non_wage_expenses, n_unitless),\n",
    "    A.selling_price\n",
    ")\n",
    "delta_non_wage_expenses_B"
   ]
  },
  {
   "cell_type": "markdown",
   "id": "59763688-5490-479c-990a-795cac5a0c65",
   "metadata": {},
   "source": [
    "# Assumptions\n",
    "\n",
    "1. Under marx's LtV, the exchange value of a good equals its labor value times some conversion factor $\\lambda$ measured in dollars per hour."
   ]
  },
  {
   "cell_type": "code",
   "execution_count": 25,
   "id": "fc4af7ae-1b5f-4532-8a09-d42b09b8c978",
   "metadata": {
    "lines_to_next_cell": 2
   },
   "outputs": [
    {
     "data": {
      "image/png": "[encoded data removed]",
      "text/latex": [
       "$\\displaystyle \\frac{Z_{B}{\\left(n \\right)} \\text{\\$}}{unit_{B}} = \\frac{\\lambda X_{B}{\\left(n \\right)} \\text{\\$}}{unit_{B}}$"
      ],
      "text/plain": [
       "Z_B(n)⋅\\$   \\lambda⋅X_B(n)⋅\\$\n",
       "───────── = ─────────────────\n",
       "  unit_B          unit_B     "
      ]
     },
     "execution_count": 25,
     "metadata": {},
     "output_type": "execute_result"
    }
   ],
   "source": [
    "lam = sp.Symbol(\"\\lambda\") * dollar / hour\n",
    "\n",
    "\n",
    "def LtV(x: str):\n",
    "    comp = A if x == \"A\" else B\n",
    "    return sp.Eq(comp.selling_price, comp.labor_time * lam)\n",
    "\n",
    "\n",
    "LtV(\"x\")"
   ]
  },
  {
   "cell_type": "markdown",
   "id": "6ec33bd0-3e10-428d-a1b0-ef9b5ef26d10",
   "metadata": {
    "lines_to_next_cell": 2
   },
   "source": [
    "2. Under max's theory of surplus value, profit is labor value (labor time converted into exchange value) minus labor power (wage)"
   ]
  },
  {
   "cell_type": "code",
   "execution_count": 26,
   "id": "d2edd091-7d6b-4b60-ad3e-8f54fcdebbd3",
   "metadata": {},
   "outputs": [
    {
     "data": {
      "image/png": "[encoded data removed]",
      "text/latex": [
       "$\\displaystyle \\frac{K_{B}{\\left(n \\right)} \\text{\\$}}{unit_{B}} = \\frac{\\left(\\lambda - Y_{B}{\\left(n \\right)}\\right) X_{B}{\\left(n \\right)} \\text{\\$}}{unit_{B}}$"
      ],
      "text/plain": [
       "K_B(n)⋅\\$   (\\lambda - Y_B(n))⋅X_B(n)⋅\\$\n",
       "───────── = ────────────────────────────\n",
       "  unit_B               unit_B           "
      ]
     },
     "execution_count": 26,
     "metadata": {},
     "output_type": "execute_result"
    }
   ],
   "source": [
    "def profit_perspective_of_surplus_value(x: str):\n",
    "    comp = A if x == \"A\" else B\n",
    "    return sp.Eq(\n",
    "        comp.profit, sp.simplify(comp.labor_time * lam - comp.wage * comp.labor_time)\n",
    "    )\n",
    "\n",
    "\n",
    "profit_perspective_of_surplus_value(\"x\")"
   ]
  },
  {
   "cell_type": "markdown",
   "id": "8de63407-e06b-4cd1-8c2c-10de9ab6a776",
   "metadata": {},
   "source": [
    "# Methodology"
   ]
  },
  {
   "cell_type": "markdown",
   "id": "f53f53b6-d1d6-4b25-8832-b26757eda937",
   "metadata": {
    "lines_to_next_cell": 2
   },
   "source": [
    "Because we are really talking about the change in profit, change in labor, etc, this will only be solved with differentials."
   ]
  },
  {
   "cell_type": "code",
   "execution_count": 27,
   "id": "31281310-04c4-4066-97b4-201e85d694ab",
   "metadata": {},
   "outputs": [
    {
     "data": {
      "image/png": "[encoded data removed]",
      "text/latex": [
       "$\\displaystyle \\frac{\\frac{d}{d n} I_{B}{\\left(n \\right)} \\text{\\$}}{unit_{B}}$"
      ],
      "text/plain": [
       "d            \n",
       "──(I_B(n))⋅\\$\n",
       "dn           \n",
       "─────────────\n",
       "    unit_B   "
      ]
     },
     "execution_count": 27,
     "metadata": {},
     "output_type": "execute_result"
    }
   ],
   "source": [
    "def delta_total_cost_of_production(x: str):\n",
    "    # Relative to change in non-wage expenses\n",
    "    comp = A if x == \"A\" else B\n",
    "    return sp.diff(comp.non_wage_expenses, n_unitless)\n",
    "\n",
    "\n",
    "delta_total_cost_of_production(\"x\")"
   ]
  },
  {
   "cell_type": "code",
   "execution_count": 30,
   "id": "cbde3ee3-83a7-411d-8408-c73fa5e3adf5",
   "metadata": {},
   "outputs": [
    {
     "data": {
      "image/png": "[encoded data removed]",
      "text/latex": [
       "$\\displaystyle \\frac{\\frac{d}{d n} K_{B}{\\left(n \\right)} \\text{\\$}}{unit_{B}} = - \\frac{X_{B}{\\left(n \\right)} \\frac{d}{d n} Y_{B}{\\left(n \\right)} \\text{\\$}}{unit_{B}} - \\frac{Y_{B}{\\left(n \\right)} \\frac{d}{d n} X_{B}{\\left(n \\right)} \\text{\\$}}{unit_{B}} - \\frac{\\frac{d}{d n} I_{B}{\\left(n \\right)} \\text{\\$}}{unit_{B}} + \\frac{\\frac{d}{d n} Z_{B}{\\left(n \\right)} \\text{\\$}}{unit_{B}}$"
      ],
      "text/plain": [
       "d                        d                      d               d             \n",
       "──(K_B(n))⋅\\$     X_B(n)⋅──(Y_B(n))⋅\\$   Y_B(n)⋅──(X_B(n))⋅\\$   ──(I_B(n))⋅\\$ \n",
       "dn                       dn                     dn              dn            \n",
       "───────────── = - ──────────────────── - ──────────────────── - ───────────── \n",
       "    unit_B               unit_B                 unit_B              unit_B    \n",
       "\n",
       "  d            \n",
       "  ──(Z_B(n))⋅\\$\n",
       "  dn           \n",
       "+ ─────────────\n",
       "      unit_B   "
      ]
     },
     "execution_count": 30,
     "metadata": {},
     "output_type": "execute_result"
    }
   ],
   "source": [
    "def delta_profit_perspective_of_point_of_sale(x: str):\n",
    "    # Relative to change in non-wage expenses\n",
    "    comp = A if x == \"A\" else B\n",
    "    eq = profit_perspective_of_point_of_sale(x)\n",
    "    return sp.Eq(\n",
    "        sp.diff(eq.lhs, n_unitless),\n",
    "        sp.diff(eq.rhs, n_unitless)\n",
    "    )\n",
    "\n",
    "\n",
    "delta_profit_perspective_of_point_of_sale(\"B\")"
   ]
  },
  {
   "cell_type": "markdown",
   "id": "aa0477a9-c79c-4baa-b166-1f439d3a6d0c",
   "metadata": {},
   "source": [
    "Substitute out that $\\Delta{I_B}$ using Equality #3"
   ]
  },
  {
   "cell_type": "code",
   "execution_count": 31,
   "id": "ce0d4c04-deed-44be-88dc-7973a72e96f2",
   "metadata": {},
   "outputs": [
    {
     "data": {
      "image/png": "[encoded data removed]",
      "text/latex": [
       "$\\displaystyle \\frac{\\frac{d}{d n} K_{B}{\\left(n \\right)} \\text{\\$}}{unit_{B}} = - \\frac{Z_{A} \\text{\\$}}{unit_{A}} - \\frac{X_{B}{\\left(n \\right)} \\frac{d}{d n} Y_{B}{\\left(n \\right)} \\text{\\$}}{unit_{B}} - \\frac{Y_{B}{\\left(n \\right)} \\frac{d}{d n} X_{B}{\\left(n \\right)} \\text{\\$}}{unit_{B}} + \\frac{\\frac{d}{d n} Z_{B}{\\left(n \\right)} \\text{\\$}}{unit_{B}}$"
      ],
      "text/plain": [
       "d                                 d                      d               d    \n",
       "──(K_B(n))⋅\\$              X_B(n)⋅──(Y_B(n))⋅\\$   Y_B(n)⋅──(X_B(n))⋅\\$   ──(Z_\n",
       "dn                Z_A⋅\\$          dn                     dn              dn   \n",
       "───────────── = - ────── - ──────────────────── - ──────────────────── + ─────\n",
       "    unit_B        unit_A          unit_B                 unit_B              u\n",
       "\n",
       "        \n",
       "B(n))⋅\\$\n",
       "        \n",
       "────────\n",
       "nit_B   "
      ]
     },
     "execution_count": 31,
     "metadata": {},
     "output_type": "execute_result"
    }
   ],
   "source": [
    "delta_profit_perspective_of_point_of_sale_B_sub = sp.Eq(\n",
    "    delta_profit_perspective_of_point_of_sale(\"B\").lhs,\n",
    "    delta_profit_perspective_of_point_of_sale(\"B\").rhs.subs(\n",
    "        delta_non_wage_expenses_B.lhs / dollar * B.unit,\n",
    "        delta_non_wage_expenses_B.rhs / dollar * B.unit,\n",
    "    ),\n",
    ")\n",
    "delta_profit_perspective_of_point_of_sale_B_sub"
   ]
  },
  {
   "cell_type": "code",
   "execution_count": 32,
   "id": "5c7fb00d-e284-47a6-973c-39a7ff9a2c26",
   "metadata": {},
   "outputs": [
    {
     "data": {
      "image/png": "[encoded data removed]",
      "text/latex": [
       "$\\displaystyle \\frac{\\frac{d}{d n} K_{B}{\\left(n \\right)} \\text{\\$}}{unit_{B}} = \\frac{\\left(\\lambda - Y_{B}{\\left(n \\right)}\\right) \\frac{d}{d n} X_{B}{\\left(n \\right)} \\text{\\$}}{unit_{B}} - \\frac{X_{B}{\\left(n \\right)} \\frac{d}{d n} Y_{B}{\\left(n \\right)} \\text{\\$}}{unit_{B}}$"
      ],
      "text/plain": [
       "d                                  d                      d            \n",
       "──(K_B(n))⋅\\$   (\\lambda - Y_B(n))⋅──(X_B(n))⋅\\$   X_B(n)⋅──(Y_B(n))⋅\\$\n",
       "dn                                 dn                     dn           \n",
       "───────────── = ──────────────────────────────── - ────────────────────\n",
       "    unit_B                   unit_B                       unit_B       "
      ]
     },
     "execution_count": 32,
     "metadata": {},
     "output_type": "execute_result"
    }
   ],
   "source": [
    "def delta_profit_perspective_of_surplus_value(x: str):\n",
    "    # Relative to change in labor time\n",
    "    comp = A if x == \"A\" else B\n",
    "    eq = profit_perspective_of_surplus_value(x)\n",
    "    return sp.Eq(\n",
    "        sp.diff(eq.lhs, n_unitless),\n",
    "        sp.diff(eq.rhs, n_unitless)\n",
    "    )\n",
    "\n",
    "\n",
    "delta_profit_perspective_of_surplus_value_B = delta_profit_perspective_of_surplus_value(\n",
    "    \"B\"\n",
    ")\n",
    "delta_profit_perspective_of_surplus_value_B"
   ]
  },
  {
   "cell_type": "markdown",
   "id": "3556aeaa-469d-4c99-bc79-41aead62e937",
   "metadata": {},
   "source": [
    "Take the difference of the right hand side of both.\n",
    "\n",
    "Because we did these differentials differently, taking their difference will relate them by what varies between them.\n",
    "\n",
    "In this case we are specifically interested in relating the change in non-wage expenses to the change in labor time, from the perspective of the marxist theory of value."
   ]
  },
  {
   "cell_type": "code",
   "execution_count": 33,
   "id": "1bd033df-a907-4851-81a6-95bac8ad38c4",
   "metadata": {},
   "outputs": [
    {
     "data": {
      "image/png": "[encoded data removed]",
      "text/latex": [
       "$\\displaystyle 0 = \\frac{Z_{A} \\text{\\$}}{unit_{A}} + \\frac{\\left(\\lambda - Y_{B}{\\left(n \\right)}\\right) \\frac{d}{d n} X_{B}{\\left(n \\right)} \\text{\\$}}{unit_{B}} + \\frac{Y_{B}{\\left(n \\right)} \\frac{d}{d n} X_{B}{\\left(n \\right)} \\text{\\$}}{unit_{B}} - \\frac{\\frac{d}{d n} Z_{B}{\\left(n \\right)} \\text{\\$}}{unit_{B}}$"
      ],
      "text/plain": [
       "                                d                      d               d      \n",
       "             (\\lambda - Y_B(n))⋅──(X_B(n))⋅\\$   Y_B(n)⋅──(X_B(n))⋅\\$   ──(Z_B(\n",
       "    Z_A⋅\\$                      dn                     dn              dn     \n",
       "0 = ────── + ──────────────────────────────── + ──────────────────── - ───────\n",
       "    unit_A                unit_B                       unit_B              uni\n",
       "\n",
       "      \n",
       "n))⋅\\$\n",
       "      \n",
       "──────\n",
       "t_B   "
      ]
     },
     "execution_count": 33,
     "metadata": {},
     "output_type": "execute_result"
    }
   ],
   "source": [
    "zero_eq = sp.Eq(\n",
    "    delta_profit_perspective_of_surplus_value_B.lhs\n",
    "    - delta_profit_perspective_of_point_of_sale_B_sub.lhs,\n",
    "    delta_profit_perspective_of_surplus_value_B.rhs\n",
    "    - delta_profit_perspective_of_point_of_sale_B_sub.rhs,\n",
    ")\n",
    "zero_eq"
   ]
  },
  {
   "cell_type": "markdown",
   "id": "408539be-7481-4db9-9b48-3f0d5f96ade8",
   "metadata": {},
   "source": [
    "One way to interpret this is that $\\lambda$ (which is a highly speculative variable assuming all labor has a fixed exchange value per unit time) is equal to the difference between the wage and the ratio of the price of the machine to the labor saving power of the machine."
   ]
  },
  {
   "cell_type": "code",
   "execution_count": 34,
   "id": "76172df7-a634-4dec-a1e1-5a30a37fcf04",
   "metadata": {},
   "outputs": [
    {
     "data": {
      "image/png": "[encoded data removed]",
      "text/latex": [
       "$\\displaystyle \\lambda = - \\frac{Z_{A} unit_{B}}{unit_{A} \\frac{d}{d n} X_{B}{\\left(n \\right)}} + \\frac{\\frac{d}{d n} Z_{B}{\\left(n \\right)}}{\\frac{d}{d n} X_{B}{\\left(n \\right)}}$"
      ],
      "text/plain": [
       "                                d         \n",
       "                                ──(Z_B(n))\n",
       "                Z_A⋅unit_B      dn        \n",
       "\\lambda = - ───────────────── + ──────────\n",
       "                   d            d         \n",
       "            unit_A⋅──(X_B(n))   ──(X_B(n))\n",
       "                   dn           dn        "
      ]
     },
     "execution_count": 34,
     "metadata": {},
     "output_type": "execute_result"
    }
   ],
   "source": [
    "sp.Eq(lam / (dollar / hour), sp.expand(sp.solve(zero_eq.rhs, lam / (dollar / hour))[0]))"
   ]
  },
  {
   "cell_type": "markdown",
   "id": "32f72146-f795-4b46-b1d5-6ca812e8394d",
   "metadata": {},
   "source": [
    "Another way of looking at this is to say that the marxist definition of profit being extraction of surplus value from the worker is only true when this equality is true:"
   ]
  },
  {
   "cell_type": "code",
   "execution_count": 38,
   "id": "6f631a9f-09bd-476b-95ec-9b7da85a08fc",
   "metadata": {},
   "outputs": [
    {
     "data": {
      "image/png": "[encoded data removed]",
      "text/latex": [
       "$\\displaystyle \\frac{\\frac{d}{d n} X_{B}{\\left(n \\right)} \\text{hour}}{unit_{B}} = \\frac{- Z_{A} unit_{B} + unit_{A} \\frac{d}{d n} Z_{B}{\\left(n \\right)}}{\\lambda unit_{A}}$"
      ],
      "text/plain": [
       "d                                      d         \n",
       "──(X_B(n))⋅hour   -Z_A⋅unit_B + unit_A⋅──(Z_B(n))\n",
       "dn                                     dn        \n",
       "─────────────── = ───────────────────────────────\n",
       "     unit_B                \\lambda⋅unit_A        "
      ]
     },
     "execution_count": 38,
     "metadata": {},
     "output_type": "execute_result"
    }
   ],
   "source": [
    "delta_x_b = sp.Eq(\n",
    "    sp.diff(B.labor_time, n_unitless),\n",
    "    sp.solve(zero_eq, sp.diff(B.labor_time, n_unitless) * B.unit / hour)[0]\n",
    ")\n",
    "delta_x_b"
   ]
  },
  {
   "cell_type": "markdown",
   "id": "6012c3af-7518-4cff-98e6-174cb8d7658f",
   "metadata": {},
   "source": [
    "This says the marxist definition of profit will be true iff the difference in the labor saving hours of the machine is equal to the ratio of the cost of the machine per unit of production and the difference between wages and real value of labor.\n",
    "\n",
    "So:\n",
    "\n",
    "* If you increase the difference between the wage and the true value of labor, then the labor saving power of the machine is able to be less, because you can extract more profit from the workers to make up for the cost of the machine.\n",
    "* If you decrease the difference between the wage and the true value of labor, then the labor saving power of the machine is has to be more, because you can only extract so much profit from the workers to make up for the cost of the machine.\n",
    "* If you increase the cost of the machine, then the labor saving power of the machine needs to be more to cancel out the cost.\n",
    "* If you decrease the cost of the machine, then the labor saving power of the machine needs to be less to cancel out the cost.\n",
    "* If you increase the lifespan of the machine in units produced, then the labor saving power of the machine does not need to be as high per unit of production to cancel out the cost.\n",
    "* If you decrease the lifespan of the machine in units produced, then the labor saving power of the machine needs to be higher per unit of production to cancel out the cost.\n",
    "\n",
    "Other Research Questions:\n",
    "* $\\lambda$ could be loosened a bit to have a different conversion factor for each company. Different areas of work could have different \"value\". See what falls out of that model vs the current one.\n",
    "* You can get rid of lambda and just use wage if you do not believe in LtV. The point of sale equation can be differentiated along the change in labor time dimension to eliminate the $-\\lambda$ term in the final result.\n",
    "* What is the difference between `use-value - labor-value` as a factor of exploitation vs the more traditional marxist exploitation quantity of labor-value - labor-power? What if I used the product to do as the other capitalist does instead of selling it to them? Would that fit under roemer's exploitation theory?"
   ]
  },
  {
   "cell_type": "markdown",
   "id": "cf5e3b1b-7eb0-4577-8551-9d95921b8422",
   "metadata": {},
   "source": [
    "That seems perfectly reasonable. So given the assumptions are true, the surplus value theory of profix is compatible with the capitalist definition of profit."
   ]
  }
 ],
 "metadata": {
  "jupytext": {
   "formats": "ipynb,py:percent"
  },
  "kernelspec": {
   "display_name": "Python 3 (ipykernel)",
   "language": "python",
   "name": "python3"
  },
  "language_info": {
   "codemirror_mode": {
    "name": "ipython",
    "version": 3
   },
   "file_extension": ".py",
   "mimetype": "text/x-python",
   "name": "python",
   "nbconvert_exporter": "python",
   "pygments_lexer": "ipython3",
   "version": "3.10.6"
  }
 },
 "nbformat": 4,
 "nbformat_minor": 5
}
