{
 "cells": [
  {
   "cell_type": "code",
   "execution_count": 6,
   "metadata": {},
   "outputs": [],
   "source": [
    "from sympy import Function\n",
    "from sympy.physics.units import Quantity\n",
    "from sympy import symbols\n",
    "from sympy import init_printing\n",
    "\n",
    "init_printing()"
   ]
  },
  {
   "cell_type": "code",
   "execution_count": 5,
   "metadata": {},
   "outputs": [
    {
     "data": {
      "text/latex": [
       "$\\displaystyle V{\\left(\\text{corn} \\right)}$"
      ],
      "text/plain": [
       "V(corn)"
      ]
     },
     "execution_count": 5,
     "metadata": {},
     "output_type": "execute_result"
    }
   ],
   "source": [
    "# Functions\n",
    "value_function = Function(\"V\", real=True)\n",
    "labor_function = Function(\"L\", real=True)\n",
    "\n",
    "# Units\n",
    "unit_corn = Quantity(\"corn\", abbrev=\"cr\")\n",
    "unit_hoes = Quantity(\"hoes\", abbrev=\"ho\")\n",
    "unit_hour = Quantity(\"hour\", abbrev=\"hr\")\n",
    "\n",
    "# Quantities\n",
    "quantity_corn = symbols(\"corn\")"
   ]
  }
 ],
 "metadata": {
  "kernelspec": {
   "display_name": "continuing-education-vJKa4-To-py3.10",
   "language": "python",
   "name": "python3"
  },
  "language_info": {
   "codemirror_mode": {
    "name": "ipython",
    "version": 3
   },
   "file_extension": ".py",
   "mimetype": "text/x-python",
   "name": "python",
   "nbconvert_exporter": "python",
   "pygments_lexer": "ipython3",
   "version": "3.10.6"
  }
 },
 "nbformat": 4,
 "nbformat_minor": 2
}
